{
  "nbformat": 4,
  "nbformat_minor": 0,
  "metadata": {
    "colab": {
      "name": "LR&SVM.ipynb",
      "provenance": [],
      "collapsed_sections": [
        "M0luzVsihchi",
        "HulKewr4g5ld",
        "g3XjFRRCypqx",
        "UNkKlzAvXBwR"
      ],
      "include_colab_link": true
    },
    "kernelspec": {
      "name": "python3",
      "display_name": "Python 3"
    },
    "language_info": {
      "name": "python"
    },
    "accelerator": "GPU"
  },
  "cells": [
    {
      "cell_type": "markdown",
      "metadata": {
        "id": "view-in-github",
        "colab_type": "text"
      },
      "source": [
        "<a href=\"https://colab.research.google.com/github/Kalit31/Data-Mining-Assignment/blob/main/LR%26SVM.ipynb\" target=\"_parent\"><img src=\"https://colab.research.google.com/assets/colab-badge.svg\" alt=\"Open In Colab\"/></a>"
      ]
    },
    {
      "cell_type": "code",
      "metadata": {
        "colab": {
          "base_uri": "https://localhost:8080/"
        },
        "id": "mLm7mnqoebYV",
        "outputId": "605e27ab-d2d1-4c29-86cb-8ade8faeec26"
      },
      "source": [
        "from google.colab import drive\n",
        "drive.mount('/content/gdrive')"
      ],
      "execution_count": null,
      "outputs": [
        {
          "output_type": "stream",
          "text": [
            "Mounted at /content/gdrive\n"
          ],
          "name": "stdout"
        }
      ]
    },
    {
      "cell_type": "code",
      "metadata": {
        "id": "1xONjWwcmjoH"
      },
      "source": [
        "# import necessary packages\n",
        "import pandas as pd\n",
        "import numpy as np\n",
        "\n",
        "\n",
        "from sklearn.metrics import accuracy_score, f1_score, classification_report\n",
        "from sklearn.feature_extraction.text import CountVectorizer\n",
        "from sklearn.feature_extraction.text import TfidfVectorizer\n",
        "from sklearn.pipeline import Pipeline, FeatureUnion\n",
        "from sklearn.linear_model import  LogisticRegression\n",
        "from sklearn import svm\n",
        "\n",
        "from scipy.sparse import coo_matrix, hstack\n",
        "\n",
        "from gensim.scripts.glove2word2vec import glove2word2vec\n",
        "from gensim.models import KeyedVectors\n",
        "\n",
        "import warnings\n",
        "warnings.filterwarnings(\"ignore\")"
      ],
      "execution_count": null,
      "outputs": []
    },
    {
      "cell_type": "code",
      "metadata": {
        "id": "MECeWPPObh1s"
      },
      "source": [
        "df_pre=pd.read_csv('/content/gdrive/My Drive/DM project/data_preprocessed.csv')"
      ],
      "execution_count": null,
      "outputs": []
    },
    {
      "cell_type": "code",
      "metadata": {
        "colab": {
          "base_uri": "https://localhost:8080/"
        },
        "id": "vMpi6_FabuQX",
        "outputId": "93eac776-92a8-4c52-edc9-2df81f8ed5df"
      },
      "source": [
        "traindata=df_pre[df_pre['train-test-val']==0]\n",
        "print(traindata.shape)\n",
        "valdata=df_pre[df_pre['train-test-val']==1]\n",
        "print(valdata.shape)\n",
        "testdata=df_pre[df_pre['train-test-val']==2]\n",
        "print(testdata.shape)"
      ],
      "execution_count": null,
      "outputs": [
        {
          "output_type": "stream",
          "text": [
            "(10240, 289)\n",
            "(1284, 289)\n",
            "(1267, 289)\n"
          ],
          "name": "stdout"
        }
      ]
    },
    {
      "cell_type": "code",
      "metadata": {
        "id": "kxO9EgTk4pyT"
      },
      "source": [
        "# traindata.reset_index(drop=True)\n",
        "# valdata.reset_index(drop=True)\n",
        "# testdata.reset_index(drop=True)"
      ],
      "execution_count": null,
      "outputs": []
    },
    {
      "cell_type": "code",
      "metadata": {
        "id": "jv2FR1cVnhZl"
      },
      "source": [
        "labelsList=['barely-true','false','half-true','mostly-true','pants-fire','true']\n",
        "is_fakeList=['false','true']"
      ],
      "execution_count": null,
      "outputs": []
    },
    {
      "cell_type": "markdown",
      "metadata": {
        "id": "M0luzVsihchi"
      },
      "source": [
        "# Functions"
      ]
    },
    {
      "cell_type": "code",
      "metadata": {
        "id": "viP8FNm57MOW"
      },
      "source": [
        "class Word2VecVectorizer:\n",
        "  def __init__(self, model):\n",
        "    print(\"Loading in word vectors...\")\n",
        "    self.word_vectors = model\n",
        "    print(\"Finished loading in word vectors\")\n",
        "\n",
        "  def fit(self, data):\n",
        "    pass\n",
        "\n",
        "  def transform(self, data):\n",
        "    # determine the dimensionality of vectors\n",
        "    v = self.word_vectors.get_vector('king')\n",
        "    self.D = v.shape[0]\n",
        "\n",
        "    X = np.zeros((len(data), self.D))\n",
        "    n = 0\n",
        "    emptycount = 0\n",
        "    for sentence in data:\n",
        "      tokens = sentence.split()\n",
        "      vecs = []\n",
        "      m = 0\n",
        "      for word in tokens:\n",
        "        try:\n",
        "          # throws KeyError if word not found\n",
        "          vec = self.word_vectors.get_vector(word)\n",
        "          vecs.append(vec)\n",
        "          m += 1\n",
        "        except KeyError:\n",
        "          pass\n",
        "      if len(vecs) > 0:\n",
        "        vecs = np.array(vecs)\n",
        "        X[n] = vecs.mean(axis=0)\n",
        "      else:\n",
        "        emptycount += 1\n",
        "      n += 1\n",
        "    print(\"Numer of samples with no words found: %s / %s\" % (emptycount, len(data)))\n",
        "    return X\n",
        "\n",
        "\n",
        "  def fit_transform(self, data):\n",
        "    self.fit(data)\n",
        "    return self.transform(data)"
      ],
      "execution_count": null,
      "outputs": []
    },
    {
      "cell_type": "markdown",
      "metadata": {
        "id": "xlLFjtrVbPxf"
      },
      "source": [
        "# **Six-Way Classification**"
      ]
    },
    {
      "cell_type": "markdown",
      "metadata": {
        "id": "PLxgGoo2bwMG"
      },
      "source": [
        "## S condition"
      ]
    },
    {
      "cell_type": "code",
      "metadata": {
        "id": "mdUpHTpwb6C0"
      },
      "source": [
        "#unigram features\n",
        "cvec = CountVectorizer()\n",
        "X_train = cvec.fit_transform(traindata['Statement'])\n",
        "X_val = cvec.transform(valdata['Statement'])\n",
        "X_test = cvec.transform(testdata['Statement'])"
      ],
      "execution_count": null,
      "outputs": []
    },
    {
      "cell_type": "code",
      "metadata": {
        "id": "ibQzzrnV8IiJ"
      },
      "source": [
        "#tf-idf weighted unigram features\n",
        "tfidf = TfidfVectorizer()\n",
        "Xt_train = tfidf.fit_transform(traindata['Statement'])\n",
        "Xt_val = tfidf.transform(valdata['Statement'])\n",
        "Xt_test = tfidf.transform(testdata['Statement'])"
      ],
      "execution_count": null,
      "outputs": []
    },
    {
      "cell_type": "code",
      "metadata": {
        "colab": {
          "base_uri": "https://localhost:8080/"
        },
        "id": "pO7O_aQK8ItL",
        "outputId": "b853de45-224d-420f-af0f-9a783f5a6d5d"
      },
      "source": [
        "# Glove word embeddings\n",
        "word2vec_output_file = 'glove.6B.50d' +'.word2vec'\n",
        "glove2word2vec('/content/gdrive/My Drive/DM project/glove.6B.50d.txt', word2vec_output_file)\n",
        "model = KeyedVectors.load_word2vec_format(word2vec_output_file, binary=False)\n",
        "vectorizer = Word2VecVectorizer(model)"
      ],
      "execution_count": null,
      "outputs": [
        {
          "output_type": "stream",
          "text": [
            "Loading in word vectors...\n",
            "Finished loading in word vectors\n"
          ],
          "name": "stdout"
        }
      ]
    },
    {
      "cell_type": "code",
      "metadata": {
        "id": "ubnogZoB8vAi",
        "colab": {
          "base_uri": "https://localhost:8080/"
        },
        "outputId": "34b96f01-ef5c-4674-8477-f90d7e9af5e6"
      },
      "source": [
        "Xg_train = vectorizer.fit_transform(traindata['Statement'])\n",
        "print(Xg_train.shape)\n",
        "Xg_val = vectorizer.transform(valdata['Statement'])\n",
        "Xg_test = vectorizer.transform(testdata['Statement'])"
      ],
      "execution_count": null,
      "outputs": [
        {
          "output_type": "stream",
          "text": [
            "Numer of samples with no words found: 0 / 7212\n",
            "(7212, 300)\n",
            "Numer of samples with no words found: 0 / 929\n",
            "Numer of samples with no words found: 0 / 924\n"
          ],
          "name": "stdout"
        }
      ]
    },
    {
      "cell_type": "markdown",
      "metadata": {
        "id": "kEVLPjl_Qw2J"
      },
      "source": [
        "### SVM"
      ]
    },
    {
      "cell_type": "code",
      "metadata": {
        "id": "8V5DsoXAQtTs"
      },
      "source": [
        "SVM = svm.LinearSVC()"
      ],
      "execution_count": null,
      "outputs": []
    },
    {
      "cell_type": "code",
      "metadata": {
        "colab": {
          "base_uri": "https://localhost:8080/"
        },
        "id": "P47-kYewQtT4",
        "outputId": "e8de7e6e-6614-4f7a-8ae6-c9d511a590c6"
      },
      "source": [
        "SVM.fit(X_train, traindata['Label']) "
      ],
      "execution_count": null,
      "outputs": [
        {
          "output_type": "execute_result",
          "data": {
            "text/plain": [
              "LinearSVC(C=1.0, class_weight=None, dual=True, fit_intercept=True,\n",
              "          intercept_scaling=1, loss='squared_hinge', max_iter=1000,\n",
              "          multi_class='ovr', penalty='l2', random_state=None, tol=0.0001,\n",
              "          verbose=0)"
            ]
          },
          "metadata": {
            "tags": []
          },
          "execution_count": 12
        }
      ]
    },
    {
      "cell_type": "code",
      "metadata": {
        "id": "LOOQMLE7QtT6",
        "colab": {
          "base_uri": "https://localhost:8080/"
        },
        "outputId": "8ff060e2-a0de-4d4c-851c-44f48ac41586"
      },
      "source": [
        "print(classification_report(valdata['Label'], SVM.predict(X_val),target_names=labelsList,digits=4))\n",
        "print(np.mean(SVM.predict(X_val)== valdata['Label']))"
      ],
      "execution_count": null,
      "outputs": [
        {
          "output_type": "stream",
          "text": [
            "              precision    recall  f1-score   support\n",
            "\n",
            " barely-true     0.2476    0.2194    0.2327       237\n",
            "       false     0.2963    0.3042    0.3002       263\n",
            "   half-true     0.2435    0.2661    0.2543       248\n",
            " mostly-true     0.2355    0.2271    0.2312       251\n",
            "  pants-fire     0.2062    0.1724    0.1878       116\n",
            "        true     0.2113    0.2426    0.2259       169\n",
            "\n",
            "    accuracy                         0.2461      1284\n",
            "   macro avg     0.2401    0.2386    0.2387      1284\n",
            "weighted avg     0.2459    0.2461    0.2455      1284\n",
            "\n",
            "0.24610591900311526\n"
          ],
          "name": "stdout"
        }
      ]
    },
    {
      "cell_type": "code",
      "metadata": {
        "id": "0vpj1Ce_QtT6",
        "colab": {
          "base_uri": "https://localhost:8080/"
        },
        "outputId": "3d59c144-4658-4612-eb52-640220c498bb"
      },
      "source": [
        "print(classification_report(testdata['Label'], SVM.predict(X_test),target_names=labelsList,digits=4))\n",
        "np.mean(SVM.predict(X_test)== testdata['Label'])"
      ],
      "execution_count": null,
      "outputs": [
        {
          "output_type": "stream",
          "text": [
            "              precision    recall  f1-score   support\n",
            "\n",
            " barely-true     0.2207    0.2119    0.2162       151\n",
            "       false     0.2747    0.2732    0.2740       183\n",
            "   half-true     0.2295    0.2143    0.2216       196\n",
            " mostly-true     0.2564    0.2717    0.2639       184\n",
            "  pants-fire     0.1071    0.1176    0.1121        51\n",
            "        true     0.1902    0.1950    0.1925       159\n",
            "\n",
            "    accuracy                         0.2284       924\n",
            "   macro avg     0.2131    0.2140    0.2134       924\n",
            "weighted avg     0.2289    0.2284    0.2285       924\n",
            "\n"
          ],
          "name": "stdout"
        },
        {
          "output_type": "execute_result",
          "data": {
            "text/plain": [
              "0.22835497835497837"
            ]
          },
          "metadata": {
            "tags": []
          },
          "execution_count": 35
        }
      ]
    },
    {
      "cell_type": "code",
      "metadata": {
        "id": "c_zzrcNBQtT7",
        "colab": {
          "base_uri": "https://localhost:8080/"
        },
        "outputId": "22dced5c-2f59-4a9b-8414-e912096c7f5f"
      },
      "source": [
        "SVM.fit(Xt_train, traindata['Label'])"
      ],
      "execution_count": null,
      "outputs": [
        {
          "output_type": "execute_result",
          "data": {
            "text/plain": [
              "LinearSVC(C=1.0, class_weight=None, dual=True, fit_intercept=True,\n",
              "          intercept_scaling=1, loss='squared_hinge', max_iter=1000,\n",
              "          multi_class='ovr', penalty='l2', random_state=None, tol=0.0001,\n",
              "          verbose=0)"
            ]
          },
          "metadata": {
            "tags": []
          },
          "execution_count": 36
        }
      ]
    },
    {
      "cell_type": "code",
      "metadata": {
        "id": "DQcFJmlqQtT8",
        "colab": {
          "base_uri": "https://localhost:8080/"
        },
        "outputId": "ecfca43b-ab48-4e88-961b-f85a92252bc5"
      },
      "source": [
        "print(classification_report(valdata['Label'], SVM.predict(Xt_val),target_names=labelsList,digits=4))\n",
        "np.mean(SVM.predict(Xt_val)== valdata['Label'])"
      ],
      "execution_count": null,
      "outputs": [
        {
          "output_type": "stream",
          "text": [
            "              precision    recall  f1-score   support\n",
            "\n",
            " barely-true     0.2119    0.1893    0.2000       169\n",
            "       false     0.2376    0.2553    0.2462       188\n",
            "   half-true     0.2361    0.2772    0.2550       184\n",
            " mostly-true     0.2556    0.2460    0.2507       187\n",
            "  pants-fire     0.3030    0.1408    0.1923        71\n",
            "        true     0.1905    0.2154    0.2022       130\n",
            "\n",
            "    accuracy                         0.2314       929\n",
            "   macro avg     0.2391    0.2207    0.2244       929\n",
            "weighted avg     0.2347    0.2314    0.2302       929\n",
            "\n"
          ],
          "name": "stdout"
        },
        {
          "output_type": "execute_result",
          "data": {
            "text/plain": [
              "0.23143164693218515"
            ]
          },
          "metadata": {
            "tags": []
          },
          "execution_count": 37
        }
      ]
    },
    {
      "cell_type": "code",
      "metadata": {
        "id": "1PVcLusOQtT8",
        "colab": {
          "base_uri": "https://localhost:8080/"
        },
        "outputId": "b1926a71-11bd-425e-f8a4-43b9d83811a9"
      },
      "source": [
        "print(classification_report(testdata['Label'], SVM.predict(Xt_test),target_names=labelsList,digits=4))\n",
        "np.mean(SVM.predict(Xt_test)== testdata['Label'])"
      ],
      "execution_count": null,
      "outputs": [
        {
          "output_type": "stream",
          "text": [
            "              precision    recall  f1-score   support\n",
            "\n",
            " barely-true     0.2061    0.1788    0.1915       151\n",
            "       false     0.2717    0.2732    0.2725       183\n",
            "   half-true     0.2362    0.2398    0.2380       196\n",
            " mostly-true     0.2244    0.2500    0.2365       184\n",
            "  pants-fire     0.1628    0.1373    0.1489        51\n",
            "        true     0.2160    0.2201    0.2181       159\n",
            "\n",
            "    accuracy                         0.2294       924\n",
            "   macro avg     0.2195    0.2165    0.2176       924\n",
            "weighted avg     0.2284    0.2294    0.2286       924\n",
            "\n"
          ],
          "name": "stdout"
        },
        {
          "output_type": "execute_result",
          "data": {
            "text/plain": [
              "0.22943722943722944"
            ]
          },
          "metadata": {
            "tags": []
          },
          "execution_count": 38
        }
      ]
    },
    {
      "cell_type": "code",
      "metadata": {
        "id": "tYNsDeSMQtT-",
        "colab": {
          "base_uri": "https://localhost:8080/"
        },
        "outputId": "22b0e6da-9d1a-4bcd-d22b-1c7cfe893a1b"
      },
      "source": [
        "SVM.fit(Xg_train, traindata['Label'])"
      ],
      "execution_count": null,
      "outputs": [
        {
          "output_type": "execute_result",
          "data": {
            "text/plain": [
              "LinearSVC(C=1.0, class_weight=None, dual=True, fit_intercept=True,\n",
              "          intercept_scaling=1, loss='squared_hinge', max_iter=1000,\n",
              "          multi_class='ovr', penalty='l2', random_state=None, tol=0.0001,\n",
              "          verbose=0)"
            ]
          },
          "metadata": {
            "tags": []
          },
          "execution_count": 39
        }
      ]
    },
    {
      "cell_type": "code",
      "metadata": {
        "id": "DZzA3kQ7QtT_",
        "colab": {
          "base_uri": "https://localhost:8080/"
        },
        "outputId": "5b0ed10b-4ec4-4b89-9c6c-53c86d9fe3b8"
      },
      "source": [
        "print(classification_report(testdata['Label'], SVM.predict(Xg_test),target_names=labelsList,digits=4))\n",
        "np.mean(SVM.predict(Xg_test)== testdata['Label'])"
      ],
      "execution_count": null,
      "outputs": [
        {
          "output_type": "stream",
          "text": [
            "              precision    recall  f1-score   support\n",
            "\n",
            " barely-true     0.2532    0.1325    0.1739       151\n",
            "       false     0.2610    0.3552    0.3009       183\n",
            "   half-true     0.2458    0.3010    0.2706       196\n",
            " mostly-true     0.2629    0.3043    0.2821       184\n",
            "  pants-fire     0.1333    0.0392    0.0606        51\n",
            "        true     0.2578    0.2075    0.2300       159\n",
            "\n",
            "    accuracy                         0.2543       924\n",
            "   macro avg     0.2357    0.2233    0.2197       924\n",
            "weighted avg     0.2493    0.2543    0.2445       924\n",
            "\n"
          ],
          "name": "stdout"
        },
        {
          "output_type": "execute_result",
          "data": {
            "text/plain": [
              "0.25432900432900435"
            ]
          },
          "metadata": {
            "tags": []
          },
          "execution_count": 40
        }
      ]
    },
    {
      "cell_type": "code",
      "metadata": {
        "id": "GCoYODxcQtT_",
        "colab": {
          "base_uri": "https://localhost:8080/"
        },
        "outputId": "9782a393-ff43-4964-f554-5b9383365609"
      },
      "source": [
        "print(classification_report(valdata['Label'], SVM.predict(Xg_val),target_names=labelsList,digits=4))\n",
        "np.mean(SVM.predict(Xg_val)== valdata['Label'])"
      ],
      "execution_count": null,
      "outputs": [
        {
          "output_type": "stream",
          "text": [
            "              precision    recall  f1-score   support\n",
            "\n",
            " barely-true     0.1905    0.1183    0.1460       169\n",
            "       false     0.2759    0.3404    0.3048       188\n",
            "   half-true     0.2161    0.2772    0.2429       184\n",
            " mostly-true     0.2044    0.2460    0.2233       187\n",
            "  pants-fire     0.1818    0.0282    0.0488        71\n",
            "        true     0.2083    0.1923    0.2000       130\n",
            "\n",
            "    accuracy                         0.2239       929\n",
            "   macro avg     0.2128    0.2004    0.1943       929\n",
            "weighted avg     0.2175    0.2239    0.2130       929\n",
            "\n"
          ],
          "name": "stdout"
        },
        {
          "output_type": "execute_result",
          "data": {
            "text/plain": [
              "0.2238966630785791"
            ]
          },
          "metadata": {
            "tags": []
          },
          "execution_count": 41
        }
      ]
    },
    {
      "cell_type": "markdown",
      "metadata": {
        "id": "HulKewr4g5ld"
      },
      "source": [
        "### LR"
      ]
    },
    {
      "cell_type": "code",
      "metadata": {
        "id": "e-4cTmccgYkd"
      },
      "source": [
        "lr = LogisticRegression()\n"
      ],
      "execution_count": null,
      "outputs": []
    },
    {
      "cell_type": "code",
      "metadata": {
        "colab": {
          "base_uri": "https://localhost:8080/"
        },
        "id": "WRfFCwRug2Ak",
        "outputId": "9c34d7f8-a325-446b-9f37-a856b80b17ed"
      },
      "source": [
        "lr.fit(X_train, traindata['Label']) \n"
      ],
      "execution_count": null,
      "outputs": [
        {
          "output_type": "execute_result",
          "data": {
            "text/plain": [
              "LogisticRegression(C=1.0, class_weight=None, dual=False, fit_intercept=True,\n",
              "                   intercept_scaling=1, l1_ratio=None, max_iter=100,\n",
              "                   multi_class='auto', n_jobs=None, penalty='l2',\n",
              "                   random_state=None, solver='lbfgs', tol=0.0001, verbose=0,\n",
              "                   warm_start=False)"
            ]
          },
          "metadata": {
            "tags": []
          },
          "execution_count": 43
        }
      ]
    },
    {
      "cell_type": "code",
      "metadata": {
        "colab": {
          "base_uri": "https://localhost:8080/"
        },
        "id": "6H9I0TdwjYxu",
        "outputId": "a238758a-aeda-4ea8-fc9f-e7df03544897"
      },
      "source": [
        "print(classification_report(valdata['Label'], lr.predict(X_val),target_names=labelsList,digits=4))\n",
        "print(np.mean(lr.predict(X_val)== valdata['Label']))"
      ],
      "execution_count": null,
      "outputs": [
        {
          "output_type": "stream",
          "text": [
            "              precision    recall  f1-score   support\n",
            "\n",
            " barely-true     0.2400    0.2130    0.2257       169\n",
            "       false     0.2217    0.2606    0.2396       188\n",
            "   half-true     0.2383    0.2500    0.2440       184\n",
            " mostly-true     0.2626    0.2513    0.2568       187\n",
            "  pants-fire     0.3333    0.1549    0.2115        71\n",
            "        true     0.1895    0.2231    0.2049       130\n",
            "\n",
            "    accuracy                         0.2347       929\n",
            "   macro avg     0.2476    0.2255    0.2304       929\n",
            "weighted avg     0.2406    0.2347    0.2344       929\n",
            "\n",
            "0.23466092572658773\n"
          ],
          "name": "stdout"
        }
      ]
    },
    {
      "cell_type": "code",
      "metadata": {
        "colab": {
          "base_uri": "https://localhost:8080/"
        },
        "id": "Y48YatXav2N1",
        "outputId": "00b3889c-3a62-4a99-cfa7-35a17bae93c4"
      },
      "source": [
        "print(classification_report(testdata['Label'], lr.predict(X_test),target_names=labelsList,digits=4))\n",
        "np.mean(lr.predict(X_test)== testdata['Label'])"
      ],
      "execution_count": null,
      "outputs": [
        {
          "output_type": "stream",
          "text": [
            "              precision    recall  f1-score   support\n",
            "\n",
            " barely-true     0.2177    0.1788    0.1964       151\n",
            "       false     0.2660    0.2951    0.2798       183\n",
            "   half-true     0.2289    0.2347    0.2317       196\n",
            " mostly-true     0.2438    0.2663    0.2545       184\n",
            "  pants-fire     0.0588    0.0392    0.0471        51\n",
            "        true     0.2174    0.2201    0.2187       159\n",
            "\n",
            "    accuracy                         0.2305       924\n",
            "   macro avg     0.2054    0.2057    0.2047       924\n",
            "weighted avg     0.2260    0.2305    0.2276       924\n",
            "\n"
          ],
          "name": "stdout"
        },
        {
          "output_type": "execute_result",
          "data": {
            "text/plain": [
              "0.2305194805194805"
            ]
          },
          "metadata": {
            "tags": []
          },
          "execution_count": 45
        }
      ]
    },
    {
      "cell_type": "code",
      "metadata": {
        "colab": {
          "base_uri": "https://localhost:8080/"
        },
        "id": "BpflzlfRv7qs",
        "outputId": "a31afbb4-93ac-46d0-ece7-5f50a72ae321"
      },
      "source": [
        "lr.fit(Xt_train, traindata['Label'])"
      ],
      "execution_count": null,
      "outputs": [
        {
          "output_type": "execute_result",
          "data": {
            "text/plain": [
              "LogisticRegression(C=1.0, class_weight=None, dual=False, fit_intercept=True,\n",
              "                   intercept_scaling=1, l1_ratio=None, max_iter=100,\n",
              "                   multi_class='auto', n_jobs=None, penalty='l2',\n",
              "                   random_state=None, solver='lbfgs', tol=0.0001, verbose=0,\n",
              "                   warm_start=False)"
            ]
          },
          "metadata": {
            "tags": []
          },
          "execution_count": 46
        }
      ]
    },
    {
      "cell_type": "code",
      "metadata": {
        "colab": {
          "base_uri": "https://localhost:8080/"
        },
        "id": "C9zDg4a9wFbH",
        "outputId": "dad94dc3-c37a-4d62-df47-da2bbe65c601"
      },
      "source": [
        "print(classification_report(valdata['Label'], lr.predict(Xt_val),target_names=labelsList,digits=4))\n",
        "np.mean(lr.predict(Xt_val)== valdata['Label'])"
      ],
      "execution_count": null,
      "outputs": [
        {
          "output_type": "stream",
          "text": [
            "              precision    recall  f1-score   support\n",
            "\n",
            " barely-true     0.2255    0.1361    0.1697       169\n",
            "       false     0.2428    0.3138    0.2738       188\n",
            "   half-true     0.2325    0.2880    0.2573       184\n",
            " mostly-true     0.2558    0.2941    0.2736       187\n",
            "  pants-fire     1.0000    0.0141    0.0278        71\n",
            "        true     0.1643    0.1769    0.1704       130\n",
            "\n",
            "    accuracy                         0.2304       929\n",
            "   macro avg     0.3535    0.2038    0.1954       929\n",
            "weighted avg     0.2871    0.2304    0.2183       929\n",
            "\n"
          ],
          "name": "stdout"
        },
        {
          "output_type": "execute_result",
          "data": {
            "text/plain": [
              "0.2303552206673843"
            ]
          },
          "metadata": {
            "tags": []
          },
          "execution_count": 47
        }
      ]
    },
    {
      "cell_type": "code",
      "metadata": {
        "colab": {
          "base_uri": "https://localhost:8080/"
        },
        "id": "6HNv-YyVwFgx",
        "outputId": "da43674e-49ad-4a8f-bc13-8f7df0a53b67"
      },
      "source": [
        "print(classification_report(testdata['Label'], lr.predict(Xt_test),target_names=labelsList,digits=4))\n",
        "np.mean(lr.predict(Xt_test)== testdata['Label'])"
      ],
      "execution_count": null,
      "outputs": [
        {
          "output_type": "stream",
          "text": [
            "              precision    recall  f1-score   support\n",
            "\n",
            " barely-true     0.2796    0.1722    0.2131       151\n",
            "       false     0.2743    0.3388    0.3032       183\n",
            "   half-true     0.2510    0.3061    0.2759       196\n",
            " mostly-true     0.2437    0.3152    0.2749       184\n",
            "  pants-fire     0.0000    0.0000    0.0000        51\n",
            "        true     0.2381    0.1887    0.2105       159\n",
            "\n",
            "    accuracy                         0.2554       924\n",
            "   macro avg     0.2145    0.2202    0.2129       924\n",
            "weighted avg     0.2428    0.2554    0.2444       924\n",
            "\n"
          ],
          "name": "stdout"
        },
        {
          "output_type": "execute_result",
          "data": {
            "text/plain": [
              "0.2554112554112554"
            ]
          },
          "metadata": {
            "tags": []
          },
          "execution_count": 48
        }
      ]
    },
    {
      "cell_type": "code",
      "metadata": {
        "colab": {
          "base_uri": "https://localhost:8080/"
        },
        "id": "lxBVkptw71E2",
        "outputId": "d4e82964-44b5-4d49-d837-40ec1f83c3cf"
      },
      "source": [
        "lr.fit(Xg_train, traindata['Label'])"
      ],
      "execution_count": null,
      "outputs": [
        {
          "output_type": "execute_result",
          "data": {
            "text/plain": [
              "LogisticRegression(C=1.0, class_weight=None, dual=False, fit_intercept=True,\n",
              "                   intercept_scaling=1, l1_ratio=None, max_iter=100,\n",
              "                   multi_class='auto', n_jobs=None, penalty='l2',\n",
              "                   random_state=None, solver='lbfgs', tol=0.0001, verbose=0,\n",
              "                   warm_start=False)"
            ]
          },
          "metadata": {
            "tags": []
          },
          "execution_count": 44
        }
      ]
    },
    {
      "cell_type": "code",
      "metadata": {
        "colab": {
          "base_uri": "https://localhost:8080/"
        },
        "id": "emq4ypJD9rM4",
        "outputId": "083d29bf-3dd9-49b4-f186-3514a4469ee6"
      },
      "source": [
        "print(classification_report(testdata['Label'], lr.predict(Xg_test),target_names=labelsList,digits=4))\n",
        "np.mean(lr.predict(Xg_test)== testdata['Label'])"
      ],
      "execution_count": null,
      "outputs": [
        {
          "output_type": "stream",
          "text": [
            "              precision    recall  f1-score   support\n",
            "\n",
            " barely-true     0.2174    0.1325    0.1646       151\n",
            "       false     0.2672    0.3388    0.2988       183\n",
            "   half-true     0.2500    0.3163    0.2793       196\n",
            " mostly-true     0.2388    0.2609    0.2494       184\n",
            "  pants-fire     0.1667    0.0588    0.0870        51\n",
            "        true     0.2632    0.2201    0.2397       159\n",
            "\n",
            "    accuracy                         0.2489       924\n",
            "   macro avg     0.2339    0.2212    0.2198       924\n",
            "weighted avg     0.2435    0.2489    0.2410       924\n",
            "\n"
          ],
          "name": "stdout"
        },
        {
          "output_type": "execute_result",
          "data": {
            "text/plain": [
              "0.24891774891774893"
            ]
          },
          "metadata": {
            "tags": []
          },
          "execution_count": 45
        }
      ]
    },
    {
      "cell_type": "code",
      "metadata": {
        "colab": {
          "base_uri": "https://localhost:8080/"
        },
        "id": "2cSaS5pY9hn9",
        "outputId": "cb7bfc12-6caa-4d97-f181-0d363bce3736"
      },
      "source": [
        "print(classification_report(valdata['Label'], lr.predict(Xg_val),target_names=labelsList,digits=4))\n",
        "np.mean(lr.predict(Xg_val)== valdata['Label'])"
      ],
      "execution_count": null,
      "outputs": [
        {
          "output_type": "stream",
          "text": [
            "              precision    recall  f1-score   support\n",
            "\n",
            " barely-true     0.1560    0.1006    0.1223       169\n",
            "       false     0.2798    0.3245    0.3005       188\n",
            "   half-true     0.2273    0.2989    0.2582       184\n",
            " mostly-true     0.2300    0.2620    0.2450       187\n",
            "  pants-fire     0.1111    0.0282    0.0449        71\n",
            "        true     0.2016    0.2000    0.2008       130\n",
            "\n",
            "    accuracy                         0.2260       929\n",
            "   macro avg     0.2010    0.2024    0.1953       929\n",
            "weighted avg     0.2130    0.2260    0.2150       929\n",
            "\n"
          ],
          "name": "stdout"
        },
        {
          "output_type": "execute_result",
          "data": {
            "text/plain": [
              "0.22604951560818085"
            ]
          },
          "metadata": {
            "tags": []
          },
          "execution_count": 46
        }
      ]
    },
    {
      "cell_type": "markdown",
      "metadata": {
        "id": "Qy4G_nXUvYRA"
      },
      "source": [
        "## SJ\n"
      ]
    },
    {
      "cell_type": "code",
      "metadata": {
        "id": "c4bSqLTEv7_P"
      },
      "source": [
        "svec = CountVectorizer()\n",
        "sTrain = svec.fit_transform(traindata['Statement'])\n",
        "sVal = svec.transform(valdata['Statement'])\n",
        "sTest = svec.transform(testdata['Statement'])\n",
        "\n",
        "jvec = CountVectorizer()\n",
        "jTrain = jvec.fit_transform(traindata['Justification'])\n",
        "jVal = jvec.transform(valdata['Justification'])\n",
        "jTest = jvec.transform(testdata['Justification'])\n",
        "\n",
        "train=hstack([sTrain,jTrain])\n",
        "val=hstack([sVal,jVal])\n",
        "test=hstack([sTest,jTest])"
      ],
      "execution_count": null,
      "outputs": []
    },
    {
      "cell_type": "markdown",
      "metadata": {
        "id": "g3XjFRRCypqx"
      },
      "source": [
        "### SVM"
      ]
    },
    {
      "cell_type": "code",
      "metadata": {
        "id": "RaOE1EcPymX3"
      },
      "source": [
        "SVM=svm.LinearSVC()"
      ],
      "execution_count": null,
      "outputs": []
    },
    {
      "cell_type": "code",
      "metadata": {
        "colab": {
          "base_uri": "https://localhost:8080/"
        },
        "id": "RRKCmCvezC-o",
        "outputId": "a1cdeeed-b584-4453-b5b6-6b61d7120e50"
      },
      "source": [
        "SVM.fit(train, traindata['Label']) "
      ],
      "execution_count": null,
      "outputs": [
        {
          "output_type": "execute_result",
          "data": {
            "text/plain": [
              "LinearSVC(C=1.0, class_weight=None, dual=True, fit_intercept=True,\n",
              "          intercept_scaling=1, loss='squared_hinge', max_iter=1000,\n",
              "          multi_class='ovr', penalty='l2', random_state=None, tol=0.0001,\n",
              "          verbose=0)"
            ]
          },
          "metadata": {
            "tags": []
          },
          "execution_count": 16
        }
      ]
    },
    {
      "cell_type": "code",
      "metadata": {
        "colab": {
          "base_uri": "https://localhost:8080/"
        },
        "id": "t4oW5PEQzC-p",
        "outputId": "e7661f69-aa54-4ff4-afa2-38b72f47593f"
      },
      "source": [
        "print(classification_report(valdata['Label'], SVM.predict(val),target_names=labelsList,digits=4))\n",
        "print(np.mean(SVM.predict(val)== valdata['Label']))"
      ],
      "execution_count": null,
      "outputs": [
        {
          "output_type": "stream",
          "text": [
            "              precision    recall  f1-score   support\n",
            "\n",
            " barely-true     0.2513    0.2110    0.2294       237\n",
            "       false     0.1946    0.1901    0.1923       263\n",
            "   half-true     0.2470    0.2500    0.2485       248\n",
            " mostly-true     0.2753    0.2709    0.2731       251\n",
            "  pants-fire     0.1702    0.1379    0.1524       116\n",
            "        true     0.1695    0.2367    0.1975       169\n",
            "\n",
            "    accuracy                         0.2227      1284\n",
            "   macro avg     0.2180    0.2161    0.2155      1284\n",
            "weighted avg     0.2254    0.2227    0.2229      1284\n",
            "\n",
            "0.22274143302180685\n"
          ],
          "name": "stdout"
        }
      ]
    },
    {
      "cell_type": "code",
      "metadata": {
        "colab": {
          "base_uri": "https://localhost:8080/"
        },
        "id": "OM4a9YBbzC-y",
        "outputId": "bde466ea-a5c3-41fb-d2fa-44dd21011614"
      },
      "source": [
        "print(classification_report(testdata['Label'], SVM.predict(test),target_names=labelsList,digits=4))\n",
        "np.mean(SVM.predict(test)== testdata['Label'])"
      ],
      "execution_count": null,
      "outputs": [
        {
          "output_type": "stream",
          "text": [
            "              precision    recall  f1-score   support\n",
            "\n",
            " barely-true     0.1778    0.1887    0.1831       212\n",
            "       false     0.2151    0.2169    0.2160       249\n",
            "   half-true     0.2285    0.2302    0.2293       265\n",
            " mostly-true     0.2105    0.1992    0.2047       241\n",
            "  pants-fire     0.2250    0.1957    0.2093        92\n",
            "        true     0.1944    0.2019    0.1981       208\n",
            "\n",
            "    accuracy                         0.2076      1267\n",
            "   macro avg     0.2086    0.2054    0.2067      1267\n",
            "weighted avg     0.2081    0.2076    0.2077      1267\n",
            "\n"
          ],
          "name": "stdout"
        },
        {
          "output_type": "execute_result",
          "data": {
            "text/plain": [
              "0.20757695343330704"
            ]
          },
          "metadata": {
            "tags": []
          },
          "execution_count": 12
        }
      ]
    },
    {
      "cell_type": "markdown",
      "metadata": {
        "id": "_NBB7Xc6zYtq"
      },
      "source": [
        "### LR\n"
      ]
    },
    {
      "cell_type": "code",
      "metadata": {
        "id": "8_VADk4HzhEv"
      },
      "source": [
        "lr = LogisticRegression()"
      ],
      "execution_count": null,
      "outputs": []
    },
    {
      "cell_type": "code",
      "metadata": {
        "colab": {
          "base_uri": "https://localhost:8080/"
        },
        "id": "QcjbYAE4zhEv",
        "outputId": "d2c8d29c-fe9d-4881-9748-6b8a792db7cf"
      },
      "source": [
        "lr.fit(train, traindata['Label']) "
      ],
      "execution_count": null,
      "outputs": [
        {
          "output_type": "execute_result",
          "data": {
            "text/plain": [
              "LogisticRegression(C=1.0, class_weight=None, dual=False, fit_intercept=True,\n",
              "                   intercept_scaling=1, l1_ratio=None, max_iter=100,\n",
              "                   multi_class='auto', n_jobs=None, penalty='l2',\n",
              "                   random_state=None, solver='lbfgs', tol=0.0001, verbose=0,\n",
              "                   warm_start=False)"
            ]
          },
          "metadata": {
            "tags": []
          },
          "execution_count": 68
        }
      ]
    },
    {
      "cell_type": "code",
      "metadata": {
        "colab": {
          "base_uri": "https://localhost:8080/"
        },
        "id": "X-6MyShMzhEx",
        "outputId": "f95adf41-809c-4944-c6fc-e48a49424106"
      },
      "source": [
        "print(classification_report(valdata['Label'], lr.predict(val),target_names=labelsList,digits=4))\n",
        "print(np.mean(lr.predict(val)== valdata['Label']))"
      ],
      "execution_count": null,
      "outputs": [
        {
          "output_type": "stream",
          "text": [
            "              precision    recall  f1-score   support\n",
            "\n",
            " barely-true     0.2066    0.1479    0.1724       169\n",
            "       false     0.2512    0.2766    0.2633       188\n",
            "   half-true     0.2406    0.2446    0.2426       184\n",
            " mostly-true     0.2919    0.3262    0.3081       187\n",
            "  pants-fire     0.1556    0.0986    0.1207        71\n",
            "        true     0.1875    0.2308    0.2069       130\n",
            "\n",
            "    accuracy                         0.2368       929\n",
            "   macro avg     0.2222    0.2208    0.2190       929\n",
            "weighted avg     0.2330    0.2368    0.2329       929\n",
            "\n",
            "0.23681377825618946\n"
          ],
          "name": "stdout"
        }
      ]
    },
    {
      "cell_type": "code",
      "metadata": {
        "colab": {
          "base_uri": "https://localhost:8080/"
        },
        "id": "poZe8T-4zhEx",
        "outputId": "7ad7f441-cc89-46e3-9224-240db2efb3d7"
      },
      "source": [
        "print(classification_report(testdata['Label'], lr.predict(test),target_names=labelsList,digits=4))\n",
        "np.mean(lr.predict(test)== testdata['Label'])"
      ],
      "execution_count": null,
      "outputs": [
        {
          "output_type": "stream",
          "text": [
            "              precision    recall  f1-score   support\n",
            "\n",
            " barely-true     0.1947    0.1457    0.1667       151\n",
            "       false     0.2476    0.2842    0.2646       183\n",
            "   half-true     0.2249    0.2398    0.2321       196\n",
            " mostly-true     0.2670    0.2989    0.2821       184\n",
            "  pants-fire     0.1379    0.0784    0.1000        51\n",
            "        true     0.2484    0.2453    0.2468       159\n",
            "\n",
            "    accuracy                         0.2370       924\n",
            "   macro avg     0.2201    0.2154    0.2154       924\n",
            "weighted avg     0.2321    0.2370    0.2330       924\n",
            "\n"
          ],
          "name": "stdout"
        },
        {
          "output_type": "execute_result",
          "data": {
            "text/plain": [
              "0.237012987012987"
            ]
          },
          "metadata": {
            "tags": []
          },
          "execution_count": 60
        }
      ]
    },
    {
      "cell_type": "markdown",
      "metadata": {
        "id": "G8oZCUab5GB8"
      },
      "source": [
        "### Testing ensemble"
      ]
    },
    {
      "cell_type": "code",
      "metadata": {
        "id": "KmhwCX_RK192"
      },
      "source": [
        "#testing ensemble stacking technique\n",
        "lr.fit(sTrain, traindata['Label']) \n",
        "Str=pd.DataFrame(lr.decision_function(sTrain),columns=['S_' + sub for sub in labelsList])\n",
        "S=pd.DataFrame(lr.decision_function(sVal),columns=['S_' + sub for sub in labelsList])\n",
        "\n",
        "\n",
        "lr.fit(jTrain, traindata['Label']) \n",
        "Jtr=pd.DataFrame(lr.decision_function(jTrain),columns=['J_' + sub for sub in labelsList])\n",
        "J=pd.DataFrame(lr.decision_function(jVal),columns=['J_' + sub for sub in labelsList])"
      ],
      "execution_count": null,
      "outputs": []
    },
    {
      "cell_type": "code",
      "metadata": {
        "id": "Tr-9hA81K1-C"
      },
      "source": [
        "df1=pd.concat([Str,Jtr],axis=1)\n",
        "df2=pd.concat([S,J],axis=1)"
      ],
      "execution_count": null,
      "outputs": []
    },
    {
      "cell_type": "code",
      "metadata": {
        "colab": {
          "base_uri": "https://localhost:8080/"
        },
        "id": "_ZaWbg37K1-D",
        "outputId": "43357548-3b6b-4687-bd5e-9fbe5fab5226"
      },
      "source": [
        "lr_meta=LogisticRegression()\n",
        "lr_meta.fit(df1,traindata['Label'])\n",
        "pred=lr_meta.predict(df2)\n",
        "\n",
        "print(classification_report(valdata['Label'], pred,target_names=labelsList,digits=4))\n",
        "print(np.mean(pred== valdata['Label']))"
      ],
      "execution_count": null,
      "outputs": [
        {
          "output_type": "stream",
          "text": [
            "              precision    recall  f1-score   support\n",
            "\n",
            " barely-true     0.2245    0.1857    0.2032       237\n",
            "       false     0.2482    0.2662    0.2569       263\n",
            "   half-true     0.2465    0.2823    0.2632       248\n",
            " mostly-true     0.3056    0.3068    0.3062       251\n",
            "  pants-fire     0.2692    0.1810    0.2165       116\n",
            "        true     0.1927    0.2189    0.2050       169\n",
            "\n",
            "    accuracy                         0.2484      1284\n",
            "   macro avg     0.2478    0.2401    0.2418      1284\n",
            "weighted avg     0.2493    0.2484    0.2473      1284\n",
            "\n",
            "0.2484423676012461\n"
          ],
          "name": "stdout"
        }
      ]
    },
    {
      "cell_type": "markdown",
      "metadata": {
        "id": "UNkKlzAvXBwR"
      },
      "source": [
        "## S+M"
      ]
    },
    {
      "cell_type": "code",
      "metadata": {
        "id": "A8huTHSzPebA"
      },
      "source": [
        "meta_features =['Context', 'Subject', 'Job Title']\n",
        "vec_St=CountVectorizer()\n",
        "vec_C=CountVectorizer()\n",
        "vec_S=CountVectorizer()\n",
        "vec_Jt=CountVectorizer()\n",
        "\n",
        "Train_St = vec_St.fit_transform(traindata['Statement'])\n",
        "Val_St = vec_St.transform(valdata['Statement'])\n",
        "Test_St = vec_St.transform(testdata['Statement'])\n",
        "\n",
        "Train_C = vec_C.fit_transform(traindata['Context'])\n",
        "Val_C = vec_C.transform(valdata['Context'])\n",
        "Test_C = vec_C.transform(testdata['Context'])\n",
        "\n",
        "Train_S = vec_S.fit_transform(traindata['Subject'])\n",
        "Val_S = vec_S.transform(valdata['Subject'])\n",
        "Test_S = vec_S.transform(testdata['Subject'])\n",
        "\n",
        "Train_Jt = vec_Jt.fit_transform(traindata['Job Title'])\n",
        "Val_Jt = vec_Jt.transform(valdata['Job Title'])\n",
        "Test_Jt = vec_Jt.transform(testdata['Job Title'])\n",
        "\n",
        "train=hstack([Train_St,Train_C,Train_S,Train_Jt])\n",
        "val=hstack([Val_St,Val_C,Val_S,Val_Jt])\n",
        "test=hstack([Test_St,Test_C,Test_S,Test_Jt])\n",
        "\n",
        "train= hstack([train,traindata[traindata.columns[17:]]])\n",
        "val= hstack([val,valdata[valdata.columns[17:]]])\n",
        "test= hstack([test,testdata[testdata.columns[17:]]])\n",
        "\n",
        "\n",
        "mTrain=hstack([Train_C,Train_S,Train_Jt])\n",
        "mVal=hstack([Val_C,Val_S,Val_Jt])\n",
        "mTest=hstack([Test_C,Test_S,Test_Jt])"
      ],
      "execution_count": null,
      "outputs": []
    },
    {
      "cell_type": "markdown",
      "metadata": {
        "id": "LX2JhorEvE7J"
      },
      "source": [
        "### SVM"
      ]
    },
    {
      "cell_type": "code",
      "metadata": {
        "id": "SHX6SiyWVQ5A"
      },
      "source": [
        "SVM = svm.LinearSVC()"
      ],
      "execution_count": null,
      "outputs": []
    },
    {
      "cell_type": "code",
      "metadata": {
        "colab": {
          "base_uri": "https://localhost:8080/"
        },
        "id": "1Yyahr5vZ5UZ",
        "outputId": "683c3fec-f718-4d01-fd07-d66eea3b6ff5"
      },
      "source": [
        "SVM.fit(train, traindata['Label']) "
      ],
      "execution_count": null,
      "outputs": [
        {
          "output_type": "execute_result",
          "data": {
            "text/plain": [
              "LinearSVC(C=1.0, class_weight=None, dual=True, fit_intercept=True,\n",
              "          intercept_scaling=1, loss='squared_hinge', max_iter=1000,\n",
              "          multi_class='ovr', penalty='l2', random_state=None, tol=0.0001,\n",
              "          verbose=0)"
            ]
          },
          "metadata": {
            "tags": []
          },
          "execution_count": 63
        }
      ]
    },
    {
      "cell_type": "code",
      "metadata": {
        "colab": {
          "base_uri": "https://localhost:8080/"
        },
        "id": "Yr-aCe2FaTA3",
        "outputId": "3bf36335-9f28-4e86-8afe-904e64be15c9"
      },
      "source": [
        "print(classification_report(valdata['Label'], SVM.predict(val),target_names=labelsList,digits=4))\n",
        "print(np.mean(SVM.predict(val)== valdata['Label']))"
      ],
      "execution_count": null,
      "outputs": [
        {
          "output_type": "stream",
          "text": [
            "              precision    recall  f1-score   support\n",
            "\n",
            " barely-true     0.1789    0.1302    0.1507       169\n",
            "       false     0.2269    0.2606    0.2426       188\n",
            "   half-true     0.2896    0.2880    0.2888       184\n",
            " mostly-true     0.2819    0.2834    0.2827       187\n",
            "  pants-fire     0.1698    0.1268    0.1452        71\n",
            "        true     0.1867    0.2385    0.2095       130\n",
            "\n",
            "    accuracy                         0.2336       929\n",
            "   macro avg     0.2223    0.2213    0.2199       929\n",
            "weighted avg     0.2317    0.2336    0.2310       929\n",
            "\n",
            "0.23358449946178686\n"
          ],
          "name": "stdout"
        }
      ]
    },
    {
      "cell_type": "code",
      "metadata": {
        "colab": {
          "base_uri": "https://localhost:8080/"
        },
        "id": "yP4uUhzuaTBE",
        "outputId": "b04fd49d-132b-46d7-ed87-309e8b8eaf5d"
      },
      "source": [
        "print(classification_report(testdata['Label'], SVM.predict(test),target_names=labelsList,digits=4))\n",
        "np.mean(SVM.predict(test)== testdata['Label'])"
      ],
      "execution_count": null,
      "outputs": [
        {
          "output_type": "stream",
          "text": [
            "              precision    recall  f1-score   support\n",
            "\n",
            " barely-true     0.1385    0.1192    0.1281       151\n",
            "       false     0.1977    0.1913    0.1944       183\n",
            "   half-true     0.2195    0.2296    0.2244       196\n",
            " mostly-true     0.2559    0.2935    0.2734       184\n",
            "  pants-fire     0.0750    0.0588    0.0659        51\n",
            "        true     0.2236    0.2264    0.2250       159\n",
            "\n",
            "    accuracy                         0.2067       924\n",
            "   macro avg     0.1850    0.1865    0.1852       924\n",
            "weighted avg     0.2019    0.2067    0.2039       924\n",
            "\n"
          ],
          "name": "stdout"
        },
        {
          "output_type": "execute_result",
          "data": {
            "text/plain": [
              "0.2067099567099567"
            ]
          },
          "metadata": {
            "tags": []
          },
          "execution_count": 65
        }
      ]
    },
    {
      "cell_type": "markdown",
      "metadata": {
        "id": "097twbSj5pS0"
      },
      "source": [
        "### Testing ensemble"
      ]
    },
    {
      "cell_type": "code",
      "metadata": {
        "id": "nS9y7V8lYvar"
      },
      "source": [
        "lr.fit(sTrain, traindata['Label']) \n",
        "Str=pd.DataFrame(lr.decision_function(sTrain),columns=['S_' + sub for sub in labelsList])\n",
        "S=pd.DataFrame(lr.decision_function(sVal),columns=['S_' + sub for sub in labelsList])\n",
        "\n",
        "#training on metadata countVectors\n",
        "lr.fit(mTrain, traindata['Label']) \n",
        "Mvtr=pd.DataFrame(lr.decision_function(mTrain),columns=['Mv_' + sub for sub in labelsList])\n",
        "Mv=pd.DataFrame(lr.decision_function(mVal),columns=['Mv_' + sub for sub in labelsList])\n",
        "\n",
        "#training on sparse metadata\n",
        "lr.fit(traindata[traindata.columns[17:-13]], traindata['Label']) \n",
        "Mstr=pd.DataFrame(lr.decision_function(traindata[traindata.columns[17:-13]]),columns=['Ms_' + sub for sub in labelsList])\n",
        "Ms=pd.DataFrame(lr.decision_function(valdata[valdata.columns[17:-13]]),columns=['Ms_' + sub for sub in labelsList])\n",
        "\n",
        "lr.fit(traindata[traindata.columns[-13:]], traindata['Label']) \n",
        "Sentitr=pd.DataFrame(lr.decision_function(traindata[traindata.columns[-13:]]),columns=['Senti_' + sub for sub in labelsList])\n",
        "Senti=pd.DataFrame(lr.decision_function(valdata[valdata.columns[-13:]]),columns=['Senti_' + sub for sub in labelsList])\n"
      ],
      "execution_count": null,
      "outputs": []
    },
    {
      "cell_type": "code",
      "metadata": {
        "id": "NB6QfgpveEvT"
      },
      "source": [
        "df1=pd.concat([Str,Mvtr,Mstr,Sentitr],axis=1)\n",
        "df2=pd.concat([S,Mv,Ms,Senti],axis=1)"
      ],
      "execution_count": null,
      "outputs": []
    },
    {
      "cell_type": "code",
      "metadata": {
        "colab": {
          "base_uri": "https://localhost:8080/"
        },
        "id": "8RmfuiVpeEvc",
        "outputId": "7df45868-390a-48c1-baf6-a802b1a6f712"
      },
      "source": [
        "lr_meta=LogisticRegression()\n",
        "lr_meta.fit(df1,traindata['Label'])\n",
        "pred=lr_meta.predict(df2)\n",
        "\n",
        "print(classification_report(valdata['Label'], pred,target_names=labelsList,digits=4))\n",
        "print(np.mean(pred== valdata['Label']))"
      ],
      "execution_count": null,
      "outputs": [
        {
          "output_type": "stream",
          "text": [
            "              precision    recall  f1-score   support\n",
            "\n",
            " barely-true     0.2603    0.2405    0.2500       237\n",
            "       false     0.2648    0.2890    0.2764       263\n",
            "   half-true     0.2500    0.2540    0.2520       248\n",
            " mostly-true     0.2521    0.2351    0.2433       251\n",
            "  pants-fire     0.3294    0.2414    0.2786       116\n",
            "        true     0.2271    0.2781    0.2500       169\n",
            "\n",
            "    accuracy                         0.2570      1284\n",
            "   macro avg     0.2639    0.2563    0.2584      1284\n",
            "weighted avg     0.2595    0.2570    0.2571      1284\n",
            "\n",
            "0.2570093457943925\n"
          ],
          "name": "stdout"
        }
      ]
    },
    {
      "cell_type": "markdown",
      "metadata": {
        "id": "wT2m24BevJrf"
      },
      "source": [
        "### LR"
      ]
    },
    {
      "cell_type": "code",
      "metadata": {
        "id": "mPCmzVz7uqU0"
      },
      "source": [
        "lr = LogisticRegression()"
      ],
      "execution_count": null,
      "outputs": []
    },
    {
      "cell_type": "code",
      "metadata": {
        "colab": {
          "base_uri": "https://localhost:8080/"
        },
        "id": "ZJj1mQhTuqU4",
        "outputId": "ff7d1cca-f15c-40e0-8588-267e0b70c466"
      },
      "source": [
        "lr.fit(train, traindata['Label']) \n"
      ],
      "execution_count": null,
      "outputs": [
        {
          "output_type": "execute_result",
          "data": {
            "text/plain": [
              "LogisticRegression(C=1.0, class_weight=None, dual=False, fit_intercept=True,\n",
              "                   intercept_scaling=1, l1_ratio=None, max_iter=100,\n",
              "                   multi_class='auto', n_jobs=None, penalty='l2',\n",
              "                   random_state=None, solver='lbfgs', tol=0.0001, verbose=0,\n",
              "                   warm_start=False)"
            ]
          },
          "metadata": {
            "tags": []
          },
          "execution_count": 67
        }
      ]
    },
    {
      "cell_type": "code",
      "metadata": {
        "colab": {
          "base_uri": "https://localhost:8080/"
        },
        "id": "GkZGByrAuqU5",
        "outputId": "737590f5-0a38-4f3f-e93d-265de2610c85"
      },
      "source": [
        "print(classification_report(valdata['Label'], lr.predict(val),target_names=labelsList,digits=4))\n",
        "print(np.mean(lr.predict(val)== valdata['Label']))"
      ],
      "execution_count": null,
      "outputs": [
        {
          "output_type": "stream",
          "text": [
            "              precision    recall  f1-score   support\n",
            "\n",
            " barely-true     0.2066    0.1479    0.1724       169\n",
            "       false     0.2512    0.2766    0.2633       188\n",
            "   half-true     0.2406    0.2446    0.2426       184\n",
            " mostly-true     0.2919    0.3262    0.3081       187\n",
            "  pants-fire     0.1556    0.0986    0.1207        71\n",
            "        true     0.1875    0.2308    0.2069       130\n",
            "\n",
            "    accuracy                         0.2368       929\n",
            "   macro avg     0.2222    0.2208    0.2190       929\n",
            "weighted avg     0.2330    0.2368    0.2329       929\n",
            "\n",
            "0.23681377825618946\n"
          ],
          "name": "stdout"
        }
      ]
    },
    {
      "cell_type": "code",
      "metadata": {
        "colab": {
          "base_uri": "https://localhost:8080/"
        },
        "id": "O_Khx4YruqU5",
        "outputId": "2f753364-3c8c-41d7-cd36-d8005cb5b49d"
      },
      "source": [
        "print(classification_report(testdata['Label'], lr.predict(test),target_names=labelsList,digits=4))\n",
        "np.mean(lr.predict(test)== testdata['Label'])"
      ],
      "execution_count": null,
      "outputs": [
        {
          "output_type": "stream",
          "text": [
            "              precision    recall  f1-score   support\n",
            "\n",
            " barely-true     0.1947    0.1457    0.1667       151\n",
            "       false     0.2476    0.2842    0.2646       183\n",
            "   half-true     0.2249    0.2398    0.2321       196\n",
            " mostly-true     0.2670    0.2989    0.2821       184\n",
            "  pants-fire     0.1379    0.0784    0.1000        51\n",
            "        true     0.2484    0.2453    0.2468       159\n",
            "\n",
            "    accuracy                         0.2370       924\n",
            "   macro avg     0.2201    0.2154    0.2154       924\n",
            "weighted avg     0.2321    0.2370    0.2330       924\n",
            "\n"
          ],
          "name": "stdout"
        },
        {
          "output_type": "execute_result",
          "data": {
            "text/plain": [
              "0.237012987012987"
            ]
          },
          "metadata": {
            "tags": []
          },
          "execution_count": 69
        }
      ]
    },
    {
      "cell_type": "markdown",
      "metadata": {
        "id": "4eeiTOwQvSMf"
      },
      "source": [
        "## S+MJ"
      ]
    },
    {
      "cell_type": "code",
      "metadata": {
        "id": "fNmYqeiwvZ9x"
      },
      "source": [
        "meta_features =['Context', 'Subject', 'Job Title']\n",
        "vec_St=CountVectorizer()\n",
        "vec_C=CountVectorizer()\n",
        "vec_S=CountVectorizer()\n",
        "vec_Jt=CountVectorizer()\n",
        "vec_J=CountVectorizer()\n",
        "\n",
        "Train_St = vec_St.fit_transform(traindata['Statement'])\n",
        "Val_St = vec_St.transform(valdata['Statement'])\n",
        "Test_St = vec_St.transform(testdata['Statement'])\n",
        "\n",
        "Train_C = vec_C.fit_transform(traindata['Context'])\n",
        "Val_C = vec_C.transform(valdata['Context'])\n",
        "Test_C = vec_C.transform(testdata['Context'])\n",
        "\n",
        "Train_S = vec_S.fit_transform(traindata['Subject'])\n",
        "Val_S = vec_S.transform(valdata['Subject'])\n",
        "Test_S = vec_S.transform(testdata['Subject'])\n",
        "\n",
        "Train_Jt = vec_Jt.fit_transform(traindata['Job Title'])\n",
        "Val_Jt = vec_Jt.transform(valdata['Job Title'])\n",
        "Test_Jt = vec_Jt.transform(testdata['Job Title'])\n",
        "\n",
        "Train_J = vec_J.fit_transform(traindata['Justification'])\n",
        "Val_J = vec_J.transform(valdata['Justification'])\n",
        "Test_J = vec_J.transform(testdata['Justification'])\n",
        "\n",
        "train=hstack([Train_St,Train_C,Train_S,Train_Jt,Train_J])\n",
        "val=hstack([Val_St,Val_C,Val_S,Val_Jt,Val_J])\n",
        "test=hstack([Test_St,Test_C,Test_S,Test_Jt,Test_J])\n",
        "\n",
        "train= hstack([train,traindata[traindata.columns[17:]]])\n",
        "val= hstack([val,valdata[valdata.columns[17:]]])\n",
        "test= hstack([test,testdata[testdata.columns[17:]]])\n",
        "\n",
        "mTrain=hstack([Train_C,Train_S,Train_Jt])\n",
        "mVal=hstack([Val_C,Val_S,Val_Jt])\n",
        "mTest=hstack([Test_C,Test_S,Test_Jt])"
      ],
      "execution_count": null,
      "outputs": []
    },
    {
      "cell_type": "markdown",
      "metadata": {
        "id": "3C2WhEU8vZ97"
      },
      "source": [
        "### SVM"
      ]
    },
    {
      "cell_type": "code",
      "metadata": {
        "id": "chhC_lKlvZ98"
      },
      "source": [
        "SVM = svm.LinearSVC()"
      ],
      "execution_count": null,
      "outputs": []
    },
    {
      "cell_type": "code",
      "metadata": {
        "colab": {
          "base_uri": "https://localhost:8080/"
        },
        "id": "j81B6OvlvZ98",
        "outputId": "b093345e-92a4-4409-df4b-b9a61664099e"
      },
      "source": [
        "SVM.fit(train, traindata['Label']) "
      ],
      "execution_count": null,
      "outputs": [
        {
          "output_type": "execute_result",
          "data": {
            "text/plain": [
              "LinearSVC(C=1.0, class_weight=None, dual=True, fit_intercept=True,\n",
              "          intercept_scaling=1, loss='squared_hinge', max_iter=1000,\n",
              "          multi_class='ovr', penalty='l2', random_state=None, tol=0.0001,\n",
              "          verbose=0)"
            ]
          },
          "metadata": {
            "tags": []
          },
          "execution_count": 8
        }
      ]
    },
    {
      "cell_type": "code",
      "metadata": {
        "colab": {
          "base_uri": "https://localhost:8080/"
        },
        "id": "aHIpm8YtvZ99",
        "outputId": "2609f7ce-64a2-4cae-9274-4d80379ef3c4"
      },
      "source": [
        "print(classification_report(valdata['Label'], SVM.predict(val),target_names=labelsList,digits=4))\n",
        "print(np.mean(SVM.predict(val)== valdata['Label']))"
      ],
      "execution_count": null,
      "outputs": [
        {
          "output_type": "stream",
          "text": [
            "              precision    recall  f1-score   support\n",
            "\n",
            " barely-true     0.2550    0.2152    0.2334       237\n",
            "       false     0.2428    0.2548    0.2486       263\n",
            "   half-true     0.2621    0.2621    0.2621       248\n",
            " mostly-true     0.3128    0.3028    0.3077       251\n",
            "  pants-fire     0.2679    0.2586    0.2632       116\n",
            "        true     0.1854    0.2249    0.2032       169\n",
            "\n",
            "    accuracy                         0.2547      1284\n",
            "   macro avg     0.2543    0.2531    0.2530      1284\n",
            "weighted avg     0.2571    0.2547    0.2553      1284\n",
            "\n",
            "0.2546728971962617\n"
          ],
          "name": "stdout"
        }
      ]
    },
    {
      "cell_type": "code",
      "metadata": {
        "colab": {
          "base_uri": "https://localhost:8080/"
        },
        "id": "Ob70JL6zvZ9-",
        "outputId": "2dbba6c1-9f42-482c-d7f8-df613dfb4e93"
      },
      "source": [
        "print(classification_report(testdata['Label'], SVM.predict(test),target_names=labelsList,digits=4))\n",
        "np.mean(SVM.predict(test)== testdata['Label'])"
      ],
      "execution_count": null,
      "outputs": [
        {
          "output_type": "stream",
          "text": [
            "              precision    recall  f1-score   support\n",
            "\n",
            " barely-true     0.1111    0.0861    0.0970       151\n",
            "       false     0.2328    0.2404    0.2366       183\n",
            "   half-true     0.2260    0.2398    0.2327       196\n",
            " mostly-true     0.2439    0.2717    0.2571       184\n",
            "  pants-fire     0.1087    0.0980    0.1031        51\n",
            "        true     0.2138    0.2138    0.2138       159\n",
            "\n",
            "    accuracy                         0.2089       924\n",
            "   macro avg     0.1894    0.1917    0.1900       924\n",
            "weighted avg     0.2036    0.2089    0.2057       924\n",
            "\n"
          ],
          "name": "stdout"
        },
        {
          "output_type": "execute_result",
          "data": {
            "text/plain": [
              "0.20887445887445888"
            ]
          },
          "metadata": {
            "tags": []
          },
          "execution_count": 74
        }
      ]
    },
    {
      "cell_type": "markdown",
      "metadata": {
        "id": "hExCbDA7vZ9-"
      },
      "source": [
        "### LR"
      ]
    },
    {
      "cell_type": "code",
      "metadata": {
        "id": "Ii6NX7RrvZ9-"
      },
      "source": [
        "lr = LogisticRegression()\n"
      ],
      "execution_count": null,
      "outputs": []
    },
    {
      "cell_type": "code",
      "metadata": {
        "colab": {
          "base_uri": "https://localhost:8080/"
        },
        "id": "1k9aghiAvZ9_",
        "outputId": "0050313d-f784-4a24-b34e-b0cf226cdff3"
      },
      "source": [
        "lr.fit(train, traindata['Label']) \n"
      ],
      "execution_count": null,
      "outputs": [
        {
          "output_type": "execute_result",
          "data": {
            "text/plain": [
              "LogisticRegression(C=1.0, class_weight=None, dual=False, fit_intercept=True,\n",
              "                   intercept_scaling=1, l1_ratio=None, max_iter=100,\n",
              "                   multi_class='auto', n_jobs=None, penalty='l2',\n",
              "                   random_state=None, solver='lbfgs', tol=0.0001, verbose=0,\n",
              "                   warm_start=False)"
            ]
          },
          "metadata": {
            "tags": []
          },
          "execution_count": 76
        }
      ]
    },
    {
      "cell_type": "code",
      "metadata": {
        "colab": {
          "base_uri": "https://localhost:8080/"
        },
        "id": "fmJPB-k4vZ9_",
        "outputId": "6391adf2-4ec5-4e98-f9a7-ba77c230052c"
      },
      "source": [
        "print(classification_report(valdata['Label'], lr.predict(val),target_names=labelsList,digits=4))\n",
        "print(np.mean(lr.predict(val)== valdata['Label']))"
      ],
      "execution_count": null,
      "outputs": [
        {
          "output_type": "stream",
          "text": [
            "              precision    recall  f1-score   support\n",
            "\n",
            " barely-true     0.2397    0.1716    0.2000       169\n",
            "       false     0.2770    0.3138    0.2943       188\n",
            "   half-true     0.2487    0.2663    0.2572       184\n",
            " mostly-true     0.3020    0.3262    0.3136       187\n",
            "  pants-fire     0.2653    0.1831    0.2167        71\n",
            "        true     0.2245    0.2538    0.2383       130\n",
            "\n",
            "    accuracy                         0.2626       929\n",
            "   macro avg     0.2595    0.2525    0.2533       929\n",
            "weighted avg     0.2614    0.2626    0.2599       929\n",
            "\n",
            "0.26264800861141013\n"
          ],
          "name": "stdout"
        }
      ]
    },
    {
      "cell_type": "code",
      "metadata": {
        "colab": {
          "base_uri": "https://localhost:8080/"
        },
        "id": "lGQRUTdevZ-A",
        "outputId": "e47edd34-de52-4d5f-d6ca-1eba6b9f4eff"
      },
      "source": [
        "print(classification_report(testdata['Label'], lr.predict(test),target_names=labelsList,digits=4))\n",
        "np.mean(lr.predict(test)== testdata['Label'])"
      ],
      "execution_count": null,
      "outputs": [
        {
          "output_type": "stream",
          "text": [
            "              precision    recall  f1-score   support\n",
            "\n",
            " barely-true     0.1818    0.1457    0.1618       151\n",
            "       false     0.2700    0.2951    0.2820       183\n",
            "   half-true     0.2243    0.2449    0.2341       196\n",
            " mostly-true     0.2386    0.2554    0.2467       184\n",
            "  pants-fire     0.0909    0.0588    0.0714        51\n",
            "        true     0.2264    0.2264    0.2264       159\n",
            "\n",
            "    accuracy                         0.2273       924\n",
            "   macro avg     0.2053    0.2044    0.2037       924\n",
            "weighted avg     0.2223    0.2273    0.2240       924\n",
            "\n"
          ],
          "name": "stdout"
        },
        {
          "output_type": "execute_result",
          "data": {
            "text/plain": [
              "0.22727272727272727"
            ]
          },
          "metadata": {
            "tags": []
          },
          "execution_count": 78
        }
      ]
    },
    {
      "cell_type": "markdown",
      "metadata": {
        "id": "RNVXlXU055TN"
      },
      "source": [
        "### Testing ensemble\n"
      ]
    },
    {
      "cell_type": "code",
      "metadata": {
        "id": "C4dhtYsQeabq"
      },
      "source": [
        "lr.fit(sTrain, traindata['Label']) \n",
        "Str=pd.DataFrame(lr.decision_function(sTrain),columns=['S_' + sub for sub in labelsList])\n",
        "S=pd.DataFrame(lr.decision_function(sVal),columns=['S_' + sub for sub in labelsList])\n",
        "\n",
        "#training on metadata countVectors\n",
        "lr.fit(mTrain, traindata['Label']) \n",
        "Mvtr=pd.DataFrame(lr.decision_function(mTrain),columns=['Mv_' + sub for sub in labelsList])\n",
        "Mv=pd.DataFrame(lr.decision_function(mVal),columns=['Mv_' + sub for sub in labelsList])\n",
        "\n",
        "#training on sparse metadata\n",
        "lr.fit(traindata[traindata.columns[17:-13]], traindata['Label']) \n",
        "Mstr=pd.DataFrame(lr.decision_function(traindata[traindata.columns[17:-13]]),columns=['Ms_' + sub for sub in labelsList])\n",
        "Ms=pd.DataFrame(lr.decision_function(valdata[valdata.columns[17:-13]]),columns=['Ms_' + sub for sub in labelsList])\n",
        "\n",
        "#training on sentimental analysis of data\n",
        "\n",
        "lr.fit(traindata[traindata.columns[-13:]], traindata['Label']) \n",
        "Sentitr=pd.DataFrame(lr.decision_function(traindata[traindata.columns[-13:]]),columns=['Senti_' + sub for sub in labelsList])\n",
        "Senti=pd.DataFrame(lr.decision_function(valdata[valdata.columns[-13:]]),columns=['Senti_' + sub for sub in labelsList])\n",
        "\n",
        "#training on justification\n",
        "lr.fit(jTrain, traindata['Label']) \n",
        "Jtr=pd.DataFrame(lr.decision_function(jTrain),columns=['J_' + sub for sub in labelsList])\n",
        "J=pd.DataFrame(lr.decision_function(jVal),columns=['J_' + sub for sub in labelsList])\n"
      ],
      "execution_count": null,
      "outputs": []
    },
    {
      "cell_type": "code",
      "metadata": {
        "id": "yD7ao_OQeab2"
      },
      "source": [
        "df1=pd.concat([Str,Mvtr,Mstr,Sentitr,Jtr],axis=1)\n",
        "df2=pd.concat([S,Mv,Ms,Senti,J],axis=1)"
      ],
      "execution_count": null,
      "outputs": []
    },
    {
      "cell_type": "code",
      "metadata": {
        "colab": {
          "base_uri": "https://localhost:8080/"
        },
        "id": "wxW_5bVXeab2",
        "outputId": "73d934a3-7a2a-4aa0-ea4b-eb6c6585e4b0"
      },
      "source": [
        "lr_meta=LogisticRegression()\n",
        "lr_meta.fit(df1,traindata['Label'])\n",
        "pred=lr_meta.predict(df2)\n",
        "\n",
        "print(classification_report(valdata['Label'], pred,target_names=labelsList,digits=4))\n",
        "print(np.mean(pred== valdata['Label']))"
      ],
      "execution_count": null,
      "outputs": [
        {
          "output_type": "stream",
          "text": [
            "              precision    recall  f1-score   support\n",
            "\n",
            " barely-true     0.2579    0.2068    0.2295       237\n",
            "       false     0.2606    0.3042    0.2807       263\n",
            "   half-true     0.2635    0.2944    0.2781       248\n",
            " mostly-true     0.3184    0.3108    0.3145       251\n",
            "  pants-fire     0.3000    0.2069    0.2449       116\n",
            "        true     0.2108    0.2308    0.2203       169\n",
            "\n",
            "    accuracy                         0.2671      1284\n",
            "   macro avg     0.2685    0.2590    0.2613      1284\n",
            "weighted avg     0.2690    0.2671    0.2662      1284\n",
            "\n",
            "0.26713395638629284\n"
          ],
          "name": "stdout"
        }
      ]
    },
    {
      "cell_type": "markdown",
      "metadata": {
        "id": "OOtuPoVpy1Jg"
      },
      "source": [
        "# Binary Classification"
      ]
    },
    {
      "cell_type": "markdown",
      "metadata": {
        "id": "4IhrnwY8y46Z"
      },
      "source": [
        "## S condition"
      ]
    },
    {
      "cell_type": "code",
      "metadata": {
        "id": "Vz8y3tjjy46a"
      },
      "source": [
        "#unigram features\n",
        "cvec = CountVectorizer()\n",
        "X_train = cvec.fit_transform(traindata['Statement'])\n",
        "X_val = cvec.transform(valdata['Statement'])\n",
        "X_test = cvec.transform(testdata['Statement'])"
      ],
      "execution_count": null,
      "outputs": []
    },
    {
      "cell_type": "code",
      "metadata": {
        "id": "DEurZEH6y46i"
      },
      "source": [
        "#tf-idf weighted unigram features\n",
        "tfidf = TfidfVectorizer()\n",
        "Xt_train = tfidf.fit_transform(traindata['Statement'])\n",
        "Xt_val = tfidf.transform(valdata['Statement'])\n",
        "Xt_test = tfidf.transform(testdata['Statement'])"
      ],
      "execution_count": null,
      "outputs": []
    },
    {
      "cell_type": "code",
      "metadata": {
        "colab": {
          "base_uri": "https://localhost:8080/"
        },
        "id": "eChkCLoFy46j",
        "outputId": "b31b54c3-ba70-487a-9caa-eb70e454000d"
      },
      "source": [
        "# Glove word embeddings\n",
        "word2vec_output_file = 'glove.6B.50d' +'.word2vec'\n",
        "glove2word2vec('/content/gdrive/My Drive/DM project/glove.6B.50d.txt', word2vec_output_file)\n",
        "model = KeyedVectors.load_word2vec_format(word2vec_output_file, binary=False)\n",
        "vectorizer = Word2VecVectorizer(model)"
      ],
      "execution_count": null,
      "outputs": [
        {
          "output_type": "stream",
          "text": [
            "Loading in word vectors...\n",
            "Finished loading in word vectors\n"
          ],
          "name": "stdout"
        }
      ]
    },
    {
      "cell_type": "code",
      "metadata": {
        "colab": {
          "base_uri": "https://localhost:8080/"
        },
        "id": "0J_TViMXy46k",
        "outputId": "44e968a5-b1c8-45cc-d4c1-1f75b389a926"
      },
      "source": [
        "Xg_train = vectorizer.fit_transform(traindata['Statement'])\n",
        "Xg_val = vectorizer.transform(valdata['Statement'])\n",
        "Xg_test = vectorizer.transform(testdata['Statement'])"
      ],
      "execution_count": null,
      "outputs": [
        {
          "output_type": "stream",
          "text": [
            "Numer of samples with no words found: 0 / 7212\n",
            "Numer of samples with no words found: 0 / 929\n",
            "Numer of samples with no words found: 0 / 924\n"
          ],
          "name": "stdout"
        }
      ]
    },
    {
      "cell_type": "markdown",
      "metadata": {
        "id": "CwV01QwOy46k"
      },
      "source": [
        "### SVM"
      ]
    },
    {
      "cell_type": "code",
      "metadata": {
        "id": "ZDcOPWx8y46l"
      },
      "source": [
        "SVM = svm.LinearSVC()"
      ],
      "execution_count": null,
      "outputs": []
    },
    {
      "cell_type": "code",
      "metadata": {
        "colab": {
          "base_uri": "https://localhost:8080/"
        },
        "id": "l3cLAEVjy46l",
        "outputId": "21e8c2bb-027b-4afa-ca49-9a8de9db22e4"
      },
      "source": [
        "SVM.fit(X_train, traindata['is_fake']) "
      ],
      "execution_count": null,
      "outputs": [
        {
          "output_type": "execute_result",
          "data": {
            "text/plain": [
              "LinearSVC(C=1.0, class_weight=None, dual=True, fit_intercept=True,\n",
              "          intercept_scaling=1, loss='squared_hinge', max_iter=1000,\n",
              "          multi_class='ovr', penalty='l2', random_state=None, tol=0.0001,\n",
              "          verbose=0)"
            ]
          },
          "metadata": {
            "tags": []
          },
          "execution_count": 85
        }
      ]
    },
    {
      "cell_type": "code",
      "metadata": {
        "colab": {
          "base_uri": "https://localhost:8080/"
        },
        "id": "BxFaOlD1y46m",
        "outputId": "c4833581-e733-4184-c646-663ec4013420"
      },
      "source": [
        "print(classification_report(valdata['is_fake'], SVM.predict(X_val),target_names=is_fakeList,digits=4))\n",
        "print(np.mean(SVM.predict(X_val)== valdata['is_fake']))"
      ],
      "execution_count": null,
      "outputs": [
        {
          "output_type": "stream",
          "text": [
            "              precision    recall  f1-score   support\n",
            "\n",
            "       false     0.5330    0.5093    0.5209       428\n",
            "        true     0.5962    0.6188    0.6072       501\n",
            "\n",
            "    accuracy                         0.5684       929\n",
            "   macro avg     0.5646    0.5641    0.5641       929\n",
            "weighted avg     0.5671    0.5684    0.5675       929\n",
            "\n",
            "0.5683530678148547\n"
          ],
          "name": "stdout"
        }
      ]
    },
    {
      "cell_type": "code",
      "metadata": {
        "colab": {
          "base_uri": "https://localhost:8080/"
        },
        "id": "yP8FXl_4y46m",
        "outputId": "f0cd5a90-99c1-4b57-ab51-81ab3edd877a"
      },
      "source": [
        "print(classification_report(testdata['is_fake'], SVM.predict(X_test),target_names=is_fakeList,digits=4))\n",
        "np.mean(SVM.predict(X_test)== testdata['is_fake'])"
      ],
      "execution_count": null,
      "outputs": [
        {
          "output_type": "stream",
          "text": [
            "              precision    recall  f1-score   support\n",
            "\n",
            "       false     0.4960    0.4805    0.4881       385\n",
            "        true     0.6370    0.6512    0.6440       539\n",
            "\n",
            "    accuracy                         0.5801       924\n",
            "   macro avg     0.5665    0.5659    0.5661       924\n",
            "weighted avg     0.5783    0.5801    0.5791       924\n",
            "\n"
          ],
          "name": "stdout"
        },
        {
          "output_type": "execute_result",
          "data": {
            "text/plain": [
              "0.5800865800865801"
            ]
          },
          "metadata": {
            "tags": []
          },
          "execution_count": 87
        }
      ]
    },
    {
      "cell_type": "code",
      "metadata": {
        "colab": {
          "base_uri": "https://localhost:8080/"
        },
        "id": "e3ijI8AIy46m",
        "outputId": "efa47e49-28f7-4161-efbd-06186cc7c166"
      },
      "source": [
        "SVM.fit(Xt_train, traindata['is_fake'])"
      ],
      "execution_count": null,
      "outputs": [
        {
          "output_type": "execute_result",
          "data": {
            "text/plain": [
              "LinearSVC(C=1.0, class_weight=None, dual=True, fit_intercept=True,\n",
              "          intercept_scaling=1, loss='squared_hinge', max_iter=1000,\n",
              "          multi_class='ovr', penalty='l2', random_state=None, tol=0.0001,\n",
              "          verbose=0)"
            ]
          },
          "metadata": {
            "tags": []
          },
          "execution_count": 88
        }
      ]
    },
    {
      "cell_type": "code",
      "metadata": {
        "colab": {
          "base_uri": "https://localhost:8080/"
        },
        "id": "S7lAY29Yy46n",
        "outputId": "b4f8043c-b739-497d-aeab-57fb21c30fbc"
      },
      "source": [
        "print(classification_report(valdata['is_fake'], SVM.predict(Xt_val),target_names=is_fakeList,digits=4))\n",
        "np.mean(SVM.predict(Xt_val)== valdata['is_fake'])"
      ],
      "execution_count": null,
      "outputs": [
        {
          "output_type": "stream",
          "text": [
            "              precision    recall  f1-score   support\n",
            "\n",
            "       false     0.5500    0.4626    0.5025       428\n",
            "        true     0.5958    0.6766    0.6336       501\n",
            "\n",
            "    accuracy                         0.5780       929\n",
            "   macro avg     0.5729    0.5696    0.5681       929\n",
            "weighted avg     0.5747    0.5780    0.5732       929\n",
            "\n"
          ],
          "name": "stdout"
        },
        {
          "output_type": "execute_result",
          "data": {
            "text/plain": [
              "0.5780409041980624"
            ]
          },
          "metadata": {
            "tags": []
          },
          "execution_count": 89
        }
      ]
    },
    {
      "cell_type": "code",
      "metadata": {
        "colab": {
          "base_uri": "https://localhost:8080/"
        },
        "id": "QDyi0A7cy46n",
        "outputId": "cdf49737-3ff4-425a-a580-9bf1a2ccc528"
      },
      "source": [
        "print(classification_report(testdata['is_fake'], SVM.predict(Xt_test),target_names=is_fakeList,digits=4))\n",
        "np.mean(SVM.predict(Xt_test)== testdata['is_fake'])"
      ],
      "execution_count": null,
      "outputs": [
        {
          "output_type": "stream",
          "text": [
            "              precision    recall  f1-score   support\n",
            "\n",
            "       false     0.5513    0.4883    0.5179       385\n",
            "        true     0.6621    0.7161    0.6881       539\n",
            "\n",
            "    accuracy                         0.6212       924\n",
            "   macro avg     0.6067    0.6022    0.6030       924\n",
            "weighted avg     0.6159    0.6212    0.6172       924\n",
            "\n"
          ],
          "name": "stdout"
        },
        {
          "output_type": "execute_result",
          "data": {
            "text/plain": [
              "0.6212121212121212"
            ]
          },
          "metadata": {
            "tags": []
          },
          "execution_count": 90
        }
      ]
    },
    {
      "cell_type": "code",
      "metadata": {
        "colab": {
          "base_uri": "https://localhost:8080/"
        },
        "id": "Vw4BEG5fy46o",
        "outputId": "bf969220-83a5-4814-d654-851223a967dc"
      },
      "source": [
        "SVM.fit(Xg_train, traindata['is_fake'])"
      ],
      "execution_count": null,
      "outputs": [
        {
          "output_type": "execute_result",
          "data": {
            "text/plain": [
              "LinearSVC(C=1.0, class_weight=None, dual=True, fit_intercept=True,\n",
              "          intercept_scaling=1, loss='squared_hinge', max_iter=1000,\n",
              "          multi_class='ovr', penalty='l2', random_state=None, tol=0.0001,\n",
              "          verbose=0)"
            ]
          },
          "metadata": {
            "tags": []
          },
          "execution_count": 91
        }
      ]
    },
    {
      "cell_type": "code",
      "metadata": {
        "colab": {
          "base_uri": "https://localhost:8080/"
        },
        "id": "Y9wpm9TAy46o",
        "outputId": "e5de1251-e5ad-4b6b-f451-9563069acb75"
      },
      "source": [
        "print(classification_report(testdata['is_fake'], SVM.predict(Xg_test),target_names=is_fakeList,digits=4))\n",
        "np.mean(SVM.predict(Xg_test)== testdata['is_fake'])"
      ],
      "execution_count": null,
      "outputs": [
        {
          "output_type": "stream",
          "text": [
            "              precision    recall  f1-score   support\n",
            "\n",
            "       false     0.5472    0.3013    0.3886       385\n",
            "        true     0.6222    0.8219    0.7082       539\n",
            "\n",
            "    accuracy                         0.6050       924\n",
            "   macro avg     0.5847    0.5616    0.5484       924\n",
            "weighted avg     0.5909    0.6050    0.5751       924\n",
            "\n"
          ],
          "name": "stdout"
        },
        {
          "output_type": "execute_result",
          "data": {
            "text/plain": [
              "0.604978354978355"
            ]
          },
          "metadata": {
            "tags": []
          },
          "execution_count": 92
        }
      ]
    },
    {
      "cell_type": "code",
      "metadata": {
        "colab": {
          "base_uri": "https://localhost:8080/"
        },
        "id": "pkJZG5Yay46o",
        "outputId": "f3d1bd2e-61f5-4fa3-b4c6-60ea4c4ecfa7"
      },
      "source": [
        "print(classification_report(valdata['is_fake'], SVM.predict(Xg_val),target_names=is_fakeList,digits=4))\n",
        "np.mean(SVM.predict(Xg_val)== valdata['is_fake'])"
      ],
      "execution_count": null,
      "outputs": [
        {
          "output_type": "stream",
          "text": [
            "              precision    recall  f1-score   support\n",
            "\n",
            "       false     0.6245    0.3458    0.4451       428\n",
            "        true     0.5954    0.8224    0.6907       501\n",
            "\n",
            "    accuracy                         0.6028       929\n",
            "   macro avg     0.6099    0.5841    0.5679       929\n",
            "weighted avg     0.6088    0.6028    0.5776       929\n",
            "\n"
          ],
          "name": "stdout"
        },
        {
          "output_type": "execute_result",
          "data": {
            "text/plain": [
              "0.6027987082884823"
            ]
          },
          "metadata": {
            "tags": []
          },
          "execution_count": 93
        }
      ]
    },
    {
      "cell_type": "markdown",
      "metadata": {
        "id": "ajD9xLEiy46p"
      },
      "source": [
        "### LR"
      ]
    },
    {
      "cell_type": "code",
      "metadata": {
        "id": "BxUPFemmy46p"
      },
      "source": [
        "lr = LogisticRegression()\n"
      ],
      "execution_count": null,
      "outputs": []
    },
    {
      "cell_type": "code",
      "metadata": {
        "colab": {
          "base_uri": "https://localhost:8080/"
        },
        "id": "g2hxnrUny46p",
        "outputId": "e614ac1a-e482-483d-9e8a-bc49663731e2"
      },
      "source": [
        "lr.fit(X_train, traindata['is_fake']) \n"
      ],
      "execution_count": null,
      "outputs": [
        {
          "output_type": "execute_result",
          "data": {
            "text/plain": [
              "LogisticRegression(C=1.0, class_weight=None, dual=False, fit_intercept=True,\n",
              "                   intercept_scaling=1, l1_ratio=None, max_iter=100,\n",
              "                   multi_class='auto', n_jobs=None, penalty='l2',\n",
              "                   random_state=None, solver='lbfgs', tol=0.0001, verbose=0,\n",
              "                   warm_start=False)"
            ]
          },
          "metadata": {
            "tags": []
          },
          "execution_count": 95
        }
      ]
    },
    {
      "cell_type": "code",
      "metadata": {
        "colab": {
          "base_uri": "https://localhost:8080/"
        },
        "id": "PuITTjPKy46q",
        "outputId": "9d888616-4e7f-46a7-c10e-aa34c79c78d3"
      },
      "source": [
        "print(classification_report(valdata['is_fake'], lr.predict(X_val),target_names=is_fakeList,digits=4))\n",
        "print(np.mean(lr.predict(X_val)== valdata['is_fake']))"
      ],
      "execution_count": null,
      "outputs": [
        {
          "output_type": "stream",
          "text": [
            "              precision    recall  f1-score   support\n",
            "\n",
            "       false     0.5435    0.4673    0.5025       428\n",
            "        true     0.5936    0.6647    0.6271       501\n",
            "\n",
            "    accuracy                         0.5737       929\n",
            "   macro avg     0.5685    0.5660    0.5648       929\n",
            "weighted avg     0.5705    0.5737    0.5697       929\n",
            "\n",
            "0.573735199138859\n"
          ],
          "name": "stdout"
        }
      ]
    },
    {
      "cell_type": "code",
      "metadata": {
        "colab": {
          "base_uri": "https://localhost:8080/"
        },
        "id": "LWihlUauy46q",
        "outputId": "09a61bc9-0e9f-4e67-9ce7-921d17f49f8f"
      },
      "source": [
        "print(classification_report(testdata['is_fake'], lr.predict(X_test),target_names=is_fakeList,digits=4))\n",
        "np.mean(lr.predict(X_test)== testdata['is_fake'])"
      ],
      "execution_count": null,
      "outputs": [
        {
          "output_type": "stream",
          "text": [
            "              precision    recall  f1-score   support\n",
            "\n",
            "       false     0.5470    0.4987    0.5217       385\n",
            "        true     0.6632    0.7050    0.6835       539\n",
            "\n",
            "    accuracy                         0.6190       924\n",
            "   macro avg     0.6051    0.6019    0.6026       924\n",
            "weighted avg     0.6148    0.6190    0.6161       924\n",
            "\n"
          ],
          "name": "stdout"
        },
        {
          "output_type": "execute_result",
          "data": {
            "text/plain": [
              "0.6190476190476191"
            ]
          },
          "metadata": {
            "tags": []
          },
          "execution_count": 97
        }
      ]
    },
    {
      "cell_type": "code",
      "metadata": {
        "colab": {
          "base_uri": "https://localhost:8080/"
        },
        "id": "_6yBBJgDy46q",
        "outputId": "6f4d81f4-9e42-498e-e015-f8850f1f126f"
      },
      "source": [
        "lr.fit(Xt_train, traindata['is_fake'])"
      ],
      "execution_count": null,
      "outputs": [
        {
          "output_type": "execute_result",
          "data": {
            "text/plain": [
              "LogisticRegression(C=1.0, class_weight=None, dual=False, fit_intercept=True,\n",
              "                   intercept_scaling=1, l1_ratio=None, max_iter=100,\n",
              "                   multi_class='auto', n_jobs=None, penalty='l2',\n",
              "                   random_state=None, solver='lbfgs', tol=0.0001, verbose=0,\n",
              "                   warm_start=False)"
            ]
          },
          "metadata": {
            "tags": []
          },
          "execution_count": 98
        }
      ]
    },
    {
      "cell_type": "code",
      "metadata": {
        "colab": {
          "base_uri": "https://localhost:8080/"
        },
        "id": "g90DqF70y46r",
        "outputId": "a9fd8874-246f-434a-db5f-6c98287e28bd"
      },
      "source": [
        "print(classification_report(valdata['is_fake'], lr.predict(Xt_val),target_names=is_fakeList,digits=4))\n",
        "np.mean(lr.predict(Xt_val)== valdata['is_fake'])"
      ],
      "execution_count": null,
      "outputs": [
        {
          "output_type": "stream",
          "text": [
            "              precision    recall  f1-score   support\n",
            "\n",
            "       false     0.6157    0.3855    0.4741       428\n",
            "        true     0.6021    0.7944    0.6850       501\n",
            "\n",
            "    accuracy                         0.6060       929\n",
            "   macro avg     0.6089    0.5900    0.5796       929\n",
            "weighted avg     0.6084    0.6060    0.5879       929\n",
            "\n"
          ],
          "name": "stdout"
        },
        {
          "output_type": "execute_result",
          "data": {
            "text/plain": [
              "0.6060279870828849"
            ]
          },
          "metadata": {
            "tags": []
          },
          "execution_count": 99
        }
      ]
    },
    {
      "cell_type": "code",
      "metadata": {
        "colab": {
          "base_uri": "https://localhost:8080/"
        },
        "id": "sd0LECf2y46r",
        "outputId": "a7f363e1-8ce1-4657-cd45-ca377faf6d6d"
      },
      "source": [
        "print(classification_report(testdata['is_fake'], lr.predict(Xt_test),target_names=is_fakeList,digits=4))\n",
        "np.mean(lr.predict(Xt_test)== testdata['is_fake'])"
      ],
      "execution_count": null,
      "outputs": [
        {
          "output_type": "stream",
          "text": [
            "              precision    recall  f1-score   support\n",
            "\n",
            "       false     0.5752    0.3974    0.4700       385\n",
            "        true     0.6474    0.7904    0.7118       539\n",
            "\n",
            "    accuracy                         0.6266       924\n",
            "   macro avg     0.6113    0.5939    0.5909       924\n",
            "weighted avg     0.6173    0.6266    0.6111       924\n",
            "\n"
          ],
          "name": "stdout"
        },
        {
          "output_type": "execute_result",
          "data": {
            "text/plain": [
              "0.6266233766233766"
            ]
          },
          "metadata": {
            "tags": []
          },
          "execution_count": 100
        }
      ]
    },
    {
      "cell_type": "code",
      "metadata": {
        "colab": {
          "base_uri": "https://localhost:8080/"
        },
        "id": "DOBJEFLXy46r",
        "outputId": "bc247a8c-2e26-4116-ed4d-36d12049ee41"
      },
      "source": [
        "lr.fit(Xg_train, traindata['is_fake'])"
      ],
      "execution_count": null,
      "outputs": [
        {
          "output_type": "execute_result",
          "data": {
            "text/plain": [
              "LogisticRegression(C=1.0, class_weight=None, dual=False, fit_intercept=True,\n",
              "                   intercept_scaling=1, l1_ratio=None, max_iter=100,\n",
              "                   multi_class='auto', n_jobs=None, penalty='l2',\n",
              "                   random_state=None, solver='lbfgs', tol=0.0001, verbose=0,\n",
              "                   warm_start=False)"
            ]
          },
          "metadata": {
            "tags": []
          },
          "execution_count": 101
        }
      ]
    },
    {
      "cell_type": "code",
      "metadata": {
        "colab": {
          "base_uri": "https://localhost:8080/"
        },
        "id": "GC1XQ4WZy46s",
        "outputId": "6ec6aaa9-bbaf-485f-d5f7-ce85ef2a9718"
      },
      "source": [
        "print(classification_report(testdata['is_fake'], lr.predict(Xg_test),target_names=is_fakeList,digits=4))\n",
        "np.mean(lr.predict(Xg_test)== testdata['is_fake'])"
      ],
      "execution_count": null,
      "outputs": [
        {
          "output_type": "stream",
          "text": [
            "              precision    recall  f1-score   support\n",
            "\n",
            "       false     0.5409    0.3091    0.3934       385\n",
            "        true     0.6222    0.8126    0.7047       539\n",
            "\n",
            "    accuracy                         0.6028       924\n",
            "   macro avg     0.5815    0.5609    0.5491       924\n",
            "weighted avg     0.5883    0.6028    0.5750       924\n",
            "\n"
          ],
          "name": "stdout"
        },
        {
          "output_type": "execute_result",
          "data": {
            "text/plain": [
              "0.6028138528138528"
            ]
          },
          "metadata": {
            "tags": []
          },
          "execution_count": 102
        }
      ]
    },
    {
      "cell_type": "code",
      "metadata": {
        "colab": {
          "base_uri": "https://localhost:8080/"
        },
        "id": "aLbf5Ahby46s",
        "outputId": "e3f5085e-4ce2-49b7-900e-2f31524572f1"
      },
      "source": [
        "print(classification_report(valdata['is_fake'], lr.predict(Xg_val),target_names=is_fakeList,digits=4))\n",
        "np.mean(lr.predict(Xg_val)== valdata['is_fake'])"
      ],
      "execution_count": null,
      "outputs": [
        {
          "output_type": "stream",
          "text": [
            "              precision    recall  f1-score   support\n",
            "\n",
            "       false     0.6192    0.3458    0.4438       428\n",
            "        true     0.5942    0.8184    0.6885       501\n",
            "\n",
            "    accuracy                         0.6006       929\n",
            "   macro avg     0.6067    0.5821    0.5661       929\n",
            "weighted avg     0.6057    0.6006    0.5758       929\n",
            "\n"
          ],
          "name": "stdout"
        },
        {
          "output_type": "execute_result",
          "data": {
            "text/plain": [
              "0.6006458557588805"
            ]
          },
          "metadata": {
            "tags": []
          },
          "execution_count": 103
        }
      ]
    },
    {
      "cell_type": "markdown",
      "metadata": {
        "id": "K1ML7NI6y46s"
      },
      "source": [
        "## SJ\n"
      ]
    },
    {
      "cell_type": "code",
      "metadata": {
        "id": "p5YWWHSly46s"
      },
      "source": [
        "svec = CountVectorizer()\n",
        "sTrain = svec.fit_transform(traindata['Statement'])\n",
        "sVal = svec.transform(valdata['Statement'])\n",
        "sTest = svec.transform(testdata['Statement'])\n",
        "\n",
        "jvec = CountVectorizer()\n",
        "jTrain = jvec.fit_transform(traindata['Justification'])\n",
        "jVal = jvec.transform(valdata['Justification'])\n",
        "jTest = jvec.transform(testdata['Justification'])\n",
        "\n",
        "train=hstack([sTrain,jTrain])\n",
        "val=hstack([sVal,jVal])\n",
        "test=hstack([sTest,jTest])"
      ],
      "execution_count": null,
      "outputs": []
    },
    {
      "cell_type": "markdown",
      "metadata": {
        "id": "_-YMlLZry46t"
      },
      "source": [
        "### SVM"
      ]
    },
    {
      "cell_type": "code",
      "metadata": {
        "id": "qE3Yf46sy46t"
      },
      "source": [
        "SVM=svm.LinearSVC()"
      ],
      "execution_count": null,
      "outputs": []
    },
    {
      "cell_type": "code",
      "metadata": {
        "colab": {
          "base_uri": "https://localhost:8080/"
        },
        "id": "bDLNhpcmy46t",
        "outputId": "b9dd7771-d875-435f-b605-b6fc401d0da3"
      },
      "source": [
        "SVM.fit(train, traindata['is_fake']) "
      ],
      "execution_count": null,
      "outputs": [
        {
          "output_type": "execute_result",
          "data": {
            "text/plain": [
              "LinearSVC(C=1.0, class_weight=None, dual=True, fit_intercept=True,\n",
              "          intercept_scaling=1, loss='squared_hinge', max_iter=1000,\n",
              "          multi_class='ovr', penalty='l2', random_state=None, tol=0.0001,\n",
              "          verbose=0)"
            ]
          },
          "metadata": {
            "tags": []
          },
          "execution_count": 106
        }
      ]
    },
    {
      "cell_type": "code",
      "metadata": {
        "colab": {
          "base_uri": "https://localhost:8080/"
        },
        "id": "CYB7Hb7My46u",
        "outputId": "220ac5fd-445b-4e07-e71f-4249d853c3ac"
      },
      "source": [
        "print(classification_report(valdata['is_fake'], SVM.predict(val),target_names=is_fakeList,digits=4))\n",
        "print(np.mean(SVM.predict(val)== valdata['is_fake']))"
      ],
      "execution_count": null,
      "outputs": [
        {
          "output_type": "stream",
          "text": [
            "              precision    recall  f1-score   support\n",
            "\n",
            "       false     0.5210    0.4930    0.5066       428\n",
            "        true     0.5859    0.6128    0.5990       501\n",
            "\n",
            "    accuracy                         0.5576       929\n",
            "   macro avg     0.5534    0.5529    0.5528       929\n",
            "weighted avg     0.5560    0.5576    0.5564       929\n",
            "\n",
            "0.5575888051668461\n"
          ],
          "name": "stdout"
        }
      ]
    },
    {
      "cell_type": "code",
      "metadata": {
        "colab": {
          "base_uri": "https://localhost:8080/"
        },
        "id": "gMvSz-3Zy46u",
        "outputId": "b7d03d02-f1f6-47a0-ebff-b83b00fd0564"
      },
      "source": [
        "print(classification_report(testdata['is_fake'], SVM.predict(test),target_names=is_fakeList,digits=4))\n",
        "np.mean(SVM.predict(test)== testdata['is_fake'])"
      ],
      "execution_count": null,
      "outputs": [
        {
          "output_type": "stream",
          "text": [
            "              precision    recall  f1-score   support\n",
            "\n",
            "       false     0.4907    0.4805    0.4856       385\n",
            "        true     0.6344    0.6438    0.6390       539\n",
            "\n",
            "    accuracy                         0.5758       924\n",
            "   macro avg     0.5625    0.5622    0.5623       924\n",
            "weighted avg     0.5745    0.5758    0.5751       924\n",
            "\n"
          ],
          "name": "stdout"
        },
        {
          "output_type": "execute_result",
          "data": {
            "text/plain": [
              "0.5757575757575758"
            ]
          },
          "metadata": {
            "tags": []
          },
          "execution_count": 108
        }
      ]
    },
    {
      "cell_type": "markdown",
      "metadata": {
        "id": "D-mQ-gZyy46v"
      },
      "source": [
        "### LR\n"
      ]
    },
    {
      "cell_type": "code",
      "metadata": {
        "id": "D0Zy9nysy46w"
      },
      "source": [
        "lr = LogisticRegression()"
      ],
      "execution_count": null,
      "outputs": []
    },
    {
      "cell_type": "code",
      "metadata": {
        "id": "0Bm3ZvN6NTLn"
      },
      "source": [
        "lr.fit(sTrain, traindata['is_fake']) \n",
        "Str=pd.DataFrame(lr.decision_function(sTrain))\n",
        "#lr.fit(sVal, valdata['Label']) \n",
        "S=pd.DataFrame(lr.decision_function(sVal))\n",
        "\n",
        "\n",
        "lr.fit(jTrain, traindata['is_fake']) \n",
        "Jtr=pd.DataFrame(lr.decision_function(jTrain))\n",
        "#lr.fit(jVal, valdata['Label']) \n",
        "J=pd.DataFrame(lr.decision_function(jVal))"
      ],
      "execution_count": null,
      "outputs": []
    },
    {
      "cell_type": "code",
      "metadata": {
        "id": "ReUVDHc3NTLt"
      },
      "source": [
        "df1=pd.concat([Str,Jtr],axis=1)\n",
        "df2=pd.concat([S,J],axis=1)"
      ],
      "execution_count": null,
      "outputs": []
    },
    {
      "cell_type": "code",
      "metadata": {
        "colab": {
          "base_uri": "https://localhost:8080/"
        },
        "id": "yf97nlXRNTLu",
        "outputId": "755a4cb2-d207-4742-c5c3-e3cffbc1bce0"
      },
      "source": [
        "lr_meta=LogisticRegression()\n",
        "lr_meta.fit(df1,traindata['is_fake'])\n",
        "pred=lr_meta.predict(df2)\n",
        "\n",
        "print(classification_report(valdata['is_fake'], pred,target_names=is_fakeList,digits=4))\n",
        "print(np.mean(pred== valdata['is_fake']))"
      ],
      "execution_count": null,
      "outputs": [
        {
          "output_type": "stream",
          "text": [
            "              precision    recall  f1-score   support\n",
            "\n",
            "       false     0.5493    0.5065    0.5270       616\n",
            "        true     0.5754    0.6168    0.5954       668\n",
            "\n",
            "    accuracy                         0.5639      1284\n",
            "   macro avg     0.5624    0.5616    0.5612      1284\n",
            "weighted avg     0.5629    0.5639    0.5626      1284\n",
            "\n",
            "0.5638629283489096\n"
          ],
          "name": "stdout"
        }
      ]
    },
    {
      "cell_type": "code",
      "metadata": {
        "colab": {
          "base_uri": "https://localhost:8080/"
        },
        "id": "jsTQBfrDy46w",
        "outputId": "0ea7fe08-5605-47b4-a49c-a8439a93e2b6"
      },
      "source": [
        "lr.fit(train, traindata['is_fake']) \n"
      ],
      "execution_count": null,
      "outputs": [
        {
          "output_type": "execute_result",
          "data": {
            "text/plain": [
              "LogisticRegression(C=1.0, class_weight=None, dual=False, fit_intercept=True,\n",
              "                   intercept_scaling=1, l1_ratio=None, max_iter=100,\n",
              "                   multi_class='auto', n_jobs=None, penalty='l2',\n",
              "                   random_state=None, solver='lbfgs', tol=0.0001, verbose=0,\n",
              "                   warm_start=False)"
            ]
          },
          "metadata": {
            "tags": []
          },
          "execution_count": 110
        }
      ]
    },
    {
      "cell_type": "code",
      "metadata": {
        "colab": {
          "base_uri": "https://localhost:8080/"
        },
        "id": "EAm05-w9y46w",
        "outputId": "b525d78f-2283-405f-f151-042a5076e06d"
      },
      "source": [
        "print(classification_report(valdata['is_fake'], lr.predict(val),target_names=is_fakeList,digits=4))\n",
        "print(np.mean(lr.predict(val)== valdata['is_fake']))"
      ],
      "execution_count": null,
      "outputs": [
        {
          "output_type": "stream",
          "text": [
            "              precision    recall  f1-score   support\n",
            "\n",
            "       false     0.5302    0.4720    0.4994       428\n",
            "        true     0.5876    0.6427    0.6139       501\n",
            "\n",
            "    accuracy                         0.5640       929\n",
            "   macro avg     0.5589    0.5573    0.5566       929\n",
            "weighted avg     0.5611    0.5640    0.5612       929\n",
            "\n",
            "0.5640473627556513\n"
          ],
          "name": "stdout"
        }
      ]
    },
    {
      "cell_type": "code",
      "metadata": {
        "colab": {
          "base_uri": "https://localhost:8080/"
        },
        "id": "jOszY8gTy46x",
        "outputId": "20502362-a468-468b-8c74-b1cb2207a779"
      },
      "source": [
        "print(classification_report(testdata['is_fake'], lr.predict(test),target_names=is_fakeList,digits=4))\n",
        "np.mean(lr.predict(test)== testdata['is_fake'])"
      ],
      "execution_count": null,
      "outputs": [
        {
          "output_type": "stream",
          "text": [
            "              precision    recall  f1-score   support\n",
            "\n",
            "       false     0.4986    0.4649    0.4812       385\n",
            "        true     0.6354    0.6660    0.6504       539\n",
            "\n",
            "    accuracy                         0.5823       924\n",
            "   macro avg     0.5670    0.5655    0.5658       924\n",
            "weighted avg     0.5784    0.5823    0.5799       924\n",
            "\n"
          ],
          "name": "stdout"
        },
        {
          "output_type": "execute_result",
          "data": {
            "text/plain": [
              "0.5822510822510822"
            ]
          },
          "metadata": {
            "tags": []
          },
          "execution_count": 112
        }
      ]
    },
    {
      "cell_type": "markdown",
      "metadata": {
        "id": "E15V7Du-y46x"
      },
      "source": [
        "## S+M"
      ]
    },
    {
      "cell_type": "code",
      "metadata": {
        "id": "Dz9wbGEhy46x"
      },
      "source": [
        "meta_features =['Context', 'Subject', 'Job Title']\n",
        "vec_St=CountVectorizer()\n",
        "vec_C=CountVectorizer()\n",
        "vec_S=CountVectorizer()\n",
        "vec_Jt=CountVectorizer()\n",
        "\n",
        "Train_St = vec_St.fit_transform(traindata['Statement'])\n",
        "Val_St = vec_St.transform(valdata['Statement'])\n",
        "Test_St = vec_St.transform(testdata['Statement'])\n",
        "\n",
        "Train_C = vec_C.fit_transform(traindata['Context'])\n",
        "Val_C = vec_C.transform(valdata['Context'])\n",
        "Test_C = vec_C.transform(testdata['Context'])\n",
        "\n",
        "Train_S = vec_S.fit_transform(traindata['Subject'])\n",
        "Val_S = vec_S.transform(valdata['Subject'])\n",
        "Test_S = vec_S.transform(testdata['Subject'])\n",
        "\n",
        "Train_Jt = vec_Jt.fit_transform(traindata['Job Title'])\n",
        "Val_Jt = vec_Jt.transform(valdata['Job Title'])\n",
        "Test_Jt = vec_Jt.transform(testdata['Job Title'])\n",
        "\n",
        "train=hstack([Train_St,Train_C,Train_S,Train_Jt])\n",
        "val=hstack([Val_St,Val_C,Val_S,Val_Jt])\n",
        "test=hstack([Test_St,Test_C,Test_S,Test_Jt])\n",
        "\n",
        "train= hstack([train,traindata[traindata.columns[17:]]])\n",
        "val= hstack([val,valdata[valdata.columns[17:]]])\n",
        "test= hstack([test,testdata[testdata.columns[17:]]])"
      ],
      "execution_count": null,
      "outputs": []
    },
    {
      "cell_type": "markdown",
      "metadata": {
        "id": "k669tM_ty46y"
      },
      "source": [
        "### SVM"
      ]
    },
    {
      "cell_type": "code",
      "metadata": {
        "id": "2y8f1mC5y46y"
      },
      "source": [
        "SVM = svm.LinearSVC()"
      ],
      "execution_count": null,
      "outputs": []
    },
    {
      "cell_type": "code",
      "metadata": {
        "colab": {
          "base_uri": "https://localhost:8080/"
        },
        "id": "CDAAyboSy46y",
        "outputId": "673641fa-70d3-463f-83ec-e7fcaa6b3f6a"
      },
      "source": [
        "SVM.fit(train, traindata['is_fake']) "
      ],
      "execution_count": null,
      "outputs": [
        {
          "output_type": "execute_result",
          "data": {
            "text/plain": [
              "LinearSVC(C=1.0, class_weight=None, dual=True, fit_intercept=True,\n",
              "          intercept_scaling=1, loss='squared_hinge', max_iter=1000,\n",
              "          multi_class='ovr', penalty='l2', random_state=None, tol=0.0001,\n",
              "          verbose=0)"
            ]
          },
          "metadata": {
            "tags": []
          },
          "execution_count": 115
        }
      ]
    },
    {
      "cell_type": "code",
      "metadata": {
        "colab": {
          "base_uri": "https://localhost:8080/"
        },
        "id": "Fe6hoA_by46y",
        "outputId": "377f56f8-7ea3-40f7-cea4-8e495938f805"
      },
      "source": [
        "print(classification_report(valdata['is_fake'], SVM.predict(val),target_names=is_fakeList,digits=4))\n",
        "print(np.mean(SVM.predict(val)== valdata['is_fake']))"
      ],
      "execution_count": null,
      "outputs": [
        {
          "output_type": "stream",
          "text": [
            "              precision    recall  f1-score   support\n",
            "\n",
            "       false     0.5575    0.5327    0.5448       428\n",
            "        true     0.6154    0.6387    0.6268       501\n",
            "\n",
            "    accuracy                         0.5899       929\n",
            "   macro avg     0.5864    0.5857    0.5858       929\n",
            "weighted avg     0.5887    0.5899    0.5890       929\n",
            "\n",
            "0.589881593110872\n"
          ],
          "name": "stdout"
        }
      ]
    },
    {
      "cell_type": "code",
      "metadata": {
        "colab": {
          "base_uri": "https://localhost:8080/"
        },
        "id": "7QyeFJn5y46z",
        "outputId": "3b883b9a-92d4-46bd-b7b0-a4c44b231059"
      },
      "source": [
        "print(classification_report(testdata['is_fake'], SVM.predict(test),target_names=is_fakeList,digits=4))\n",
        "np.mean(SVM.predict(test)== testdata['is_fake'])"
      ],
      "execution_count": null,
      "outputs": [
        {
          "output_type": "stream",
          "text": [
            "              precision    recall  f1-score   support\n",
            "\n",
            "       false     0.5282    0.5351    0.5316       385\n",
            "        true     0.6648    0.6586    0.6617       539\n",
            "\n",
            "    accuracy                         0.6071       924\n",
            "   macro avg     0.5965    0.5968    0.5967       924\n",
            "weighted avg     0.6079    0.6071    0.6075       924\n",
            "\n"
          ],
          "name": "stdout"
        },
        {
          "output_type": "execute_result",
          "data": {
            "text/plain": [
              "0.6071428571428571"
            ]
          },
          "metadata": {
            "tags": []
          },
          "execution_count": 117
        }
      ]
    },
    {
      "cell_type": "markdown",
      "metadata": {
        "id": "AKbb6yomy46z"
      },
      "source": [
        "### LR"
      ]
    },
    {
      "cell_type": "code",
      "metadata": {
        "id": "xcno-RQdy46z"
      },
      "source": [
        "lr = LogisticRegression()\n"
      ],
      "execution_count": null,
      "outputs": []
    },
    {
      "cell_type": "code",
      "metadata": {
        "colab": {
          "base_uri": "https://localhost:8080/"
        },
        "id": "rxnp-UGsy46z",
        "outputId": "19b2e1eb-3de7-4a0a-9c68-753cf6767a6d"
      },
      "source": [
        "lr.fit(train, traindata['is_fake']) \n"
      ],
      "execution_count": null,
      "outputs": [
        {
          "output_type": "execute_result",
          "data": {
            "text/plain": [
              "LogisticRegression(C=1.0, class_weight=None, dual=False, fit_intercept=True,\n",
              "                   intercept_scaling=1, l1_ratio=None, max_iter=100,\n",
              "                   multi_class='auto', n_jobs=None, penalty='l2',\n",
              "                   random_state=None, solver='lbfgs', tol=0.0001, verbose=0,\n",
              "                   warm_start=False)"
            ]
          },
          "metadata": {
            "tags": []
          },
          "execution_count": 119
        }
      ]
    },
    {
      "cell_type": "code",
      "metadata": {
        "colab": {
          "base_uri": "https://localhost:8080/"
        },
        "id": "0N5wJXuLy460",
        "outputId": "1170a48e-59a6-4a52-9fb7-f5d157527f8a"
      },
      "source": [
        "print(classification_report(valdata['is_fake'], lr.predict(val),target_names=is_fakeList,digits=4))\n",
        "print(np.mean(lr.predict(val)== valdata['is_fake']))"
      ],
      "execution_count": null,
      "outputs": [
        {
          "output_type": "stream",
          "text": [
            "              precision    recall  f1-score   support\n",
            "\n",
            "       false     0.6160    0.5397    0.5753       428\n",
            "        true     0.6444    0.7126    0.6768       501\n",
            "\n",
            "    accuracy                         0.6329       929\n",
            "   macro avg     0.6302    0.6261    0.6261       929\n",
            "weighted avg     0.6313    0.6329    0.6300       929\n",
            "\n",
            "0.6329386437029063\n"
          ],
          "name": "stdout"
        }
      ]
    },
    {
      "cell_type": "code",
      "metadata": {
        "colab": {
          "base_uri": "https://localhost:8080/"
        },
        "id": "LBsghS0my460",
        "outputId": "c0216532-76f7-4906-c248-2363ce52b076"
      },
      "source": [
        "print(classification_report(testdata['is_fake'], lr.predict(test),target_names=is_fakeList,digits=4))\n",
        "np.mean(lr.predict(test)== testdata['is_fake'])"
      ],
      "execution_count": null,
      "outputs": [
        {
          "output_type": "stream",
          "text": [
            "              precision    recall  f1-score   support\n",
            "\n",
            "       false     0.5482    0.5169    0.5321       385\n",
            "        true     0.6684    0.6957    0.6818       539\n",
            "\n",
            "    accuracy                         0.6212       924\n",
            "   macro avg     0.6083    0.6063    0.6070       924\n",
            "weighted avg     0.6183    0.6212    0.6194       924\n",
            "\n"
          ],
          "name": "stdout"
        },
        {
          "output_type": "execute_result",
          "data": {
            "text/plain": [
              "0.6212121212121212"
            ]
          },
          "metadata": {
            "tags": []
          },
          "execution_count": 121
        }
      ]
    },
    {
      "cell_type": "markdown",
      "metadata": {
        "id": "albDKADty460"
      },
      "source": [
        "## S+MJ"
      ]
    },
    {
      "cell_type": "code",
      "metadata": {
        "id": "IXr-xd8jy461"
      },
      "source": [
        "meta_features =['Context', 'Subject', 'Job Title']\n",
        "vec_St=CountVectorizer()\n",
        "vec_C=CountVectorizer()\n",
        "vec_S=CountVectorizer()\n",
        "vec_Jt=CountVectorizer()\n",
        "vec_J=CountVectorizer()\n",
        "\n",
        "Train_St = vec_St.fit_transform(traindata['Statement'])\n",
        "Val_St = vec_St.transform(valdata['Statement'])\n",
        "Test_St = vec_St.transform(testdata['Statement'])\n",
        "\n",
        "Train_C = vec_C.fit_transform(traindata['Context'])\n",
        "Val_C = vec_C.transform(valdata['Context'])\n",
        "Test_C = vec_C.transform(testdata['Context'])\n",
        "\n",
        "Train_S = vec_S.fit_transform(traindata['Subject'])\n",
        "Val_S = vec_S.transform(valdata['Subject'])\n",
        "Test_S = vec_S.transform(testdata['Subject'])\n",
        "\n",
        "Train_Jt = vec_Jt.fit_transform(traindata['Job Title'])\n",
        "Val_Jt = vec_Jt.transform(valdata['Job Title'])\n",
        "Test_Jt = vec_Jt.transform(testdata['Job Title'])\n",
        "\n",
        "Train_J = vec_J.fit_transform(traindata['Justification'])\n",
        "Val_J = vec_J.transform(valdata['Justification'])\n",
        "Test_J = vec_J.transform(testdata['Justification'])\n",
        "\n",
        "train=hstack([Train_St,Train_C,Train_S,Train_Jt,Train_J])\n",
        "val=hstack([Val_St,Val_C,Val_S,Val_Jt,Val_J])\n",
        "test=hstack([Test_St,Test_C,Test_S,Test_Jt,Test_J])\n",
        "\n",
        "train= hstack([train,traindata[traindata.columns[17:]]])\n",
        "val= hstack([val,valdata[valdata.columns[17:]]])\n",
        "test= hstack([test,testdata[testdata.columns[17:]]])\n",
        "\n",
        "mTrain=hstack([Train_C,Train_S,Train_Jt])\n",
        "mVal=hstack([Val_C,Val_S,Val_Jt])\n",
        "mTest=hstack([Test_C,Test_S,Test_Jt])"
      ],
      "execution_count": null,
      "outputs": []
    },
    {
      "cell_type": "markdown",
      "metadata": {
        "id": "NcOnK62wy461"
      },
      "source": [
        "### SVM"
      ]
    },
    {
      "cell_type": "code",
      "metadata": {
        "id": "74AOMKGey461"
      },
      "source": [
        "SVM = svm.LinearSVC()"
      ],
      "execution_count": null,
      "outputs": []
    },
    {
      "cell_type": "code",
      "metadata": {
        "colab": {
          "base_uri": "https://localhost:8080/"
        },
        "id": "4uPiQ2kVy462",
        "outputId": "b42eca5c-5a1f-494b-a4b8-f1c209a834f2"
      },
      "source": [
        "SVM.fit(train, traindata['is_fake']) "
      ],
      "execution_count": null,
      "outputs": [
        {
          "output_type": "execute_result",
          "data": {
            "text/plain": [
              "LinearSVC(C=1.0, class_weight=None, dual=True, fit_intercept=True,\n",
              "          intercept_scaling=1, loss='squared_hinge', max_iter=1000,\n",
              "          multi_class='ovr', penalty='l2', random_state=None, tol=0.0001,\n",
              "          verbose=0)"
            ]
          },
          "metadata": {
            "tags": []
          },
          "execution_count": 124
        }
      ]
    },
    {
      "cell_type": "code",
      "metadata": {
        "colab": {
          "base_uri": "https://localhost:8080/"
        },
        "id": "nHptnPRiy462",
        "outputId": "7ddec0da-97b1-4e19-9b78-d1d7517dd58d"
      },
      "source": [
        "print(classification_report(valdata['is_fake'], SVM.predict(val),target_names=is_fakeList,digits=4))\n",
        "print(np.mean(SVM.predict(val)== valdata['is_fake']))"
      ],
      "execution_count": null,
      "outputs": [
        {
          "output_type": "stream",
          "text": [
            "              precision    recall  f1-score   support\n",
            "\n",
            "       false     0.5556    0.5023    0.5276       428\n",
            "        true     0.6070    0.6567    0.6309       501\n",
            "\n",
            "    accuracy                         0.5856       929\n",
            "   macro avg     0.5813    0.5795    0.5792       929\n",
            "weighted avg     0.5833    0.5856    0.5833       929\n",
            "\n",
            "0.5855758880516685\n"
          ],
          "name": "stdout"
        }
      ]
    },
    {
      "cell_type": "code",
      "metadata": {
        "colab": {
          "base_uri": "https://localhost:8080/"
        },
        "id": "j8mrQxtky462",
        "outputId": "5ff198e5-4dae-416a-f37b-4de5a55bc549"
      },
      "source": [
        "print(classification_report(testdata['is_fake'], SVM.predict(test),target_names=is_fakeList,digits=4))\n",
        "np.mean(SVM.predict(test)== testdata['is_fake'])"
      ],
      "execution_count": null,
      "outputs": [
        {
          "output_type": "stream",
          "text": [
            "              precision    recall  f1-score   support\n",
            "\n",
            "       false     0.5137    0.4883    0.5007       385\n",
            "        true     0.6470    0.6698    0.6582       539\n",
            "\n",
            "    accuracy                         0.5942       924\n",
            "   macro avg     0.5803    0.5790    0.5794       924\n",
            "weighted avg     0.5914    0.5942    0.5925       924\n",
            "\n"
          ],
          "name": "stdout"
        },
        {
          "output_type": "execute_result",
          "data": {
            "text/plain": [
              "0.5941558441558441"
            ]
          },
          "metadata": {
            "tags": []
          },
          "execution_count": 126
        }
      ]
    },
    {
      "cell_type": "markdown",
      "metadata": {
        "id": "TdkHpASDy462"
      },
      "source": [
        "### LR"
      ]
    },
    {
      "cell_type": "code",
      "metadata": {
        "id": "SQTEL_BDy463"
      },
      "source": [
        "lr = LogisticRegression()"
      ],
      "execution_count": null,
      "outputs": []
    },
    {
      "cell_type": "code",
      "metadata": {
        "id": "LM7S4iT0e_6s"
      },
      "source": [
        "#testing ensemble stacking technique\n",
        "\n",
        "lr.fit(sTrain, traindata['is_fake']) \n",
        "Str=pd.DataFrame(lr.decision_function(sTrain))\n",
        "S=pd.DataFrame(lr.decision_function(sVal))\n",
        "\n",
        "#training on metadata countVectors\n",
        "lr.fit(mTrain, traindata['is_fake']) \n",
        "Mvtr=pd.DataFrame(lr.decision_function(mTrain))\n",
        "Mv=pd.DataFrame(lr.decision_function(mVal))\n",
        "\n",
        "#training on sparse metadata\n",
        "lr.fit(traindata[traindata.columns[17:-13]], traindata['is_fake']) \n",
        "Mstr=pd.DataFrame(lr.decision_function(traindata[traindata.columns[17:-13]]))\n",
        "Ms=pd.DataFrame(lr.decision_function(valdata[valdata.columns[17:-13]]))\n",
        "\n",
        "#training on sentimental analysis of data\n",
        "\n",
        "lr.fit(traindata[traindata.columns[-13:]], traindata['is_fake']) \n",
        "Sentitr=pd.DataFrame(lr.decision_function(traindata[traindata.columns[-13:]]))\n",
        "Senti=pd.DataFrame(lr.decision_function(valdata[valdata.columns[-13:]]))\n",
        "\n",
        "#training on justification\n",
        "lr.fit(jTrain, traindata['is_fake']) \n",
        "Jtr=pd.DataFrame(lr.decision_function(jTrain))\n",
        "J=pd.DataFrame(lr.decision_function(jVal))\n"
      ],
      "execution_count": null,
      "outputs": []
    },
    {
      "cell_type": "code",
      "metadata": {
        "id": "p8BUL05be_6y"
      },
      "source": [
        "df1=pd.concat([Str,Mvtr,Mstr,Sentitr,Jtr],axis=1)\n",
        "df2=pd.concat([S,Mv,Ms,Senti,J],axis=1)"
      ],
      "execution_count": null,
      "outputs": []
    },
    {
      "cell_type": "code",
      "metadata": {
        "colab": {
          "base_uri": "https://localhost:8080/"
        },
        "id": "jO0QOWPse_6y",
        "outputId": "4f846bd8-a361-42d8-8f5d-2bbf873237ba"
      },
      "source": [
        "lr_meta=LogisticRegression()\n",
        "lr_meta.fit(df1,traindata['is_fake'])\n",
        "pred=lr_meta.predict(df2)\n",
        "\n",
        "print(classification_report(valdata['is_fake'], pred,target_names=is_fakeList,digits=4))\n",
        "print(np.mean(pred== valdata['is_fake']))"
      ],
      "execution_count": null,
      "outputs": [
        {
          "output_type": "stream",
          "text": [
            "              precision    recall  f1-score   support\n",
            "\n",
            "       false     0.5626    0.5179    0.5393       616\n",
            "        true     0.5858    0.6287    0.6065       668\n",
            "\n",
            "    accuracy                         0.5755      1284\n",
            "   macro avg     0.5742    0.5733    0.5729      1284\n",
            "weighted avg     0.5747    0.5755    0.5743      1284\n",
            "\n",
            "0.5755451713395638\n"
          ],
          "name": "stdout"
        }
      ]
    },
    {
      "cell_type": "code",
      "metadata": {
        "colab": {
          "base_uri": "https://localhost:8080/"
        },
        "id": "Is-Cno-Ry463",
        "outputId": "e0a84420-3f80-4380-92e4-acde8665ccc7"
      },
      "source": [
        "lr.fit(train, traindata['is_fake']) \n"
      ],
      "execution_count": null,
      "outputs": [
        {
          "output_type": "execute_result",
          "data": {
            "text/plain": [
              "LogisticRegression(C=1.0, class_weight=None, dual=False, fit_intercept=True,\n",
              "                   intercept_scaling=1, l1_ratio=None, max_iter=100,\n",
              "                   multi_class='auto', n_jobs=None, penalty='l2',\n",
              "                   random_state=None, solver='lbfgs', tol=0.0001, verbose=0,\n",
              "                   warm_start=False)"
            ]
          },
          "metadata": {
            "tags": []
          },
          "execution_count": 128
        }
      ]
    },
    {
      "cell_type": "code",
      "metadata": {
        "colab": {
          "base_uri": "https://localhost:8080/"
        },
        "id": "EjDuG7W6y463",
        "outputId": "79aafc13-a4ca-48ac-a839-80a9dd04c8c2"
      },
      "source": [
        "print(classification_report(valdata['is_fake'], lr.predict(val),target_names=is_fakeList,digits=4))\n",
        "print(np.mean(lr.predict(val)== valdata['is_fake']))"
      ],
      "execution_count": null,
      "outputs": [
        {
          "output_type": "stream",
          "text": [
            "              precision    recall  f1-score   support\n",
            "\n",
            "       false     0.5891    0.5327    0.5595       428\n",
            "        true     0.6310    0.6826    0.6558       501\n",
            "\n",
            "    accuracy                         0.6136       929\n",
            "   macro avg     0.6101    0.6077    0.6077       929\n",
            "weighted avg     0.6117    0.6136    0.6114       929\n",
            "\n",
            "0.6135629709364908\n"
          ],
          "name": "stdout"
        }
      ]
    },
    {
      "cell_type": "code",
      "metadata": {
        "colab": {
          "base_uri": "https://localhost:8080/"
        },
        "id": "GD1KleWBy463",
        "outputId": "c4bed21b-d3f3-4ab6-c0ca-e7d952510e38"
      },
      "source": [
        "print(classification_report(testdata['is_fake'], lr.predict(test),target_names=is_fakeList,digits=4))\n",
        "np.mean(lr.predict(test)== testdata['is_fake'])"
      ],
      "execution_count": null,
      "outputs": [
        {
          "output_type": "stream",
          "text": [
            "              precision    recall  f1-score   support\n",
            "\n",
            "       false     0.5380    0.4961    0.5162       385\n",
            "        true     0.6591    0.6957    0.6769       539\n",
            "\n",
            "    accuracy                         0.6126       924\n",
            "   macro avg     0.5985    0.5959    0.5966       924\n",
            "weighted avg     0.6086    0.6126    0.6099       924\n",
            "\n"
          ],
          "name": "stdout"
        },
        {
          "output_type": "execute_result",
          "data": {
            "text/plain": [
              "0.6125541125541125"
            ]
          },
          "metadata": {
            "tags": []
          },
          "execution_count": 130
        }
      ]
    },
    {
      "cell_type": "markdown",
      "metadata": {
        "id": "uGjLsPXFydei"
      },
      "source": [
        "# Other Methods tested"
      ]
    },
    {
      "cell_type": "code",
      "metadata": {
        "colab": {
          "base_uri": "https://localhost:8080/"
        },
        "id": "Nmb1UGYYn6rb",
        "outputId": "9297e1d1-0a0d-47ec-93e1-8431208cf0c4"
      },
      "source": [
        "from scipy.sparse import coo_matrix, hstack\n",
        "# create the transform\n",
        "vec = CountVectorizer()\n",
        "vecj= CountVectorizer()\n",
        "\n",
        "# tokenize, build vocab and encode training data\n",
        "traindata_vec = vec.fit_transform(traindata['Statement'].map(str))\n",
        "traindata_vecj = vecj.fit_transform(traindata['Justification'].map(str))\n",
        "print(traindata_vec.shape)\n",
        "print(traindata_vecj.shape)\n",
        "\n",
        "union1 = FeatureUnion([('S1', vec), ('J1', vecj)])\n",
        "train=hstack([traindata_vec,traindata_vecj])\n",
        "print(train.shape)\n",
        "#union.shape\n",
        "testdata_vec = vec.transform(testdata['Statement'].map(str))\n",
        "testdata_vecj = vecj.transform(testdata['Justification'].map(str))\n",
        "union2 = FeatureUnion([('S2', vec), ('J2', vecj)])\n",
        "test=hstack([testdata_vec,testdata_vecj])\n",
        "#print(testdata_vec.shape)\n"
      ],
      "execution_count": null,
      "outputs": [
        {
          "output_type": "stream",
          "text": [
            "(10240, 11601)\n",
            "(10240, 22329)\n",
            "(10240, 33930)\n"
          ],
          "name": "stdout"
        }
      ]
    },
    {
      "cell_type": "code",
      "metadata": {
        "id": "qzcK0Br97ho-",
        "colab": {
          "base_uri": "https://localhost:8080/"
        },
        "outputId": "c140a4bf-c636-4eec-92f1-10c845c5c20c"
      },
      "source": [
        "###six-way classification###\n",
        "\n",
        "### concatenating statement and justification ###\n",
        "traindata['New'] = traindata['Statement'].map(str) + traindata['Justification'].map(str)\n",
        "testdata['New'] = testdata['Statement'].map(str) + testdata['Justification'].map(str)\n",
        "X_train=traindata[['Statement','Justification']]\n",
        "Y_train=traindata[['is_fake']]\n",
        "test=testdata[['Statement','Justification']]\n",
        "print(X_train.shape)\n",
        "print(Y_train.shape)\n",
        "\n"
      ],
      "execution_count": null,
      "outputs": [
        {
          "output_type": "stream",
          "text": [
            "(10240, 2)\n",
            "(10240, 1)\n"
          ],
          "name": "stdout"
        }
      ]
    },
    {
      "cell_type": "code",
      "metadata": {
        "id": "BKZAgjn7pd7B",
        "colab": {
          "base_uri": "https://localhost:8080/"
        },
        "outputId": "cd6ab3a0-326e-4ce7-de74-3a005d3d1402"
      },
      "source": [
        "\n",
        "nvec = CountVectorizer(ngram_range=(1,1))\n",
        "traindata_nvec = nvec.fit_transform(traindata['New'].values)\n",
        "\n",
        "logReg_pipeline_cv = Pipeline([\n",
        "    ('LogRCV', nvec),\n",
        "    ('LogR_model', LogisticRegression())\n",
        "])\n",
        "\n",
        "logReg_pipeline_cv.fit(traindata['New'], traindata['Label'])\n",
        "predictions_logReg = logReg_pipeline_cv.predict(testdata['New'])\n",
        "logReg_cv = np.mean(predictions_logReg == testdata['Label'])\n",
        "print(logReg_cv)\n",
        "\n"
      ],
      "execution_count": null,
      "outputs": [
        {
          "output_type": "stream",
          "text": [
            "0.1925808997632202\n"
          ],
          "name": "stdout"
        }
      ]
    },
    {
      "cell_type": "code",
      "metadata": {
        "id": "qGY3L5SupkWq",
        "colab": {
          "base_uri": "https://localhost:8080/"
        },
        "outputId": "6f3c5629-8e6e-4e56-dff5-b04c414ab874"
      },
      "source": [
        "logReg_pipeline_cv.fit(traindata['New'], traindata['Label'])\n",
        "predictions_logReg = logReg_pipeline_cv.predict(testdata['Statement'])\n",
        "logReg_cv = np.mean(predictions_logReg == testdata['Label'])\n",
        "print(logReg_cv)"
      ],
      "execution_count": null,
      "outputs": [
        {
          "output_type": "stream",
          "text": [
            "0.22888713496448304\n"
          ],
          "name": "stdout"
        }
      ]
    }
  ]
}