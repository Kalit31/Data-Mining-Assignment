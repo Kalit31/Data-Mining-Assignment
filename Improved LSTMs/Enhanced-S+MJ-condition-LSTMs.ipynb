{
  "nbformat": 4,
  "nbformat_minor": 0,
  "metadata": {
    "colab": {
      "name": "Enhanced S+MJ condition-LSTMs.ipynb",
      "provenance": [],
      "collapsed_sections": [],
      "mount_file_id": "1Z5UPQ_f6s1lnaJ85JruC-hORIjDhnNYd",
      "authorship_tag": "ABX9TyMpgm7o4CeSZIjKsAYuDcxB",
      "include_colab_link": true
    },
    "kernelspec": {
      "name": "python3",
      "display_name": "Python 3"
    },
    "language_info": {
      "name": "python"
    },
    "accelerator": "GPU"
  },
  "cells": [
    {
      "cell_type": "markdown",
      "metadata": {
        "id": "view-in-github",
        "colab_type": "text"
      },
      "source": [
        "<a href=\"https://colab.research.google.com/github/Kalit31/Data-Mining-Assignment/blob/main/Improved%20LSTMs/Enhanced-S%2BMJ-condition-LSTMs.ipynb\" target=\"_parent\"><img src=\"https://colab.research.google.com/assets/colab-badge.svg\" alt=\"Open In Colab\"/></a>"
      ]
    },
    {
      "cell_type": "code",
      "metadata": {
        "colab": {
          "base_uri": "https://localhost:8080/"
        },
        "id": "dDskHV1HNKx8",
        "outputId": "58967beb-6829-4708-daa8-a354b767258f"
      },
      "source": [
        "from google.colab import drive\n",
        "drive.mount('/content/drive/')"
      ],
      "execution_count": 1,
      "outputs": [
        {
          "output_type": "stream",
          "text": [
            "Mounted at /content/drive/\n"
          ],
          "name": "stdout"
        }
      ]
    },
    {
      "cell_type": "code",
      "metadata": {
        "id": "yFEQ2p5EOXj3"
      },
      "source": [
        "#Import libraries\n",
        "import pandas as pd\n",
        "import numpy as np\n",
        "import cv2\n",
        "import keras\n",
        "import matplotlib.pyplot as plt\n",
        "import tensorflow as tf\n",
        "from keras.preprocessing.text import Tokenizer\n",
        "from keras.preprocessing.sequence import pad_sequences\n",
        "from keras.callbacks import ModelCheckpoint, EarlyStopping, ReduceLROnPlateau, Callback, TensorBoard\n",
        "from keras.layers import Input, Embedding, Bidirectional, LSTM, Conv1D, MaxPooling1D, BatchNormalization, Flatten, Dense, Dropout, Reshape, Concatenate, Masking\n",
        "from keras.regularizers import l2\n",
        "from keras.utils import Sequence, to_categorical\n",
        "from keras.optimizers import Adam\n",
        "from keras.backend import epsilon\n",
        "from keras.models import model_from_json\n",
        "from keras.models import Model, Sequential\n",
        "\n",
        "import nltk\n",
        "from nltk.tokenize import RegexpTokenizer\n",
        "\n",
        "from sklearn.linear_model import  LogisticRegression\n",
        "from sklearn.metrics import confusion_matrix, f1_score, classification_report,accuracy_score\n",
        "from sklearn.metrics import precision_recall_curve\n",
        "from sklearn.metrics import average_precision_score\n",
        "from sklearn import svm\n",
        "from sklearn.preprocessing import LabelEncoder\n",
        "\n",
        "import warnings\n",
        "warnings.filterwarnings(\"ignore\")"
      ],
      "execution_count": 2,
      "outputs": []
    },
    {
      "cell_type": "markdown",
      "metadata": {
        "id": "ZhiNJo_Wxe1o"
      },
      "source": [
        "**Import dataset** "
      ]
    },
    {
      "cell_type": "code",
      "metadata": {
        "id": "vngMWE4eOdBT"
      },
      "source": [
        "trainFilePath = 'dataset/traindata_preprocessed.csv'\n",
        "testFilePath = 'dataset/testdata_preprocessed.csv'\n",
        "validationFilePath = 'dataset/valdata_preprocessed.csv'\n",
        "\n",
        "PATH = \"/content/drive/My Drive/\""
      ],
      "execution_count": 3,
      "outputs": []
    },
    {
      "cell_type": "code",
      "metadata": {
        "id": "mzjKQmKMOsHS"
      },
      "source": [
        "df_train = pd.read_csv(PATH+trainFilePath, delimiter=',')\n",
        "# header=None, names=[\"ID\", \"Label\", \"Statement\", \"Subject\", \"Speaker\", \"Job Title\", \"State\", \"Party\",\n",
        "#                        \"Barely True Cnt\", \"False Cnt\", \"Half True Cnt\", \"Mostly True Cnt\", \"Pants on Fire Cnt\", \"Context\", \"Justification\",\"S-Negative\",\"S-Neutral\",\"S-Positive\",\n",
        "#                         \"Fear\",\"Anger\",\"Anticip\",\"Trust\",\"Surprise\",\"Positive\",\"Negative\",\"Sadness\",\"Disgust\",\"Joy\"])\n",
        "\n",
        "df_test = pd.read_csv(PATH+testFilePath, delimiter=',')\n",
        "# header=None,  names=[\"ID\", \"Label\", \"Statement\", \"Subject\", \"Speaker\", \"Job Title\", \"State\", \"Party\",\n",
        "#                         \"Barely True Cnt\", \"False Cnt\", \"Half True Cnt\", \"Mostly True Cnt\", \"Pants on Fire Cnt\", \"Context\", \"Justification\",\"S-Negative\",\"S-Neutral\",\"S-Positive\",\n",
        "#                         \"Fear\",\"Anger\",\"Anticip\",\"Trust\",\"Surprise\",\"Positive\",\"Negative\",\"Sadness\",\"Disgust\",\"Joy\"])\n",
        "\n",
        "\n",
        "df_validation = pd.read_csv(PATH+validationFilePath, delimiter=',',)\n",
        "# header=None, names=[\"ID\", \"Label\", \"Statement\", \"Subject\", \"Speaker\", \"Job Title\", \"State\", \"Party\",\n",
        "#                         \"Barely True Cnt\", \"False Cnt\", \"Half True Cnt\", \"Mostly True Cnt\", \"Pants on Fire Cnt\", \"Context\", \"Justification\",\"S-Negative\",\"S-Neutral\",\"S-Positive\",\n",
        "#                         \"Fear\",\"Anger\",\"Anticip\",\"Trust\",\"Surprise\",\"Positive\",\"Negative\",\"Sadness\",\"Disgust\",\"Joy\"])"
      ],
      "execution_count": 10,
      "outputs": []
    },
    {
      "cell_type": "code",
      "metadata": {
        "colab": {
          "base_uri": "https://localhost:8080/",
          "height": 649
        },
        "id": "1kwQPl_uO6Z7",
        "outputId": "2659738b-1dd0-46e0-9eaf-b2936ff7e435"
      },
      "source": [
        "df_train.head()"
      ],
      "execution_count": 11,
      "outputs": [
        {
          "output_type": "execute_result",
          "data": {
            "text/html": [
              "<div>\n",
              "<style scoped>\n",
              "    .dataframe tbody tr th:only-of-type {\n",
              "        vertical-align: middle;\n",
              "    }\n",
              "\n",
              "    .dataframe tbody tr th {\n",
              "        vertical-align: top;\n",
              "    }\n",
              "\n",
              "    .dataframe thead th {\n",
              "        text-align: right;\n",
              "    }\n",
              "</style>\n",
              "<table border=\"1\" class=\"dataframe\">\n",
              "  <thead>\n",
              "    <tr style=\"text-align: right;\">\n",
              "      <th></th>\n",
              "      <th>ID</th>\n",
              "      <th>Label</th>\n",
              "      <th>Statement</th>\n",
              "      <th>Subject</th>\n",
              "      <th>Speaker</th>\n",
              "      <th>Job Title</th>\n",
              "      <th>State</th>\n",
              "      <th>Party</th>\n",
              "      <th>Barely True Cnt</th>\n",
              "      <th>False Cnt</th>\n",
              "      <th>Half True Cnt</th>\n",
              "      <th>Mostly True Cnt</th>\n",
              "      <th>Pants on Fire Cnt</th>\n",
              "      <th>Context</th>\n",
              "      <th>Justification</th>\n",
              "      <th>s_negative</th>\n",
              "      <th>s_neutral</th>\n",
              "      <th>s_positive</th>\n",
              "      <th>fear</th>\n",
              "      <th>anger</th>\n",
              "      <th>anticip</th>\n",
              "      <th>trust</th>\n",
              "      <th>surprise</th>\n",
              "      <th>positive</th>\n",
              "      <th>negative</th>\n",
              "      <th>sadness</th>\n",
              "      <th>disgust</th>\n",
              "      <th>joy</th>\n",
              "    </tr>\n",
              "  </thead>\n",
              "  <tbody>\n",
              "    <tr>\n",
              "      <th>0</th>\n",
              "      <td>2635.json</td>\n",
              "      <td>false</td>\n",
              "      <td>Says the Annies List political group supports ...</td>\n",
              "      <td>abortion</td>\n",
              "      <td>dwayne-bohac</td>\n",
              "      <td>State representative</td>\n",
              "      <td>Texas</td>\n",
              "      <td>republican</td>\n",
              "      <td>0.0</td>\n",
              "      <td>1.0</td>\n",
              "      <td>0.0</td>\n",
              "      <td>0.0</td>\n",
              "      <td>0.0</td>\n",
              "      <td>a mailer</td>\n",
              "      <td>That's a premise that he fails to back up. Ann...</td>\n",
              "      <td>2</td>\n",
              "      <td>-1</td>\n",
              "      <td>1</td>\n",
              "      <td>0</td>\n",
              "      <td>1</td>\n",
              "      <td>0</td>\n",
              "      <td>0</td>\n",
              "      <td>0</td>\n",
              "      <td>0</td>\n",
              "      <td>1</td>\n",
              "      <td>0</td>\n",
              "      <td>0</td>\n",
              "      <td>0</td>\n",
              "    </tr>\n",
              "    <tr>\n",
              "      <th>1</th>\n",
              "      <td>10540.json</td>\n",
              "      <td>half-true</td>\n",
              "      <td>When did the decline of coal start? It started...</td>\n",
              "      <td>energy,history,job-accomplishments</td>\n",
              "      <td>scott-surovell</td>\n",
              "      <td>State delegate</td>\n",
              "      <td>Virginia</td>\n",
              "      <td>democrat</td>\n",
              "      <td>0.0</td>\n",
              "      <td>0.0</td>\n",
              "      <td>1.0</td>\n",
              "      <td>1.0</td>\n",
              "      <td>0.0</td>\n",
              "      <td>a floor speech.</td>\n",
              "      <td>Surovell said the decline of coal \"started whe...</td>\n",
              "      <td>1</td>\n",
              "      <td>-2</td>\n",
              "      <td>-1</td>\n",
              "      <td>0</td>\n",
              "      <td>0</td>\n",
              "      <td>0</td>\n",
              "      <td>0</td>\n",
              "      <td>0</td>\n",
              "      <td>0</td>\n",
              "      <td>1</td>\n",
              "      <td>0</td>\n",
              "      <td>0</td>\n",
              "      <td>0</td>\n",
              "    </tr>\n",
              "    <tr>\n",
              "      <th>2</th>\n",
              "      <td>324.json</td>\n",
              "      <td>mostly-true</td>\n",
              "      <td>Hillary Clinton agrees with John McCain \"by vo...</td>\n",
              "      <td>foreign-policy</td>\n",
              "      <td>barack-obama</td>\n",
              "      <td>President</td>\n",
              "      <td>Illinois</td>\n",
              "      <td>democrat</td>\n",
              "      <td>70.0</td>\n",
              "      <td>71.0</td>\n",
              "      <td>160.0</td>\n",
              "      <td>163.0</td>\n",
              "      <td>9.0</td>\n",
              "      <td>Denver</td>\n",
              "      <td>Obama said he would have voted against the ame...</td>\n",
              "      <td>1</td>\n",
              "      <td>-2</td>\n",
              "      <td>-1</td>\n",
              "      <td>1</td>\n",
              "      <td>0</td>\n",
              "      <td>0</td>\n",
              "      <td>1</td>\n",
              "      <td>0</td>\n",
              "      <td>1</td>\n",
              "      <td>1</td>\n",
              "      <td>1</td>\n",
              "      <td>0</td>\n",
              "      <td>0</td>\n",
              "    </tr>\n",
              "    <tr>\n",
              "      <th>3</th>\n",
              "      <td>1123.json</td>\n",
              "      <td>false</td>\n",
              "      <td>Health care reform legislation is likely to ma...</td>\n",
              "      <td>health-care</td>\n",
              "      <td>blog-posting</td>\n",
              "      <td>NaN</td>\n",
              "      <td>NaN</td>\n",
              "      <td>none</td>\n",
              "      <td>7.0</td>\n",
              "      <td>19.0</td>\n",
              "      <td>3.0</td>\n",
              "      <td>5.0</td>\n",
              "      <td>44.0</td>\n",
              "      <td>a news release</td>\n",
              "      <td>The release may have a point that Mikulskis co...</td>\n",
              "      <td>2</td>\n",
              "      <td>-1</td>\n",
              "      <td>1</td>\n",
              "      <td>1</td>\n",
              "      <td>0</td>\n",
              "      <td>0</td>\n",
              "      <td>1</td>\n",
              "      <td>0</td>\n",
              "      <td>1</td>\n",
              "      <td>0</td>\n",
              "      <td>0</td>\n",
              "      <td>0</td>\n",
              "      <td>1</td>\n",
              "    </tr>\n",
              "    <tr>\n",
              "      <th>4</th>\n",
              "      <td>9028.json</td>\n",
              "      <td>half-true</td>\n",
              "      <td>The economic turnaround started at the end of ...</td>\n",
              "      <td>economy,jobs</td>\n",
              "      <td>charlie-crist</td>\n",
              "      <td>NaN</td>\n",
              "      <td>Florida</td>\n",
              "      <td>democrat</td>\n",
              "      <td>15.0</td>\n",
              "      <td>9.0</td>\n",
              "      <td>20.0</td>\n",
              "      <td>19.0</td>\n",
              "      <td>2.0</td>\n",
              "      <td>an interview on CNN</td>\n",
              "      <td>Crist said that the economic \"turnaround start...</td>\n",
              "      <td>1</td>\n",
              "      <td>-1</td>\n",
              "      <td>0</td>\n",
              "      <td>0</td>\n",
              "      <td>0</td>\n",
              "      <td>0</td>\n",
              "      <td>0</td>\n",
              "      <td>0</td>\n",
              "      <td>0</td>\n",
              "      <td>0</td>\n",
              "      <td>0</td>\n",
              "      <td>0</td>\n",
              "      <td>0</td>\n",
              "    </tr>\n",
              "  </tbody>\n",
              "</table>\n",
              "</div>"
            ],
            "text/plain": [
              "           ID        Label  ... disgust joy\n",
              "0   2635.json        false  ...       0   0\n",
              "1  10540.json    half-true  ...       0   0\n",
              "2    324.json  mostly-true  ...       0   0\n",
              "3   1123.json        false  ...       0   1\n",
              "4   9028.json    half-true  ...       0   0\n",
              "\n",
              "[5 rows x 28 columns]"
            ]
          },
          "metadata": {
            "tags": []
          },
          "execution_count": 11
        }
      ]
    },
    {
      "cell_type": "markdown",
      "metadata": {
        "id": "6BFLl-iwxowQ"
      },
      "source": [
        "**Data Preprocessing**"
      ]
    },
    {
      "cell_type": "code",
      "metadata": {
        "id": "I0DuhoQNVynS"
      },
      "source": [
        "def dataCleaning(df,field):\n",
        "    df[field] = df[field].str.replace(r\"@\\S+\", \"\")\n",
        "    df[field] = df[field].str.replace(r\"[^A-Za-z0-9]\", \" \")\n",
        "    df[field] = df[field].str.replace(r\"(),!?@\\'\\`\\\"\\_\\n\", \" \")\n",
        "    df[field] = df[field].str.replace(r\"@\", \"at\")\n",
        "    df[field] = df[field].str.replace(r\"http\\S+\", \"\")\n",
        "    df[field] = df[field].str.replace(r\"http\", \"\")\n",
        "    df[field] = df[field].str.lower()\n",
        "    return df\n",
        "\n",
        "def dataPreprocessing(df):\n",
        "    df = df[df['ID'].notna()]\n",
        "    df = df[df['Barely True Cnt'].notna()]\n",
        "    df = df[df['False Cnt'].notna()]\n",
        "    df = df[df['Mostly True Cnt'].notna()]\n",
        "    df = df[df['Pants on Fire Cnt'].notna()]\n",
        "    df = df[df['Half True Cnt'].notna()]\n",
        "\n",
        "    df['ID'] = df['ID'].str.split(\".\", n = 1, expand = True) \n",
        "    \n",
        "    df = dataCleaning(df,'Statement')\n",
        "    df = dataCleaning(df,'Subject')\n",
        "    df = dataCleaning(df,'Speaker')\n",
        "    df = dataCleaning(df,'Job Title')\n",
        "    df = dataCleaning(df,'State')\n",
        "    df = dataCleaning(df,'Party')\n",
        "    df = dataCleaning(df,'Context')\n",
        "    df = dataCleaning(df,'Justification')    \n",
        "    \n",
        "    le_multi = LabelEncoder()\n",
        "    df.loc[:, 'Multi Class Label'] = le_multi.fit_transform(df.Label)\n",
        "    print(\"Label assignments: \" + str({l: i for i, l in enumerate(le_multi.classes_)}))   \n",
        "    \n",
        "    df['Binary Label'] = df.Label.apply(lambda x: 1 if x in ['false','pants-fire','barely-true']  else 0)\n",
        "\n",
        "    df = df.fillna('None')\n",
        "\n",
        "    return df"
      ],
      "execution_count": 12,
      "outputs": []
    },
    {
      "cell_type": "code",
      "metadata": {
        "colab": {
          "base_uri": "https://localhost:8080/"
        },
        "id": "FGuj3ylmqUp3",
        "outputId": "37288af5-5522-4889-d7dd-0b83c5b2fe3c"
      },
      "source": [
        "df_train = dataPreprocessing(df_train)\n",
        "df_validation = dataPreprocessing(df_validation)\n",
        "df_test = dataPreprocessing(df_test)"
      ],
      "execution_count": 13,
      "outputs": [
        {
          "output_type": "stream",
          "text": [
            "Label assignments: {'barely-true': 0, 'false': 1, 'half-true': 2, 'mostly-true': 3, 'pants-fire': 4, 'true': 5}\n",
            "Label assignments: {'barely-true': 0, 'false': 1, 'half-true': 2, 'mostly-true': 3, 'pants-fire': 4, 'true': 5}\n",
            "Label assignments: {'barely-true': 0, 'false': 1, 'half-true': 2, 'mostly-true': 3, 'pants-fire': 4, 'true': 5}\n"
          ],
          "name": "stdout"
        }
      ]
    },
    {
      "cell_type": "markdown",
      "metadata": {
        "id": "52paYI26xwrm"
      },
      "source": [
        "**Embed data fields**"
      ]
    },
    {
      "cell_type": "code",
      "metadata": {
        "colab": {
          "base_uri": "https://localhost:8080/"
        },
        "id": "-5qs7FMYDV-z",
        "outputId": "33fe088f-e00a-45ef-c7ba-3cac20bc8a87"
      },
      "source": [
        "df_train.columns"
      ],
      "execution_count": 14,
      "outputs": [
        {
          "output_type": "execute_result",
          "data": {
            "text/plain": [
              "Index(['ID', 'Label', 'Statement', 'Subject', 'Speaker', 'Job Title', 'State',\n",
              "       'Party', 'Barely True Cnt', 'False Cnt', 'Half True Cnt',\n",
              "       'Mostly True Cnt', 'Pants on Fire Cnt', 'Context', 'Justification',\n",
              "       's_negative', 's_neutral', 's_positive', 'fear', 'anger', 'anticip',\n",
              "       'trust', 'surprise', 'positive', 'negative', 'sadness', 'disgust',\n",
              "       'joy', 'Multi Class Label', 'Binary Label'],\n",
              "      dtype='object')"
            ]
          },
          "metadata": {
            "tags": []
          },
          "execution_count": 14
        }
      ]
    },
    {
      "cell_type": "code",
      "metadata": {
        "id": "sYy2jXHZDZqA"
      },
      "source": [
        "cols_metadata = [ 'Barely True Cnt', 'False Cnt', 'Half True Cnt',\n",
        "       'Mostly True Cnt', 'Pants on Fire Cnt',\n",
        "       's_negative', 's_neutral', 's_positive', 'fear', 'anger', 'anticip',\n",
        "       'trust', 'surprise', 'positive', 'negative', 'sadness', 'disgust',\n",
        "       'joy']\n"
      ],
      "execution_count": 16,
      "outputs": []
    },
    {
      "cell_type": "code",
      "metadata": {
        "id": "M5Lag0h2kHLK"
      },
      "source": [
        "def embed_metadata(df):\n",
        "  meta_data = df.values\n",
        "  for i in range(meta_data.shape[0]):\n",
        "    for j in range(meta_data.shape[1]):\n",
        "      if meta_data[i][j] == 'None':\n",
        "        meta_data[i][j] = 0\n",
        "  \n",
        "  meta_data = np.asarray(meta_data).astype(np.float32)\n",
        "\n",
        "  return meta_data"
      ],
      "execution_count": 19,
      "outputs": []
    },
    {
      "cell_type": "code",
      "metadata": {
        "id": "T_UcrJXoPaAx"
      },
      "source": [
        "t = Tokenizer()\n",
        "  \n",
        "def get_embeddings(data, max_length):\n",
        "  t.fit_on_texts(data)\n",
        "  encoded_docs = t.texts_to_sequences(data)\n",
        "  padded_docs = pad_sequences(encoded_docs, maxlen=max_length, padding='post')\n",
        "  return padded_docs"
      ],
      "execution_count": 20,
      "outputs": []
    },
    {
      "cell_type": "code",
      "metadata": {
        "id": "EpRf8WQBhF2J"
      },
      "source": [
        "def embed_fields(df):\n",
        "  return [np.asarray(get_embeddings(df['Statement'], 50)).astype(np.int32),np.asarray(get_embeddings(df['Subject'], 10)).astype(np.int32),np.asarray(get_embeddings(df['Context'], 25)).astype(np.int32),\n",
        "          np.asarray(get_embeddings(df['Speaker'], 5)).astype(np.int32),np.asarray(get_embeddings(df['Party'], 5)).astype(np.int32),np.asarray(get_embeddings(df['Job Title'], 20)).astype(np.int32),\n",
        "          np.asarray(get_embeddings(df['State'], 5)).astype(np.int32),np.asarray(get_embeddings(df['Justification'], 150)).astype(np.int32),embed_metadata(df)]"
      ],
      "execution_count": 21,
      "outputs": []
    },
    {
      "cell_type": "code",
      "metadata": {
        "id": "cF1GShBdPb66"
      },
      "source": [
        "train_stmt_x = get_embeddings(df_train['Statement'], 50)\n",
        "train_sub_x = get_embeddings(df_train['Subject'], 10)\n",
        "train_cxt_x = get_embeddings(df_train['Context'], 25)\n",
        "train_spkr_x = get_embeddings(df_train['Speaker'], 5)\n",
        "train_prty_x = get_embeddings(df_train['Party'], 5)\n",
        "train_job_x= get_embeddings(df_train['Job Title'], 20)\n",
        "train_state_x= get_embeddings(df_train['State'], 5)\n",
        "train_just_x = get_embeddings(df_train['Justification'], 150)\n",
        "train_metadata = embed_metadata(df_train[cols_metadata])\n",
        "\n",
        "val_stmt_x = get_embeddings(df_validation['Statement'], 50)\n",
        "val_sub_x= get_embeddings(df_validation['Subject'], 10)\n",
        "val_cxt_x = get_embeddings(df_validation['Context'], 25)\n",
        "val_spkr_x = get_embeddings(df_validation['Speaker'], 5)\n",
        "val_prty_x = get_embeddings(df_validation['Party'], 5)\n",
        "val_job_x = get_embeddings(df_validation['Job Title'], 20)\n",
        "val_state_x = get_embeddings(df_validation['State'], 5)\n",
        "val_just_x = get_embeddings(df_validation['Justification'], 150)\n",
        "val_metadata = embed_metadata(df_validation[cols_metadata])\n",
        "\n",
        "test_stmt_x = get_embeddings(df_test['Statement'], 50)\n",
        "test_sub_x= get_embeddings(df_test['Subject'], 10)\n",
        "test_cxt_x= get_embeddings(df_test['Context'], 25)\n",
        "test_spkr_x = get_embeddings(df_test['Speaker'], 5)\n",
        "test_prty_x = get_embeddings(df_test['Party'], 5)\n",
        "test_job_x = get_embeddings(df_test['Job Title'], 20)\n",
        "test_state_x= get_embeddings(df_test['State'], 5)\n",
        "test_just_x = get_embeddings(df_test['Justification'], 150)\n",
        "test_metadata = embed_metadata(df_test[cols_metadata])"
      ],
      "execution_count": 22,
      "outputs": []
    },
    {
      "cell_type": "code",
      "metadata": {
        "colab": {
          "base_uri": "https://localhost:8080/"
        },
        "id": "PHdgS0zDiN1Q",
        "outputId": "9e4c6819-99b5-46c9-bd20-771726410f4e"
      },
      "source": [
        "vocab_size = len(t.word_index) + 1\n",
        "print(\"VOCABULARY SIZE: \"+str(vocab_size))"
      ],
      "execution_count": 23,
      "outputs": [
        {
          "output_type": "stream",
          "text": [
            "VOCABULARY SIZE: 28492\n"
          ],
          "name": "stdout"
        }
      ]
    },
    {
      "cell_type": "code",
      "metadata": {
        "id": "xYmNnyFPPdiW"
      },
      "source": [
        "embeddings_index = dict()\n",
        "f = open(PATH + 'dataset/glove.6B.100d.txt')\n",
        "for line in f:\n",
        "\tvalues = line.split()\n",
        "\tword = values[0]\n",
        "\tcoefs = np.asarray(values[1:], dtype='float32')\n",
        "\tembeddings_index[word] = coefs\n",
        "f.close()"
      ],
      "execution_count": 24,
      "outputs": []
    },
    {
      "cell_type": "code",
      "metadata": {
        "id": "M2Jgnh4_iX1U"
      },
      "source": [
        "def create_embedding_matrix():\n",
        "  embedding_matrix = np.zeros((vocab_size, 100))\n",
        "  for word, i in t.word_index.items():\n",
        "\t  embedding_vector = embeddings_index.get(word)\n",
        "\t  if embedding_vector is not None:\n",
        "\t\t  embedding_matrix[i] = embedding_vector\n",
        "  return embedding_matrix"
      ],
      "execution_count": 25,
      "outputs": []
    },
    {
      "cell_type": "code",
      "metadata": {
        "id": "n__3TEv8jSvg"
      },
      "source": [
        "embedding_matrix = create_embedding_matrix()"
      ],
      "execution_count": 26,
      "outputs": []
    },
    {
      "cell_type": "code",
      "metadata": {
        "id": "MkKrZp-nPikR"
      },
      "source": [
        "def get_features(input_length):\n",
        "  input_tensor = Input((input_length,))\n",
        "  X = Embedding(vocab_size, 100, weights=[embedding_matrix], input_length=input_length, trainable=False)(input_tensor)\n",
        "  X = Bidirectional(LSTM(32, return_sequences=True))(X)\n",
        "  X = Bidirectional(LSTM(16, return_sequences=True))(X)\n",
        "  X = Flatten()(X)\n",
        "  X = Dense(1024, activation='relu', kernel_regularizer=l2(0.0))(X)\n",
        "  X = Dropout(0.3)(X)\n",
        "  X = Dense(128, activation='relu', kernel_regularizer=l2(0.01))(X)\n",
        "  X = Reshape((8,16))(X)\n",
        "  X = Conv1D(128,3, padding='same', activation='relu', kernel_regularizer=l2(0.0))(X)\n",
        "  X = MaxPooling1D(2)(X)\n",
        "  X = BatchNormalization()(X)\n",
        "  X = Flatten()(X)\n",
        "  output_tensor = Dense(128, activation='relu', kernel_regularizer=l2(0.0))(X)\n",
        "  output_tensor = Dropout(0.3)(output_tensor)\n",
        "  return input_tensor, output_tensor"
      ],
      "execution_count": 27,
      "outputs": []
    },
    {
      "cell_type": "markdown",
      "metadata": {
        "id": "-diFsqaKx8lz"
      },
      "source": [
        "**Binary Classification Model**"
      ]
    },
    {
      "cell_type": "code",
      "metadata": {
        "colab": {
          "base_uri": "https://localhost:8080/"
        },
        "id": "Kucs2eyIPmeH",
        "outputId": "2ac8fa5e-7d38-4a19-f6a7-fc661165389d"
      },
      "source": [
        "stmt_input, stmt_ftrs = get_features(train_stmt_x.shape[1])\n",
        "sub_input, sub_ftrs = get_features(train_sub_x.shape[1])\n",
        "cxt_input, cxt_ftrs = get_features(train_cxt_x.shape[1])\n",
        "spkr_input, spkr_ftrs = get_features(train_spkr_x.shape[1])\n",
        "prty_input, prty_ftrs = get_features(train_prty_x.shape[1])\n",
        "job_input, job_ftrs = get_features(train_job_x.shape[1])\n",
        "state_input, state_ftrs = get_features(train_state_x.shape[1])\n",
        "just_input, just_ftrs = get_features(train_just_x.shape[1])\n",
        "\n",
        "input_tensor_3 = Input((18,))\n",
        "metadata = Dense(256, activation='relu')(input_tensor_3)\n",
        "\n",
        "out_1 = Concatenate()([stmt_ftrs, sub_ftrs, cxt_ftrs, spkr_ftrs, prty_ftrs, job_ftrs, state_ftrs, just_ftrs])\n",
        "out = Dense(1028, activation='relu', kernel_regularizer=l2(0.0))(out_1)\n",
        "out = Concatenate()([out, metadata])\n",
        "out = Dropout(0.3)(out)\n",
        "out = Dense(256, activation='relu', kernel_regularizer=l2(0.0))(out)\n",
        "out = Dropout(0.3)(out)\n",
        "out = Dense(2, activation='sigmoid')(out)\n",
        "model_binary = Model(inputs = [stmt_input, sub_input, cxt_input, spkr_input, prty_input, job_input, state_input, just_input, input_tensor_3], outputs = out)\n",
        "model_binary.summary()"
      ],
      "execution_count": 32,
      "outputs": [
        {
          "output_type": "stream",
          "text": [
            "Model: \"model_1\"\n",
            "__________________________________________________________________________________________________\n",
            "Layer (type)                    Output Shape         Param #     Connected to                     \n",
            "==================================================================================================\n",
            "input_10 (InputLayer)           [(None, 50)]         0                                            \n",
            "__________________________________________________________________________________________________\n",
            "input_11 (InputLayer)           [(None, 10)]         0                                            \n",
            "__________________________________________________________________________________________________\n",
            "input_12 (InputLayer)           [(None, 25)]         0                                            \n",
            "__________________________________________________________________________________________________\n",
            "input_13 (InputLayer)           [(None, 5)]          0                                            \n",
            "__________________________________________________________________________________________________\n",
            "input_14 (InputLayer)           [(None, 5)]          0                                            \n",
            "__________________________________________________________________________________________________\n",
            "input_15 (InputLayer)           [(None, 20)]         0                                            \n",
            "__________________________________________________________________________________________________\n",
            "input_16 (InputLayer)           [(None, 5)]          0                                            \n",
            "__________________________________________________________________________________________________\n",
            "input_17 (InputLayer)           [(None, 150)]        0                                            \n",
            "__________________________________________________________________________________________________\n",
            "embedding_8 (Embedding)         (None, 50, 100)      2849200     input_10[0][0]                   \n",
            "__________________________________________________________________________________________________\n",
            "embedding_9 (Embedding)         (None, 10, 100)      2849200     input_11[0][0]                   \n",
            "__________________________________________________________________________________________________\n",
            "embedding_10 (Embedding)        (None, 25, 100)      2849200     input_12[0][0]                   \n",
            "__________________________________________________________________________________________________\n",
            "embedding_11 (Embedding)        (None, 5, 100)       2849200     input_13[0][0]                   \n",
            "__________________________________________________________________________________________________\n",
            "embedding_12 (Embedding)        (None, 5, 100)       2849200     input_14[0][0]                   \n",
            "__________________________________________________________________________________________________\n",
            "embedding_13 (Embedding)        (None, 20, 100)      2849200     input_15[0][0]                   \n",
            "__________________________________________________________________________________________________\n",
            "embedding_14 (Embedding)        (None, 5, 100)       2849200     input_16[0][0]                   \n",
            "__________________________________________________________________________________________________\n",
            "embedding_15 (Embedding)        (None, 150, 100)     2849200     input_17[0][0]                   \n",
            "__________________________________________________________________________________________________\n",
            "bidirectional_16 (Bidirectional (None, 50, 64)       34048       embedding_8[0][0]                \n",
            "__________________________________________________________________________________________________\n",
            "bidirectional_18 (Bidirectional (None, 10, 64)       34048       embedding_9[0][0]                \n",
            "__________________________________________________________________________________________________\n",
            "bidirectional_20 (Bidirectional (None, 25, 64)       34048       embedding_10[0][0]               \n",
            "__________________________________________________________________________________________________\n",
            "bidirectional_22 (Bidirectional (None, 5, 64)        34048       embedding_11[0][0]               \n",
            "__________________________________________________________________________________________________\n",
            "bidirectional_24 (Bidirectional (None, 5, 64)        34048       embedding_12[0][0]               \n",
            "__________________________________________________________________________________________________\n",
            "bidirectional_26 (Bidirectional (None, 20, 64)       34048       embedding_13[0][0]               \n",
            "__________________________________________________________________________________________________\n",
            "bidirectional_28 (Bidirectional (None, 5, 64)        34048       embedding_14[0][0]               \n",
            "__________________________________________________________________________________________________\n",
            "bidirectional_30 (Bidirectional (None, 150, 64)      34048       embedding_15[0][0]               \n",
            "__________________________________________________________________________________________________\n",
            "bidirectional_17 (Bidirectional (None, 50, 32)       10368       bidirectional_16[0][0]           \n",
            "__________________________________________________________________________________________________\n",
            "bidirectional_19 (Bidirectional (None, 10, 32)       10368       bidirectional_18[0][0]           \n",
            "__________________________________________________________________________________________________\n",
            "bidirectional_21 (Bidirectional (None, 25, 32)       10368       bidirectional_20[0][0]           \n",
            "__________________________________________________________________________________________________\n",
            "bidirectional_23 (Bidirectional (None, 5, 32)        10368       bidirectional_22[0][0]           \n",
            "__________________________________________________________________________________________________\n",
            "bidirectional_25 (Bidirectional (None, 5, 32)        10368       bidirectional_24[0][0]           \n",
            "__________________________________________________________________________________________________\n",
            "bidirectional_27 (Bidirectional (None, 20, 32)       10368       bidirectional_26[0][0]           \n",
            "__________________________________________________________________________________________________\n",
            "bidirectional_29 (Bidirectional (None, 5, 32)        10368       bidirectional_28[0][0]           \n",
            "__________________________________________________________________________________________________\n",
            "bidirectional_31 (Bidirectional (None, 150, 32)      10368       bidirectional_30[0][0]           \n",
            "__________________________________________________________________________________________________\n",
            "flatten_16 (Flatten)            (None, 1600)         0           bidirectional_17[0][0]           \n",
            "__________________________________________________________________________________________________\n",
            "flatten_18 (Flatten)            (None, 320)          0           bidirectional_19[0][0]           \n",
            "__________________________________________________________________________________________________\n",
            "flatten_20 (Flatten)            (None, 800)          0           bidirectional_21[0][0]           \n",
            "__________________________________________________________________________________________________\n",
            "flatten_22 (Flatten)            (None, 160)          0           bidirectional_23[0][0]           \n",
            "__________________________________________________________________________________________________\n",
            "flatten_24 (Flatten)            (None, 160)          0           bidirectional_25[0][0]           \n",
            "__________________________________________________________________________________________________\n",
            "flatten_26 (Flatten)            (None, 640)          0           bidirectional_27[0][0]           \n",
            "__________________________________________________________________________________________________\n",
            "flatten_28 (Flatten)            (None, 160)          0           bidirectional_29[0][0]           \n",
            "__________________________________________________________________________________________________\n",
            "flatten_30 (Flatten)            (None, 4800)         0           bidirectional_31[0][0]           \n",
            "__________________________________________________________________________________________________\n",
            "dense_28 (Dense)                (None, 1024)         1639424     flatten_16[0][0]                 \n",
            "__________________________________________________________________________________________________\n",
            "dense_31 (Dense)                (None, 1024)         328704      flatten_18[0][0]                 \n",
            "__________________________________________________________________________________________________\n",
            "dense_34 (Dense)                (None, 1024)         820224      flatten_20[0][0]                 \n",
            "__________________________________________________________________________________________________\n",
            "dense_37 (Dense)                (None, 1024)         164864      flatten_22[0][0]                 \n",
            "__________________________________________________________________________________________________\n",
            "dense_40 (Dense)                (None, 1024)         164864      flatten_24[0][0]                 \n",
            "__________________________________________________________________________________________________\n",
            "dense_43 (Dense)                (None, 1024)         656384      flatten_26[0][0]                 \n",
            "__________________________________________________________________________________________________\n",
            "dense_46 (Dense)                (None, 1024)         164864      flatten_28[0][0]                 \n",
            "__________________________________________________________________________________________________\n",
            "dense_49 (Dense)                (None, 1024)         4916224     flatten_30[0][0]                 \n",
            "__________________________________________________________________________________________________\n",
            "dropout_18 (Dropout)            (None, 1024)         0           dense_28[0][0]                   \n",
            "__________________________________________________________________________________________________\n",
            "dropout_20 (Dropout)            (None, 1024)         0           dense_31[0][0]                   \n",
            "__________________________________________________________________________________________________\n",
            "dropout_22 (Dropout)            (None, 1024)         0           dense_34[0][0]                   \n",
            "__________________________________________________________________________________________________\n",
            "dropout_24 (Dropout)            (None, 1024)         0           dense_37[0][0]                   \n",
            "__________________________________________________________________________________________________\n",
            "dropout_26 (Dropout)            (None, 1024)         0           dense_40[0][0]                   \n",
            "__________________________________________________________________________________________________\n",
            "dropout_28 (Dropout)            (None, 1024)         0           dense_43[0][0]                   \n",
            "__________________________________________________________________________________________________\n",
            "dropout_30 (Dropout)            (None, 1024)         0           dense_46[0][0]                   \n",
            "__________________________________________________________________________________________________\n",
            "dropout_32 (Dropout)            (None, 1024)         0           dense_49[0][0]                   \n",
            "__________________________________________________________________________________________________\n",
            "dense_29 (Dense)                (None, 128)          131200      dropout_18[0][0]                 \n",
            "__________________________________________________________________________________________________\n",
            "dense_32 (Dense)                (None, 128)          131200      dropout_20[0][0]                 \n",
            "__________________________________________________________________________________________________\n",
            "dense_35 (Dense)                (None, 128)          131200      dropout_22[0][0]                 \n",
            "__________________________________________________________________________________________________\n",
            "dense_38 (Dense)                (None, 128)          131200      dropout_24[0][0]                 \n",
            "__________________________________________________________________________________________________\n",
            "dense_41 (Dense)                (None, 128)          131200      dropout_26[0][0]                 \n",
            "__________________________________________________________________________________________________\n",
            "dense_44 (Dense)                (None, 128)          131200      dropout_28[0][0]                 \n",
            "__________________________________________________________________________________________________\n",
            "dense_47 (Dense)                (None, 128)          131200      dropout_30[0][0]                 \n",
            "__________________________________________________________________________________________________\n",
            "dense_50 (Dense)                (None, 128)          131200      dropout_32[0][0]                 \n",
            "__________________________________________________________________________________________________\n",
            "reshape_8 (Reshape)             (None, 8, 16)        0           dense_29[0][0]                   \n",
            "__________________________________________________________________________________________________\n",
            "reshape_9 (Reshape)             (None, 8, 16)        0           dense_32[0][0]                   \n",
            "__________________________________________________________________________________________________\n",
            "reshape_10 (Reshape)            (None, 8, 16)        0           dense_35[0][0]                   \n",
            "__________________________________________________________________________________________________\n",
            "reshape_11 (Reshape)            (None, 8, 16)        0           dense_38[0][0]                   \n",
            "__________________________________________________________________________________________________\n",
            "reshape_12 (Reshape)            (None, 8, 16)        0           dense_41[0][0]                   \n",
            "__________________________________________________________________________________________________\n",
            "reshape_13 (Reshape)            (None, 8, 16)        0           dense_44[0][0]                   \n",
            "__________________________________________________________________________________________________\n",
            "reshape_14 (Reshape)            (None, 8, 16)        0           dense_47[0][0]                   \n",
            "__________________________________________________________________________________________________\n",
            "reshape_15 (Reshape)            (None, 8, 16)        0           dense_50[0][0]                   \n",
            "__________________________________________________________________________________________________\n",
            "conv1d_8 (Conv1D)               (None, 8, 128)       6272        reshape_8[0][0]                  \n",
            "__________________________________________________________________________________________________\n",
            "conv1d_9 (Conv1D)               (None, 8, 128)       6272        reshape_9[0][0]                  \n",
            "__________________________________________________________________________________________________\n",
            "conv1d_10 (Conv1D)              (None, 8, 128)       6272        reshape_10[0][0]                 \n",
            "__________________________________________________________________________________________________\n",
            "conv1d_11 (Conv1D)              (None, 8, 128)       6272        reshape_11[0][0]                 \n",
            "__________________________________________________________________________________________________\n",
            "conv1d_12 (Conv1D)              (None, 8, 128)       6272        reshape_12[0][0]                 \n",
            "__________________________________________________________________________________________________\n",
            "conv1d_13 (Conv1D)              (None, 8, 128)       6272        reshape_13[0][0]                 \n",
            "__________________________________________________________________________________________________\n",
            "conv1d_14 (Conv1D)              (None, 8, 128)       6272        reshape_14[0][0]                 \n",
            "__________________________________________________________________________________________________\n",
            "conv1d_15 (Conv1D)              (None, 8, 128)       6272        reshape_15[0][0]                 \n",
            "__________________________________________________________________________________________________\n",
            "max_pooling1d_8 (MaxPooling1D)  (None, 4, 128)       0           conv1d_8[0][0]                   \n",
            "__________________________________________________________________________________________________\n",
            "max_pooling1d_9 (MaxPooling1D)  (None, 4, 128)       0           conv1d_9[0][0]                   \n",
            "__________________________________________________________________________________________________\n",
            "max_pooling1d_10 (MaxPooling1D) (None, 4, 128)       0           conv1d_10[0][0]                  \n",
            "__________________________________________________________________________________________________\n",
            "max_pooling1d_11 (MaxPooling1D) (None, 4, 128)       0           conv1d_11[0][0]                  \n",
            "__________________________________________________________________________________________________\n",
            "max_pooling1d_12 (MaxPooling1D) (None, 4, 128)       0           conv1d_12[0][0]                  \n",
            "__________________________________________________________________________________________________\n",
            "max_pooling1d_13 (MaxPooling1D) (None, 4, 128)       0           conv1d_13[0][0]                  \n",
            "__________________________________________________________________________________________________\n",
            "max_pooling1d_14 (MaxPooling1D) (None, 4, 128)       0           conv1d_14[0][0]                  \n",
            "__________________________________________________________________________________________________\n",
            "max_pooling1d_15 (MaxPooling1D) (None, 4, 128)       0           conv1d_15[0][0]                  \n",
            "__________________________________________________________________________________________________\n",
            "batch_normalization_8 (BatchNor (None, 4, 128)       512         max_pooling1d_8[0][0]            \n",
            "__________________________________________________________________________________________________\n",
            "batch_normalization_9 (BatchNor (None, 4, 128)       512         max_pooling1d_9[0][0]            \n",
            "__________________________________________________________________________________________________\n",
            "batch_normalization_10 (BatchNo (None, 4, 128)       512         max_pooling1d_10[0][0]           \n",
            "__________________________________________________________________________________________________\n",
            "batch_normalization_11 (BatchNo (None, 4, 128)       512         max_pooling1d_11[0][0]           \n",
            "__________________________________________________________________________________________________\n",
            "batch_normalization_12 (BatchNo (None, 4, 128)       512         max_pooling1d_12[0][0]           \n",
            "__________________________________________________________________________________________________\n",
            "batch_normalization_13 (BatchNo (None, 4, 128)       512         max_pooling1d_13[0][0]           \n",
            "__________________________________________________________________________________________________\n",
            "batch_normalization_14 (BatchNo (None, 4, 128)       512         max_pooling1d_14[0][0]           \n",
            "__________________________________________________________________________________________________\n",
            "batch_normalization_15 (BatchNo (None, 4, 128)       512         max_pooling1d_15[0][0]           \n",
            "__________________________________________________________________________________________________\n",
            "flatten_17 (Flatten)            (None, 512)          0           batch_normalization_8[0][0]      \n",
            "__________________________________________________________________________________________________\n",
            "flatten_19 (Flatten)            (None, 512)          0           batch_normalization_9[0][0]      \n",
            "__________________________________________________________________________________________________\n",
            "flatten_21 (Flatten)            (None, 512)          0           batch_normalization_10[0][0]     \n",
            "__________________________________________________________________________________________________\n",
            "flatten_23 (Flatten)            (None, 512)          0           batch_normalization_11[0][0]     \n",
            "__________________________________________________________________________________________________\n",
            "flatten_25 (Flatten)            (None, 512)          0           batch_normalization_12[0][0]     \n",
            "__________________________________________________________________________________________________\n",
            "flatten_27 (Flatten)            (None, 512)          0           batch_normalization_13[0][0]     \n",
            "__________________________________________________________________________________________________\n",
            "flatten_29 (Flatten)            (None, 512)          0           batch_normalization_14[0][0]     \n",
            "__________________________________________________________________________________________________\n",
            "flatten_31 (Flatten)            (None, 512)          0           batch_normalization_15[0][0]     \n",
            "__________________________________________________________________________________________________\n",
            "dense_30 (Dense)                (None, 128)          65664       flatten_17[0][0]                 \n",
            "__________________________________________________________________________________________________\n",
            "dense_33 (Dense)                (None, 128)          65664       flatten_19[0][0]                 \n",
            "__________________________________________________________________________________________________\n",
            "dense_36 (Dense)                (None, 128)          65664       flatten_21[0][0]                 \n",
            "__________________________________________________________________________________________________\n",
            "dense_39 (Dense)                (None, 128)          65664       flatten_23[0][0]                 \n",
            "__________________________________________________________________________________________________\n",
            "dense_42 (Dense)                (None, 128)          65664       flatten_25[0][0]                 \n",
            "__________________________________________________________________________________________________\n",
            "dense_45 (Dense)                (None, 128)          65664       flatten_27[0][0]                 \n",
            "__________________________________________________________________________________________________\n",
            "dense_48 (Dense)                (None, 128)          65664       flatten_29[0][0]                 \n",
            "__________________________________________________________________________________________________\n",
            "dense_51 (Dense)                (None, 128)          65664       flatten_31[0][0]                 \n",
            "__________________________________________________________________________________________________\n",
            "dropout_19 (Dropout)            (None, 128)          0           dense_30[0][0]                   \n",
            "__________________________________________________________________________________________________\n",
            "dropout_21 (Dropout)            (None, 128)          0           dense_33[0][0]                   \n",
            "__________________________________________________________________________________________________\n",
            "dropout_23 (Dropout)            (None, 128)          0           dense_36[0][0]                   \n",
            "__________________________________________________________________________________________________\n",
            "dropout_25 (Dropout)            (None, 128)          0           dense_39[0][0]                   \n",
            "__________________________________________________________________________________________________\n",
            "dropout_27 (Dropout)            (None, 128)          0           dense_42[0][0]                   \n",
            "__________________________________________________________________________________________________\n",
            "dropout_29 (Dropout)            (None, 128)          0           dense_45[0][0]                   \n",
            "__________________________________________________________________________________________________\n",
            "dropout_31 (Dropout)            (None, 128)          0           dense_48[0][0]                   \n",
            "__________________________________________________________________________________________________\n",
            "dropout_33 (Dropout)            (None, 128)          0           dense_51[0][0]                   \n",
            "__________________________________________________________________________________________________\n",
            "concatenate_2 (Concatenate)     (None, 1024)         0           dropout_19[0][0]                 \n",
            "                                                                 dropout_21[0][0]                 \n",
            "                                                                 dropout_23[0][0]                 \n",
            "                                                                 dropout_25[0][0]                 \n",
            "                                                                 dropout_27[0][0]                 \n",
            "                                                                 dropout_29[0][0]                 \n",
            "                                                                 dropout_31[0][0]                 \n",
            "                                                                 dropout_33[0][0]                 \n",
            "__________________________________________________________________________________________________\n",
            "input_18 (InputLayer)           [(None, 18)]         0                                            \n",
            "__________________________________________________________________________________________________\n",
            "dense_53 (Dense)                (None, 1028)         1053700     concatenate_2[0][0]              \n",
            "__________________________________________________________________________________________________\n",
            "dense_52 (Dense)                (None, 256)          4864        input_18[0][0]                   \n",
            "__________________________________________________________________________________________________\n",
            "concatenate_3 (Concatenate)     (None, 1284)         0           dense_53[0][0]                   \n",
            "                                                                 dense_52[0][0]                   \n",
            "__________________________________________________________________________________________________\n",
            "dropout_34 (Dropout)            (None, 1284)         0           concatenate_3[0][0]              \n",
            "__________________________________________________________________________________________________\n",
            "dense_54 (Dense)                (None, 256)          328960      dropout_34[0][0]                 \n",
            "__________________________________________________________________________________________________\n",
            "dropout_35 (Dropout)            (None, 256)          0           dense_54[0][0]                   \n",
            "__________________________________________________________________________________________________\n",
            "dense_55 (Dense)                (None, 2)            514         dropout_35[0][0]                 \n",
            "==================================================================================================\n",
            "Total params: 35,021,702\n",
            "Trainable params: 12,226,054\n",
            "Non-trainable params: 22,795,648\n",
            "__________________________________________________________________________________________________\n"
          ],
          "name": "stdout"
        }
      ]
    },
    {
      "cell_type": "code",
      "metadata": {
        "id": "dKrxijkUPolE"
      },
      "source": [
        "train_y = to_categorical(df_train['Binary Label'], 2)\n",
        "val_y = to_categorical(df_validation['Binary Label'], 2)\n",
        "test_y = to_categorical(df_test['Binary Label'], 2)"
      ],
      "execution_count": 33,
      "outputs": []
    },
    {
      "cell_type": "code",
      "metadata": {
        "id": "OFuNIIyOPtT0"
      },
      "source": [
        "stop = EarlyStopping(monitor=\"val_acc\", patience=20, mode=\"max\")\n",
        "reduce_lr = ReduceLROnPlateau(monitor=\"val_acc\", factor=0.1, patience=10, min_lr=1e-6, verbose=1, mode=\"max\")\n",
        "optimizer = Adam(lr = 0.001)\n",
        "model_binary.compile(optimizer, loss='binary_crossentropy', metrics=['acc'])"
      ],
      "execution_count": 34,
      "outputs": []
    },
    {
      "cell_type": "code",
      "metadata": {
        "colab": {
          "base_uri": "https://localhost:8080/"
        },
        "id": "XXXX_-CFPxV4",
        "outputId": "9e60ac51-0179-46f7-bfa9-e804d03ce972"
      },
      "source": [
        "model_binary.fit([train_stmt_x, train_sub_x, train_cxt_x, train_spkr_x, train_prty_x, train_job_x, train_state_x, train_just_x, train_metadata], train_y,\n",
        "          epochs=10, verbose=1, validation_data=([val_stmt_x, val_sub_x, val_cxt_x, val_spkr_x, val_prty_x, val_job_x, val_state_x, val_just_x,\n",
        "                                                      val_metadata], val_y), callbacks=[reduce_lr, stop])"
      ],
      "execution_count": 35,
      "outputs": [
        {
          "output_type": "stream",
          "text": [
            "Epoch 1/10\n",
            "320/320 [==============================] - 105s 111ms/step - loss: 5.2052 - acc: 0.6072 - val_loss: 0.5714 - val_acc: 0.7212\n",
            "Epoch 2/10\n",
            "320/320 [==============================] - 27s 83ms/step - loss: 0.5728 - acc: 0.7147 - val_loss: 0.5286 - val_acc: 0.7212\n",
            "Epoch 3/10\n",
            "320/320 [==============================] - 27s 83ms/step - loss: 0.5453 - acc: 0.7226 - val_loss: 0.5173 - val_acc: 0.7204\n",
            "Epoch 4/10\n",
            "320/320 [==============================] - 26s 83ms/step - loss: 0.5197 - acc: 0.7361 - val_loss: 0.5175 - val_acc: 0.7150\n",
            "Epoch 5/10\n",
            "320/320 [==============================] - 26s 82ms/step - loss: 0.5089 - acc: 0.7387 - val_loss: 0.5029 - val_acc: 0.7157\n",
            "Epoch 6/10\n",
            "320/320 [==============================] - 26s 82ms/step - loss: 0.5189 - acc: 0.7363 - val_loss: 0.5127 - val_acc: 0.7188\n",
            "Epoch 7/10\n",
            "320/320 [==============================] - 26s 82ms/step - loss: 0.5012 - acc: 0.7413 - val_loss: 0.5169 - val_acc: 0.7235\n",
            "Epoch 8/10\n",
            "320/320 [==============================] - 26s 82ms/step - loss: 0.5053 - acc: 0.7433 - val_loss: 0.5075 - val_acc: 0.7212\n",
            "Epoch 9/10\n",
            "320/320 [==============================] - 26s 81ms/step - loss: 0.5084 - acc: 0.7402 - val_loss: 0.4992 - val_acc: 0.7181\n",
            "Epoch 10/10\n",
            "320/320 [==============================] - 26s 81ms/step - loss: 0.5040 - acc: 0.7488 - val_loss: 0.5028 - val_acc: 0.7227\n"
          ],
          "name": "stdout"
        },
        {
          "output_type": "execute_result",
          "data": {
            "text/plain": [
              "<tensorflow.python.keras.callbacks.History at 0x7fe75fecfbd0>"
            ]
          },
          "metadata": {
            "tags": []
          },
          "execution_count": 35
        }
      ]
    },
    {
      "cell_type": "code",
      "metadata": {
        "id": "w7b8zjilQMd4",
        "colab": {
          "base_uri": "https://localhost:8080/"
        },
        "outputId": "7a6342df-9d27-40ec-9c54-6ad5c8cb9ec3"
      },
      "source": [
        "val_loss, val_acc = model_binary.evaluate([val_stmt_x, val_sub_x, val_cxt_x, val_spkr_x, val_prty_x, val_job_x, val_state_x, val_just_x, val_metadata], val_y,\n",
        "                                   verbose=1)\n",
        "print('Validation Accuracy: %f' % (val_acc))\n",
        "test_loss, test_acc = model_binary.evaluate([test_stmt_x, test_sub_x, test_cxt_x, test_spkr_x, test_prty_x, test_job_x, test_state_x, test_just_x, test_metadata],\n",
        "                                     test_y, verbose=1)\n",
        "print('Test Accuracy: %f' % (test_acc))"
      ],
      "execution_count": 36,
      "outputs": [
        {
          "output_type": "stream",
          "text": [
            "41/41 [==============================] - 2s 38ms/step - loss: 0.5028 - acc: 0.7227\n",
            "Validation Accuracy: 0.722741\n",
            "40/40 [==============================] - 1s 36ms/step - loss: 0.5265 - acc: 0.7419\n",
            "Test Accuracy: 0.741910\n"
          ],
          "name": "stdout"
        }
      ]
    },
    {
      "cell_type": "markdown",
      "metadata": {
        "id": "BGiHGrHTyOl9"
      },
      "source": [
        "**Multi class classification model**"
      ]
    },
    {
      "cell_type": "code",
      "metadata": {
        "id": "8bm6qKc6TR6J"
      },
      "source": [
        "train_y = to_categorical(df_train['Multi Class Label'], 6)\n",
        "val_y = to_categorical(df_validation['Multi Class Label'], 6)\n",
        "test_y = to_categorical(df_test['Multi Class Label'], 6)"
      ],
      "execution_count": 37,
      "outputs": []
    },
    {
      "cell_type": "code",
      "metadata": {
        "id": "681wsif3vHbe",
        "colab": {
          "base_uri": "https://localhost:8080/"
        },
        "outputId": "b924396b-0304-4390-e6dd-21e206d0ee87"
      },
      "source": [
        "stmt_input, stmt_ftrs = get_features(train_stmt_x.shape[1])\n",
        "sub_input, sub_ftrs = get_features(train_sub_x.shape[1])\n",
        "cxt_input, cxt_ftrs = get_features(train_cxt_x.shape[1])\n",
        "spkr_input, spkr_ftrs = get_features(train_spkr_x.shape[1])\n",
        "prty_input, prty_ftrs = get_features(train_prty_x.shape[1])\n",
        "job_input, job_ftrs = get_features(train_job_x.shape[1])\n",
        "state_input, state_ftrs = get_features(train_state_x.shape[1])\n",
        "just_input, just_ftrs = get_features(train_just_x.shape[1])\n",
        "\n",
        "input_tensor_3 = Input((18,))\n",
        "metadata = Dense(256, activation='relu')(input_tensor_3)\n",
        "\n",
        "out_1 = Concatenate()([stmt_ftrs, sub_ftrs, cxt_ftrs, spkr_ftrs, prty_ftrs, job_ftrs, state_ftrs, just_ftrs])\n",
        "out = Dense(1028, activation='relu', kernel_regularizer=l2(0.0))(out_1)\n",
        "out = Concatenate()([out, metadata])\n",
        "out = Dropout(0.3)(out)\n",
        "out = Dense(256, activation='relu', kernel_regularizer=l2(0.0))(out)\n",
        "out = Dropout(0.3)(out)\n",
        "out = Dense(6, activation='softmax')(out)\n",
        "model_multi = Model(inputs = [stmt_input, sub_input, cxt_input, spkr_input, prty_input, job_input, state_input, just_input, input_tensor_3], outputs = out)\n",
        "model_multi.summary()"
      ],
      "execution_count": 38,
      "outputs": [
        {
          "output_type": "stream",
          "text": [
            "Model: \"model_2\"\n",
            "__________________________________________________________________________________________________\n",
            "Layer (type)                    Output Shape         Param #     Connected to                     \n",
            "==================================================================================================\n",
            "input_19 (InputLayer)           [(None, 50)]         0                                            \n",
            "__________________________________________________________________________________________________\n",
            "input_20 (InputLayer)           [(None, 10)]         0                                            \n",
            "__________________________________________________________________________________________________\n",
            "input_21 (InputLayer)           [(None, 25)]         0                                            \n",
            "__________________________________________________________________________________________________\n",
            "input_22 (InputLayer)           [(None, 5)]          0                                            \n",
            "__________________________________________________________________________________________________\n",
            "input_23 (InputLayer)           [(None, 5)]          0                                            \n",
            "__________________________________________________________________________________________________\n",
            "input_24 (InputLayer)           [(None, 20)]         0                                            \n",
            "__________________________________________________________________________________________________\n",
            "input_25 (InputLayer)           [(None, 5)]          0                                            \n",
            "__________________________________________________________________________________________________\n",
            "input_26 (InputLayer)           [(None, 150)]        0                                            \n",
            "__________________________________________________________________________________________________\n",
            "embedding_16 (Embedding)        (None, 50, 100)      2849200     input_19[0][0]                   \n",
            "__________________________________________________________________________________________________\n",
            "embedding_17 (Embedding)        (None, 10, 100)      2849200     input_20[0][0]                   \n",
            "__________________________________________________________________________________________________\n",
            "embedding_18 (Embedding)        (None, 25, 100)      2849200     input_21[0][0]                   \n",
            "__________________________________________________________________________________________________\n",
            "embedding_19 (Embedding)        (None, 5, 100)       2849200     input_22[0][0]                   \n",
            "__________________________________________________________________________________________________\n",
            "embedding_20 (Embedding)        (None, 5, 100)       2849200     input_23[0][0]                   \n",
            "__________________________________________________________________________________________________\n",
            "embedding_21 (Embedding)        (None, 20, 100)      2849200     input_24[0][0]                   \n",
            "__________________________________________________________________________________________________\n",
            "embedding_22 (Embedding)        (None, 5, 100)       2849200     input_25[0][0]                   \n",
            "__________________________________________________________________________________________________\n",
            "embedding_23 (Embedding)        (None, 150, 100)     2849200     input_26[0][0]                   \n",
            "__________________________________________________________________________________________________\n",
            "bidirectional_32 (Bidirectional (None, 50, 64)       34048       embedding_16[0][0]               \n",
            "__________________________________________________________________________________________________\n",
            "bidirectional_34 (Bidirectional (None, 10, 64)       34048       embedding_17[0][0]               \n",
            "__________________________________________________________________________________________________\n",
            "bidirectional_36 (Bidirectional (None, 25, 64)       34048       embedding_18[0][0]               \n",
            "__________________________________________________________________________________________________\n",
            "bidirectional_38 (Bidirectional (None, 5, 64)        34048       embedding_19[0][0]               \n",
            "__________________________________________________________________________________________________\n",
            "bidirectional_40 (Bidirectional (None, 5, 64)        34048       embedding_20[0][0]               \n",
            "__________________________________________________________________________________________________\n",
            "bidirectional_42 (Bidirectional (None, 20, 64)       34048       embedding_21[0][0]               \n",
            "__________________________________________________________________________________________________\n",
            "bidirectional_44 (Bidirectional (None, 5, 64)        34048       embedding_22[0][0]               \n",
            "__________________________________________________________________________________________________\n",
            "bidirectional_46 (Bidirectional (None, 150, 64)      34048       embedding_23[0][0]               \n",
            "__________________________________________________________________________________________________\n",
            "bidirectional_33 (Bidirectional (None, 50, 32)       10368       bidirectional_32[0][0]           \n",
            "__________________________________________________________________________________________________\n",
            "bidirectional_35 (Bidirectional (None, 10, 32)       10368       bidirectional_34[0][0]           \n",
            "__________________________________________________________________________________________________\n",
            "bidirectional_37 (Bidirectional (None, 25, 32)       10368       bidirectional_36[0][0]           \n",
            "__________________________________________________________________________________________________\n",
            "bidirectional_39 (Bidirectional (None, 5, 32)        10368       bidirectional_38[0][0]           \n",
            "__________________________________________________________________________________________________\n",
            "bidirectional_41 (Bidirectional (None, 5, 32)        10368       bidirectional_40[0][0]           \n",
            "__________________________________________________________________________________________________\n",
            "bidirectional_43 (Bidirectional (None, 20, 32)       10368       bidirectional_42[0][0]           \n",
            "__________________________________________________________________________________________________\n",
            "bidirectional_45 (Bidirectional (None, 5, 32)        10368       bidirectional_44[0][0]           \n",
            "__________________________________________________________________________________________________\n",
            "bidirectional_47 (Bidirectional (None, 150, 32)      10368       bidirectional_46[0][0]           \n",
            "__________________________________________________________________________________________________\n",
            "flatten_32 (Flatten)            (None, 1600)         0           bidirectional_33[0][0]           \n",
            "__________________________________________________________________________________________________\n",
            "flatten_34 (Flatten)            (None, 320)          0           bidirectional_35[0][0]           \n",
            "__________________________________________________________________________________________________\n",
            "flatten_36 (Flatten)            (None, 800)          0           bidirectional_37[0][0]           \n",
            "__________________________________________________________________________________________________\n",
            "flatten_38 (Flatten)            (None, 160)          0           bidirectional_39[0][0]           \n",
            "__________________________________________________________________________________________________\n",
            "flatten_40 (Flatten)            (None, 160)          0           bidirectional_41[0][0]           \n",
            "__________________________________________________________________________________________________\n",
            "flatten_42 (Flatten)            (None, 640)          0           bidirectional_43[0][0]           \n",
            "__________________________________________________________________________________________________\n",
            "flatten_44 (Flatten)            (None, 160)          0           bidirectional_45[0][0]           \n",
            "__________________________________________________________________________________________________\n",
            "flatten_46 (Flatten)            (None, 4800)         0           bidirectional_47[0][0]           \n",
            "__________________________________________________________________________________________________\n",
            "dense_56 (Dense)                (None, 1024)         1639424     flatten_32[0][0]                 \n",
            "__________________________________________________________________________________________________\n",
            "dense_59 (Dense)                (None, 1024)         328704      flatten_34[0][0]                 \n",
            "__________________________________________________________________________________________________\n",
            "dense_62 (Dense)                (None, 1024)         820224      flatten_36[0][0]                 \n",
            "__________________________________________________________________________________________________\n",
            "dense_65 (Dense)                (None, 1024)         164864      flatten_38[0][0]                 \n",
            "__________________________________________________________________________________________________\n",
            "dense_68 (Dense)                (None, 1024)         164864      flatten_40[0][0]                 \n",
            "__________________________________________________________________________________________________\n",
            "dense_71 (Dense)                (None, 1024)         656384      flatten_42[0][0]                 \n",
            "__________________________________________________________________________________________________\n",
            "dense_74 (Dense)                (None, 1024)         164864      flatten_44[0][0]                 \n",
            "__________________________________________________________________________________________________\n",
            "dense_77 (Dense)                (None, 1024)         4916224     flatten_46[0][0]                 \n",
            "__________________________________________________________________________________________________\n",
            "dropout_36 (Dropout)            (None, 1024)         0           dense_56[0][0]                   \n",
            "__________________________________________________________________________________________________\n",
            "dropout_38 (Dropout)            (None, 1024)         0           dense_59[0][0]                   \n",
            "__________________________________________________________________________________________________\n",
            "dropout_40 (Dropout)            (None, 1024)         0           dense_62[0][0]                   \n",
            "__________________________________________________________________________________________________\n",
            "dropout_42 (Dropout)            (None, 1024)         0           dense_65[0][0]                   \n",
            "__________________________________________________________________________________________________\n",
            "dropout_44 (Dropout)            (None, 1024)         0           dense_68[0][0]                   \n",
            "__________________________________________________________________________________________________\n",
            "dropout_46 (Dropout)            (None, 1024)         0           dense_71[0][0]                   \n",
            "__________________________________________________________________________________________________\n",
            "dropout_48 (Dropout)            (None, 1024)         0           dense_74[0][0]                   \n",
            "__________________________________________________________________________________________________\n",
            "dropout_50 (Dropout)            (None, 1024)         0           dense_77[0][0]                   \n",
            "__________________________________________________________________________________________________\n",
            "dense_57 (Dense)                (None, 128)          131200      dropout_36[0][0]                 \n",
            "__________________________________________________________________________________________________\n",
            "dense_60 (Dense)                (None, 128)          131200      dropout_38[0][0]                 \n",
            "__________________________________________________________________________________________________\n",
            "dense_63 (Dense)                (None, 128)          131200      dropout_40[0][0]                 \n",
            "__________________________________________________________________________________________________\n",
            "dense_66 (Dense)                (None, 128)          131200      dropout_42[0][0]                 \n",
            "__________________________________________________________________________________________________\n",
            "dense_69 (Dense)                (None, 128)          131200      dropout_44[0][0]                 \n",
            "__________________________________________________________________________________________________\n",
            "dense_72 (Dense)                (None, 128)          131200      dropout_46[0][0]                 \n",
            "__________________________________________________________________________________________________\n",
            "dense_75 (Dense)                (None, 128)          131200      dropout_48[0][0]                 \n",
            "__________________________________________________________________________________________________\n",
            "dense_78 (Dense)                (None, 128)          131200      dropout_50[0][0]                 \n",
            "__________________________________________________________________________________________________\n",
            "reshape_16 (Reshape)            (None, 8, 16)        0           dense_57[0][0]                   \n",
            "__________________________________________________________________________________________________\n",
            "reshape_17 (Reshape)            (None, 8, 16)        0           dense_60[0][0]                   \n",
            "__________________________________________________________________________________________________\n",
            "reshape_18 (Reshape)            (None, 8, 16)        0           dense_63[0][0]                   \n",
            "__________________________________________________________________________________________________\n",
            "reshape_19 (Reshape)            (None, 8, 16)        0           dense_66[0][0]                   \n",
            "__________________________________________________________________________________________________\n",
            "reshape_20 (Reshape)            (None, 8, 16)        0           dense_69[0][0]                   \n",
            "__________________________________________________________________________________________________\n",
            "reshape_21 (Reshape)            (None, 8, 16)        0           dense_72[0][0]                   \n",
            "__________________________________________________________________________________________________\n",
            "reshape_22 (Reshape)            (None, 8, 16)        0           dense_75[0][0]                   \n",
            "__________________________________________________________________________________________________\n",
            "reshape_23 (Reshape)            (None, 8, 16)        0           dense_78[0][0]                   \n",
            "__________________________________________________________________________________________________\n",
            "conv1d_16 (Conv1D)              (None, 8, 128)       6272        reshape_16[0][0]                 \n",
            "__________________________________________________________________________________________________\n",
            "conv1d_17 (Conv1D)              (None, 8, 128)       6272        reshape_17[0][0]                 \n",
            "__________________________________________________________________________________________________\n",
            "conv1d_18 (Conv1D)              (None, 8, 128)       6272        reshape_18[0][0]                 \n",
            "__________________________________________________________________________________________________\n",
            "conv1d_19 (Conv1D)              (None, 8, 128)       6272        reshape_19[0][0]                 \n",
            "__________________________________________________________________________________________________\n",
            "conv1d_20 (Conv1D)              (None, 8, 128)       6272        reshape_20[0][0]                 \n",
            "__________________________________________________________________________________________________\n",
            "conv1d_21 (Conv1D)              (None, 8, 128)       6272        reshape_21[0][0]                 \n",
            "__________________________________________________________________________________________________\n",
            "conv1d_22 (Conv1D)              (None, 8, 128)       6272        reshape_22[0][0]                 \n",
            "__________________________________________________________________________________________________\n",
            "conv1d_23 (Conv1D)              (None, 8, 128)       6272        reshape_23[0][0]                 \n",
            "__________________________________________________________________________________________________\n",
            "max_pooling1d_16 (MaxPooling1D) (None, 4, 128)       0           conv1d_16[0][0]                  \n",
            "__________________________________________________________________________________________________\n",
            "max_pooling1d_17 (MaxPooling1D) (None, 4, 128)       0           conv1d_17[0][0]                  \n",
            "__________________________________________________________________________________________________\n",
            "max_pooling1d_18 (MaxPooling1D) (None, 4, 128)       0           conv1d_18[0][0]                  \n",
            "__________________________________________________________________________________________________\n",
            "max_pooling1d_19 (MaxPooling1D) (None, 4, 128)       0           conv1d_19[0][0]                  \n",
            "__________________________________________________________________________________________________\n",
            "max_pooling1d_20 (MaxPooling1D) (None, 4, 128)       0           conv1d_20[0][0]                  \n",
            "__________________________________________________________________________________________________\n",
            "max_pooling1d_21 (MaxPooling1D) (None, 4, 128)       0           conv1d_21[0][0]                  \n",
            "__________________________________________________________________________________________________\n",
            "max_pooling1d_22 (MaxPooling1D) (None, 4, 128)       0           conv1d_22[0][0]                  \n",
            "__________________________________________________________________________________________________\n",
            "max_pooling1d_23 (MaxPooling1D) (None, 4, 128)       0           conv1d_23[0][0]                  \n",
            "__________________________________________________________________________________________________\n",
            "batch_normalization_16 (BatchNo (None, 4, 128)       512         max_pooling1d_16[0][0]           \n",
            "__________________________________________________________________________________________________\n",
            "batch_normalization_17 (BatchNo (None, 4, 128)       512         max_pooling1d_17[0][0]           \n",
            "__________________________________________________________________________________________________\n",
            "batch_normalization_18 (BatchNo (None, 4, 128)       512         max_pooling1d_18[0][0]           \n",
            "__________________________________________________________________________________________________\n",
            "batch_normalization_19 (BatchNo (None, 4, 128)       512         max_pooling1d_19[0][0]           \n",
            "__________________________________________________________________________________________________\n",
            "batch_normalization_20 (BatchNo (None, 4, 128)       512         max_pooling1d_20[0][0]           \n",
            "__________________________________________________________________________________________________\n",
            "batch_normalization_21 (BatchNo (None, 4, 128)       512         max_pooling1d_21[0][0]           \n",
            "__________________________________________________________________________________________________\n",
            "batch_normalization_22 (BatchNo (None, 4, 128)       512         max_pooling1d_22[0][0]           \n",
            "__________________________________________________________________________________________________\n",
            "batch_normalization_23 (BatchNo (None, 4, 128)       512         max_pooling1d_23[0][0]           \n",
            "__________________________________________________________________________________________________\n",
            "flatten_33 (Flatten)            (None, 512)          0           batch_normalization_16[0][0]     \n",
            "__________________________________________________________________________________________________\n",
            "flatten_35 (Flatten)            (None, 512)          0           batch_normalization_17[0][0]     \n",
            "__________________________________________________________________________________________________\n",
            "flatten_37 (Flatten)            (None, 512)          0           batch_normalization_18[0][0]     \n",
            "__________________________________________________________________________________________________\n",
            "flatten_39 (Flatten)            (None, 512)          0           batch_normalization_19[0][0]     \n",
            "__________________________________________________________________________________________________\n",
            "flatten_41 (Flatten)            (None, 512)          0           batch_normalization_20[0][0]     \n",
            "__________________________________________________________________________________________________\n",
            "flatten_43 (Flatten)            (None, 512)          0           batch_normalization_21[0][0]     \n",
            "__________________________________________________________________________________________________\n",
            "flatten_45 (Flatten)            (None, 512)          0           batch_normalization_22[0][0]     \n",
            "__________________________________________________________________________________________________\n",
            "flatten_47 (Flatten)            (None, 512)          0           batch_normalization_23[0][0]     \n",
            "__________________________________________________________________________________________________\n",
            "dense_58 (Dense)                (None, 128)          65664       flatten_33[0][0]                 \n",
            "__________________________________________________________________________________________________\n",
            "dense_61 (Dense)                (None, 128)          65664       flatten_35[0][0]                 \n",
            "__________________________________________________________________________________________________\n",
            "dense_64 (Dense)                (None, 128)          65664       flatten_37[0][0]                 \n",
            "__________________________________________________________________________________________________\n",
            "dense_67 (Dense)                (None, 128)          65664       flatten_39[0][0]                 \n",
            "__________________________________________________________________________________________________\n",
            "dense_70 (Dense)                (None, 128)          65664       flatten_41[0][0]                 \n",
            "__________________________________________________________________________________________________\n",
            "dense_73 (Dense)                (None, 128)          65664       flatten_43[0][0]                 \n",
            "__________________________________________________________________________________________________\n",
            "dense_76 (Dense)                (None, 128)          65664       flatten_45[0][0]                 \n",
            "__________________________________________________________________________________________________\n",
            "dense_79 (Dense)                (None, 128)          65664       flatten_47[0][0]                 \n",
            "__________________________________________________________________________________________________\n",
            "dropout_37 (Dropout)            (None, 128)          0           dense_58[0][0]                   \n",
            "__________________________________________________________________________________________________\n",
            "dropout_39 (Dropout)            (None, 128)          0           dense_61[0][0]                   \n",
            "__________________________________________________________________________________________________\n",
            "dropout_41 (Dropout)            (None, 128)          0           dense_64[0][0]                   \n",
            "__________________________________________________________________________________________________\n",
            "dropout_43 (Dropout)            (None, 128)          0           dense_67[0][0]                   \n",
            "__________________________________________________________________________________________________\n",
            "dropout_45 (Dropout)            (None, 128)          0           dense_70[0][0]                   \n",
            "__________________________________________________________________________________________________\n",
            "dropout_47 (Dropout)            (None, 128)          0           dense_73[0][0]                   \n",
            "__________________________________________________________________________________________________\n",
            "dropout_49 (Dropout)            (None, 128)          0           dense_76[0][0]                   \n",
            "__________________________________________________________________________________________________\n",
            "dropout_51 (Dropout)            (None, 128)          0           dense_79[0][0]                   \n",
            "__________________________________________________________________________________________________\n",
            "concatenate_4 (Concatenate)     (None, 1024)         0           dropout_37[0][0]                 \n",
            "                                                                 dropout_39[0][0]                 \n",
            "                                                                 dropout_41[0][0]                 \n",
            "                                                                 dropout_43[0][0]                 \n",
            "                                                                 dropout_45[0][0]                 \n",
            "                                                                 dropout_47[0][0]                 \n",
            "                                                                 dropout_49[0][0]                 \n",
            "                                                                 dropout_51[0][0]                 \n",
            "__________________________________________________________________________________________________\n",
            "input_27 (InputLayer)           [(None, 18)]         0                                            \n",
            "__________________________________________________________________________________________________\n",
            "dense_81 (Dense)                (None, 1028)         1053700     concatenate_4[0][0]              \n",
            "__________________________________________________________________________________________________\n",
            "dense_80 (Dense)                (None, 256)          4864        input_27[0][0]                   \n",
            "__________________________________________________________________________________________________\n",
            "concatenate_5 (Concatenate)     (None, 1284)         0           dense_81[0][0]                   \n",
            "                                                                 dense_80[0][0]                   \n",
            "__________________________________________________________________________________________________\n",
            "dropout_52 (Dropout)            (None, 1284)         0           concatenate_5[0][0]              \n",
            "__________________________________________________________________________________________________\n",
            "dense_82 (Dense)                (None, 256)          328960      dropout_52[0][0]                 \n",
            "__________________________________________________________________________________________________\n",
            "dropout_53 (Dropout)            (None, 256)          0           dense_82[0][0]                   \n",
            "__________________________________________________________________________________________________\n",
            "dense_83 (Dense)                (None, 6)            1542        dropout_53[0][0]                 \n",
            "==================================================================================================\n",
            "Total params: 35,022,730\n",
            "Trainable params: 12,227,082\n",
            "Non-trainable params: 22,795,648\n",
            "__________________________________________________________________________________________________\n"
          ],
          "name": "stdout"
        }
      ]
    },
    {
      "cell_type": "code",
      "metadata": {
        "id": "k9Dz2T_2vRYx"
      },
      "source": [
        "stop = EarlyStopping(monitor=\"val_acc\", patience=20, mode=\"max\")\n",
        "reduce_lr = ReduceLROnPlateau(monitor=\"val_acc\", factor=0.1, patience=10, min_lr=1e-6, verbose=1, mode=\"max\")\n",
        "optimizer = Adam(lr = 0.001)\n",
        "model_multi.compile(optimizer, loss='binary_crossentropy', metrics=['acc'])"
      ],
      "execution_count": 39,
      "outputs": []
    },
    {
      "cell_type": "code",
      "metadata": {
        "id": "ZEnz0xU7vYCs",
        "colab": {
          "base_uri": "https://localhost:8080/"
        },
        "outputId": "64f82a47-d615-4d48-9f94-59d1fafa9ff0"
      },
      "source": [
        "model_multi.fit([train_stmt_x, train_sub_x, train_cxt_x, train_spkr_x, train_prty_x, train_job_x, train_state_x, train_just_x, train_metadata], train_y,\n",
        "          epochs=10, verbose=1, validation_data=([val_stmt_x, val_sub_x, val_cxt_x, val_spkr_x, val_prty_x, val_job_x, val_state_x, val_just_x,\n",
        "                                                      val_metadata], val_y), callbacks=[reduce_lr, stop])"
      ],
      "execution_count": 40,
      "outputs": [
        {
          "output_type": "stream",
          "text": [
            "Epoch 1/10\n",
            "320/320 [==============================] - 73s 109ms/step - loss: 4.6280 - acc: 0.2766 - val_loss: 0.4225 - val_acc: 0.4712\n",
            "Epoch 2/10\n",
            "320/320 [==============================] - 26s 82ms/step - loss: 0.3910 - acc: 0.4297 - val_loss: 0.3605 - val_acc: 0.4673\n",
            "Epoch 3/10\n",
            "320/320 [==============================] - 26s 82ms/step - loss: 0.3646 - acc: 0.4466 - val_loss: 0.3472 - val_acc: 0.4634\n",
            "Epoch 4/10\n",
            "320/320 [==============================] - 26s 82ms/step - loss: 0.3516 - acc: 0.4595 - val_loss: 0.3408 - val_acc: 0.4673\n",
            "Epoch 5/10\n",
            "320/320 [==============================] - 26s 82ms/step - loss: 0.3436 - acc: 0.4592 - val_loss: 0.3368 - val_acc: 0.4665\n",
            "Epoch 6/10\n",
            "320/320 [==============================] - 26s 82ms/step - loss: 0.3391 - acc: 0.4631 - val_loss: 0.3366 - val_acc: 0.4712\n",
            "Epoch 7/10\n",
            "320/320 [==============================] - 26s 82ms/step - loss: 0.3381 - acc: 0.4593 - val_loss: 0.3344 - val_acc: 0.4673\n",
            "Epoch 8/10\n",
            "320/320 [==============================] - 27s 83ms/step - loss: 0.3377 - acc: 0.4606 - val_loss: 0.3339 - val_acc: 0.4603\n",
            "Epoch 9/10\n",
            "320/320 [==============================] - 27s 83ms/step - loss: 0.3368 - acc: 0.4656 - val_loss: 0.3332 - val_acc: 0.4665\n",
            "Epoch 10/10\n",
            "320/320 [==============================] - 27s 83ms/step - loss: 0.3359 - acc: 0.4624 - val_loss: 0.3337 - val_acc: 0.4813\n"
          ],
          "name": "stdout"
        },
        {
          "output_type": "execute_result",
          "data": {
            "text/plain": [
              "<tensorflow.python.keras.callbacks.History at 0x7fe76b9e7090>"
            ]
          },
          "metadata": {
            "tags": []
          },
          "execution_count": 40
        }
      ]
    },
    {
      "cell_type": "code",
      "metadata": {
        "id": "pqqnSEocvbtJ",
        "colab": {
          "base_uri": "https://localhost:8080/"
        },
        "outputId": "fdeadc1f-ab35-43bd-b228-e46d14ade745"
      },
      "source": [
        "val_loss, val_acc = model_multi.evaluate([val_stmt_x, val_sub_x, val_cxt_x, val_spkr_x, val_prty_x, val_job_x, val_state_x, val_just_x, val_metadata], val_y,\n",
        "                                   verbose=1)\n",
        "print('Validation Accuracy: %f' % (val_acc))\n",
        "test_loss, test_acc = model_multi.evaluate([test_stmt_x, test_sub_x, test_cxt_x, test_spkr_x, test_prty_x, test_job_x, test_state_x, test_just_x, test_metadata],\n",
        "                                     test_y, verbose=1)\n",
        "print('Test Accuracy: %f' % (test_acc))"
      ],
      "execution_count": 41,
      "outputs": [
        {
          "output_type": "stream",
          "text": [
            "41/41 [==============================] - 1s 35ms/step - loss: 0.3337 - acc: 0.4813\n",
            "Validation Accuracy: 0.481308\n",
            "40/40 [==============================] - 1s 35ms/step - loss: 0.3444 - acc: 0.4483\n",
            "Test Accuracy: 0.448303\n"
          ],
          "name": "stdout"
        }
      ]
    },
    {
      "cell_type": "code",
      "metadata": {
        "id": "_qp_x50AwpOQ"
      },
      "source": [
        ""
      ],
      "execution_count": null,
      "outputs": []
    }
  ]
}