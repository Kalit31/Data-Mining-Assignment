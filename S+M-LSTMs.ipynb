{
  "nbformat": 4,
  "nbformat_minor": 0,
  "metadata": {
    "colab": {
      "name": "S+M-LSTMs.ipynb",
      "provenance": [],
      "collapsed_sections": [],
      "mount_file_id": "1NuojByGxLGJkDzy-Y2nMVM8QccTBeWvj",
      "authorship_tag": "ABX9TyOiPOLXmWEdjTTTw58mha1W",
      "include_colab_link": true
    },
    "kernelspec": {
      "name": "python3",
      "display_name": "Python 3"
    },
    "language_info": {
      "name": "python"
    },
    "accelerator": "GPU"
  },
  "cells": [
    {
      "cell_type": "markdown",
      "metadata": {
        "id": "view-in-github",
        "colab_type": "text"
      },
      "source": [
        "<a href=\"https://colab.research.google.com/github/Kalit31/Data-Mining-Assignment/blob/main/S%2BM-LSTMs.ipynb\" target=\"_parent\"><img src=\"https://colab.research.google.com/assets/colab-badge.svg\" alt=\"Open In Colab\"/></a>"
      ]
    },
    {
      "cell_type": "code",
      "metadata": {
        "colab": {
          "base_uri": "https://localhost:8080/"
        },
        "id": "dDskHV1HNKx8",
        "outputId": "ed4b2863-66ef-4a1d-c2d2-1146f31ca949"
      },
      "source": [
        "from google.colab import drive\n",
        "drive.mount('/content/drive/')"
      ],
      "execution_count": 1,
      "outputs": [
        {
          "output_type": "stream",
          "text": [
            "Mounted at /content/drive/\n"
          ],
          "name": "stdout"
        }
      ]
    },
    {
      "cell_type": "code",
      "metadata": {
        "id": "yFEQ2p5EOXj3"
      },
      "source": [
        "#Import libraries\n",
        "import pandas as pd\n",
        "import numpy as np\n",
        "import cv2\n",
        "import keras\n",
        "import matplotlib.pyplot as plt\n",
        "import tensorflow as tf\n",
        "from keras.preprocessing.text import Tokenizer\n",
        "from keras.preprocessing.sequence import pad_sequences\n",
        "from keras.callbacks import ModelCheckpoint, EarlyStopping, ReduceLROnPlateau, Callback, TensorBoard\n",
        "from keras.layers import Input, Embedding, Bidirectional, LSTM, Conv1D, MaxPooling1D, BatchNormalization, Flatten, Dense, Dropout, Reshape, Concatenate, Masking\n",
        "from keras.regularizers import l2\n",
        "from keras.utils import Sequence, to_categorical\n",
        "from keras.optimizers import Adam\n",
        "from keras.backend import epsilon\n",
        "from keras.models import model_from_json\n",
        "from keras.models import Model, Sequential\n",
        "\n",
        "import nltk\n",
        "from nltk.tokenize import RegexpTokenizer\n",
        "\n",
        "from sklearn.linear_model import  LogisticRegression\n",
        "from sklearn.metrics import confusion_matrix, f1_score, classification_report,accuracy_score\n",
        "from sklearn.metrics import precision_recall_curve\n",
        "from sklearn.metrics import average_precision_score\n",
        "from sklearn import svm\n",
        "from sklearn.preprocessing import LabelEncoder\n",
        "\n",
        "import warnings\n",
        "warnings.filterwarnings(\"ignore\")"
      ],
      "execution_count": 2,
      "outputs": []
    },
    {
      "cell_type": "markdown",
      "metadata": {
        "id": "ZhiNJo_Wxe1o"
      },
      "source": [
        "**Import dataset** "
      ]
    },
    {
      "cell_type": "code",
      "metadata": {
        "id": "vngMWE4eOdBT"
      },
      "source": [
        "trainFilePath = 'dataset/train2.tsv'\n",
        "testFilePath = 'dataset/test2.tsv'\n",
        "validationFilePath = 'dataset/val2.tsv'\n",
        "\n",
        "PATH = \"/content/drive/My Drive/\""
      ],
      "execution_count": 3,
      "outputs": []
    },
    {
      "cell_type": "code",
      "metadata": {
        "id": "mzjKQmKMOsHS"
      },
      "source": [
        "df_train = pd.read_csv(PATH+trainFilePath, delimiter='\\t',  names=[\"ID\", \"Label\", \"Statement\", \"Subject\", \"Speaker\", \"Job Title\", \"State\", \"Party\",\n",
        "                         \"Barely True Cnt\", \"False Cnt\", \"Half True Cnt\", \"Mostly True Cnt\", \"Pants on Fire Cnt\", \"Context\", \"Justification\"])\n",
        "\n",
        "df_test = pd.read_csv(PATH+testFilePath, delimiter='\\t',  names=[\"ID\", \"Label\", \"Statement\", \"Subject\", \"Speaker\", \"Job Title\", \"State\", \"Party\",\n",
        "                         \"Barely True Cnt\", \"False Cnt\", \"Half True Cnt\", \"Mostly True Cnt\", \"Pants on Fire Cnt\", \"Context\", \"Justification\"])\n",
        "\n",
        "\n",
        "df_validation = pd.read_csv(PATH+validationFilePath, delimiter='\\t', names=[\"ID\", \"Label\", \"Statement\", \"Subject\", \"Speaker\", \"Job Title\", \"State\", \"Party\",\n",
        "                         \"Barely True Cnt\", \"False Cnt\", \"Half True Cnt\", \"Mostly True Cnt\", \"Pants on Fire Cnt\", \"Context\", \"Justification\"])"
      ],
      "execution_count": 4,
      "outputs": []
    },
    {
      "cell_type": "code",
      "metadata": {
        "colab": {
          "base_uri": "https://localhost:8080/",
          "height": 306
        },
        "id": "1kwQPl_uO6Z7",
        "outputId": "52d92aef-f135-4aae-c141-2b91755a47c8"
      },
      "source": [
        "df_train.head()"
      ],
      "execution_count": 5,
      "outputs": [
        {
          "output_type": "execute_result",
          "data": {
            "text/html": [
              "<div>\n",
              "<style scoped>\n",
              "    .dataframe tbody tr th:only-of-type {\n",
              "        vertical-align: middle;\n",
              "    }\n",
              "\n",
              "    .dataframe tbody tr th {\n",
              "        vertical-align: top;\n",
              "    }\n",
              "\n",
              "    .dataframe thead th {\n",
              "        text-align: right;\n",
              "    }\n",
              "</style>\n",
              "<table border=\"1\" class=\"dataframe\">\n",
              "  <thead>\n",
              "    <tr style=\"text-align: right;\">\n",
              "      <th></th>\n",
              "      <th>ID</th>\n",
              "      <th>Label</th>\n",
              "      <th>Statement</th>\n",
              "      <th>Subject</th>\n",
              "      <th>Speaker</th>\n",
              "      <th>Job Title</th>\n",
              "      <th>State</th>\n",
              "      <th>Party</th>\n",
              "      <th>Barely True Cnt</th>\n",
              "      <th>False Cnt</th>\n",
              "      <th>Half True Cnt</th>\n",
              "      <th>Mostly True Cnt</th>\n",
              "      <th>Pants on Fire Cnt</th>\n",
              "      <th>Context</th>\n",
              "      <th>Justification</th>\n",
              "    </tr>\n",
              "  </thead>\n",
              "  <tbody>\n",
              "    <tr>\n",
              "      <th>0</th>\n",
              "      <td>2635.json</td>\n",
              "      <td>false</td>\n",
              "      <td>Says the Annies List political group supports ...</td>\n",
              "      <td>abortion</td>\n",
              "      <td>dwayne-bohac</td>\n",
              "      <td>State representative</td>\n",
              "      <td>Texas</td>\n",
              "      <td>republican</td>\n",
              "      <td>0.0</td>\n",
              "      <td>1.0</td>\n",
              "      <td>0.0</td>\n",
              "      <td>0.0</td>\n",
              "      <td>0.0</td>\n",
              "      <td>a mailer</td>\n",
              "      <td>That's a premise that he fails to back up. Ann...</td>\n",
              "    </tr>\n",
              "    <tr>\n",
              "      <th>1</th>\n",
              "      <td>10540.json</td>\n",
              "      <td>half-true</td>\n",
              "      <td>When did the decline of coal start? It started...</td>\n",
              "      <td>energy,history,job-accomplishments</td>\n",
              "      <td>scott-surovell</td>\n",
              "      <td>State delegate</td>\n",
              "      <td>Virginia</td>\n",
              "      <td>democrat</td>\n",
              "      <td>0.0</td>\n",
              "      <td>0.0</td>\n",
              "      <td>1.0</td>\n",
              "      <td>1.0</td>\n",
              "      <td>0.0</td>\n",
              "      <td>a floor speech.</td>\n",
              "      <td>Surovell said the decline of coal \"started whe...</td>\n",
              "    </tr>\n",
              "    <tr>\n",
              "      <th>2</th>\n",
              "      <td>324.json</td>\n",
              "      <td>mostly-true</td>\n",
              "      <td>Hillary Clinton agrees with John McCain \"by vo...</td>\n",
              "      <td>foreign-policy</td>\n",
              "      <td>barack-obama</td>\n",
              "      <td>President</td>\n",
              "      <td>Illinois</td>\n",
              "      <td>democrat</td>\n",
              "      <td>70.0</td>\n",
              "      <td>71.0</td>\n",
              "      <td>160.0</td>\n",
              "      <td>163.0</td>\n",
              "      <td>9.0</td>\n",
              "      <td>Denver</td>\n",
              "      <td>Obama said he would have voted against the ame...</td>\n",
              "    </tr>\n",
              "    <tr>\n",
              "      <th>3</th>\n",
              "      <td>1123.json</td>\n",
              "      <td>false</td>\n",
              "      <td>Health care reform legislation is likely to ma...</td>\n",
              "      <td>health-care</td>\n",
              "      <td>blog-posting</td>\n",
              "      <td>NaN</td>\n",
              "      <td>NaN</td>\n",
              "      <td>none</td>\n",
              "      <td>7.0</td>\n",
              "      <td>19.0</td>\n",
              "      <td>3.0</td>\n",
              "      <td>5.0</td>\n",
              "      <td>44.0</td>\n",
              "      <td>a news release</td>\n",
              "      <td>The release may have a point that Mikulskis co...</td>\n",
              "    </tr>\n",
              "    <tr>\n",
              "      <th>4</th>\n",
              "      <td>9028.json</td>\n",
              "      <td>half-true</td>\n",
              "      <td>The economic turnaround started at the end of ...</td>\n",
              "      <td>economy,jobs</td>\n",
              "      <td>charlie-crist</td>\n",
              "      <td>NaN</td>\n",
              "      <td>Florida</td>\n",
              "      <td>democrat</td>\n",
              "      <td>15.0</td>\n",
              "      <td>9.0</td>\n",
              "      <td>20.0</td>\n",
              "      <td>19.0</td>\n",
              "      <td>2.0</td>\n",
              "      <td>an interview on CNN</td>\n",
              "      <td>Crist said that the economic \"turnaround start...</td>\n",
              "    </tr>\n",
              "  </tbody>\n",
              "</table>\n",
              "</div>"
            ],
            "text/plain": [
              "           ID  ...                                      Justification\n",
              "0   2635.json  ...  That's a premise that he fails to back up. Ann...\n",
              "1  10540.json  ...  Surovell said the decline of coal \"started whe...\n",
              "2    324.json  ...  Obama said he would have voted against the ame...\n",
              "3   1123.json  ...  The release may have a point that Mikulskis co...\n",
              "4   9028.json  ...  Crist said that the economic \"turnaround start...\n",
              "\n",
              "[5 rows x 15 columns]"
            ]
          },
          "metadata": {
            "tags": []
          },
          "execution_count": 5
        }
      ]
    },
    {
      "cell_type": "markdown",
      "metadata": {
        "id": "6BFLl-iwxowQ"
      },
      "source": [
        "**Data Preprocessing**"
      ]
    },
    {
      "cell_type": "code",
      "metadata": {
        "id": "I0DuhoQNVynS"
      },
      "source": [
        "def dataCleaning(df,field):\n",
        "    df[field] = df[field].str.replace(r\"@\\S+\", \"\")\n",
        "    df[field] = df[field].str.replace(r\"[^A-Za-z0-9]\", \" \")\n",
        "    df[field] = df[field].str.replace(r\"(),!?@\\'\\`\\\"\\_\\n\", \" \")\n",
        "    df[field] = df[field].str.replace(r\"@\", \"at\")\n",
        "    df[field] = df[field].str.replace(r\"http\\S+\", \"\")\n",
        "    df[field] = df[field].str.replace(r\"http\", \"\")\n",
        "    df[field] = df[field].str.lower()\n",
        "    return df\n",
        "\n",
        "def dataPreprocessing(df):\n",
        "    df = df[df['ID'].notna()]\n",
        "    df = df[df['Barely True Cnt'].notna()]\n",
        "    df = df[df['False Cnt'].notna()]\n",
        "    df = df[df['Mostly True Cnt'].notna()]\n",
        "    df = df[df['Pants on Fire Cnt'].notna()]\n",
        "    df = df[df['Half True Cnt'].notna()]\n",
        "\n",
        "    df['ID'] = df['ID'].str.split(\".\", n = 1, expand = True) \n",
        "    \n",
        "    df = dataCleaning(df,'Statement')\n",
        "    df = dataCleaning(df,'Subject')\n",
        "    df = dataCleaning(df,'Speaker')\n",
        "    df = dataCleaning(df,'Job Title')\n",
        "    df = dataCleaning(df,'State')\n",
        "    df = dataCleaning(df,'Party')\n",
        "    df = dataCleaning(df,'Context')\n",
        "    df = dataCleaning(df,'Justification')    \n",
        "    \n",
        "    le_multi = LabelEncoder()\n",
        "    df.loc[:, 'Multi Class Label'] = le_multi.fit_transform(df.Label)\n",
        "    print(\"Label assignments: \" + str({l: i for i, l in enumerate(le_multi.classes_)}))   \n",
        "    \n",
        "    df['Binary Label'] = df.Label.apply(lambda x: 1 if x in ['false','pants-fire','barely-true']  else 0)\n",
        "\n",
        "    df = df.fillna('None')\n",
        "\n",
        "    return df"
      ],
      "execution_count": 6,
      "outputs": []
    },
    {
      "cell_type": "code",
      "metadata": {
        "colab": {
          "base_uri": "https://localhost:8080/"
        },
        "id": "FGuj3ylmqUp3",
        "outputId": "04364db5-6922-4094-8a22-274958b7120b"
      },
      "source": [
        "df_train = dataPreprocessing(df_train)\n",
        "df_validation = dataPreprocessing(df_validation)\n",
        "df_test = dataPreprocessing(df_test)"
      ],
      "execution_count": 7,
      "outputs": [
        {
          "output_type": "stream",
          "text": [
            "Label assignments: {'barely-true': 0, 'false': 1, 'half-true': 2, 'mostly-true': 3, 'pants-fire': 4, 'true': 5}\n",
            "Label assignments: {'barely-true': 0, 'false': 1, 'half-true': 2, 'mostly-true': 3, 'pants-fire': 4, 'true': 5}\n",
            "Label assignments: {'barely-true': 0, 'false': 1, 'half-true': 2, 'mostly-true': 3, 'pants-fire': 4, 'true': 5}\n"
          ],
          "name": "stdout"
        }
      ]
    },
    {
      "cell_type": "markdown",
      "metadata": {
        "id": "52paYI26xwrm"
      },
      "source": [
        "**Embed data fields**"
      ]
    },
    {
      "cell_type": "code",
      "metadata": {
        "id": "M5Lag0h2kHLK"
      },
      "source": [
        "def embed_metadata(df):\n",
        "  meta_data = df.values[:,8:13]\n",
        "  for i in range(meta_data.shape[0]):\n",
        "    for j in range(meta_data.shape[1]):\n",
        "      if meta_data[i][j] == 'None':\n",
        "        meta_data[i][j] = 0\n",
        "  \n",
        "  meta_data = np.asarray(meta_data).astype(np.float32)\n",
        "\n",
        "  return meta_data"
      ],
      "execution_count": 8,
      "outputs": []
    },
    {
      "cell_type": "code",
      "metadata": {
        "id": "T_UcrJXoPaAx"
      },
      "source": [
        "t = Tokenizer()\n",
        "  \n",
        "def get_embeddings(data, max_length):\n",
        "  t.fit_on_texts(data)\n",
        "  encoded_docs = t.texts_to_sequences(data)\n",
        "  padded_docs = pad_sequences(encoded_docs, maxlen=max_length, padding='post')\n",
        "  return padded_docs"
      ],
      "execution_count": 9,
      "outputs": []
    },
    {
      "cell_type": "code",
      "metadata": {
        "id": "EpRf8WQBhF2J"
      },
      "source": [
        "def embed_fields(df):\n",
        "  return [np.asarray(get_embeddings(df['Statement'], 50)).astype(np.int32),np.asarray(get_embeddings(df['Subject'], 10)).astype(np.int32),np.asarray(get_embeddings(df['Context'], 25)).astype(np.int32),\n",
        "          np.asarray(get_embeddings(df['Speaker'], 5)).astype(np.int32),np.asarray(get_embeddings(df['Party'], 5)).astype(np.int32),np.asarray(get_embeddings(df['Job Title'], 20)).astype(np.int32),\n",
        "          np.asarray(get_embeddings(df['State'], 5)).astype(np.int32),np.asarray(get_embeddings(df['Justification'], 150)).astype(np.int32),embed_metadata(df)]"
      ],
      "execution_count": 10,
      "outputs": []
    },
    {
      "cell_type": "code",
      "metadata": {
        "id": "cF1GShBdPb66"
      },
      "source": [
        "train_stmt_x = get_embeddings(df_train['Statement'], 50)\n",
        "train_sub_x = get_embeddings(df_train['Subject'], 10)\n",
        "train_cxt_x = get_embeddings(df_train['Context'], 25)\n",
        "train_spkr_x = get_embeddings(df_train['Speaker'], 5)\n",
        "train_prty_x = get_embeddings(df_train['Party'], 5)\n",
        "train_job_x= get_embeddings(df_train['Job Title'], 20)\n",
        "train_state_x= get_embeddings(df_train['State'], 5)\n",
        "train_metadata = embed_metadata(df_train)\n",
        "\n",
        "val_stmt_x = get_embeddings(df_validation['Statement'], 50)\n",
        "val_sub_x= get_embeddings(df_validation['Subject'], 10)\n",
        "val_cxt_x = get_embeddings(df_validation['Context'], 25)\n",
        "val_spkr_x = get_embeddings(df_validation['Speaker'], 5)\n",
        "val_prty_x = get_embeddings(df_validation['Party'], 5)\n",
        "val_job_x = get_embeddings(df_validation['Job Title'], 20)\n",
        "val_state_x = get_embeddings(df_validation['State'], 5)\n",
        "val_metadata = embed_metadata(df_validation)\n",
        "\n",
        "test_stmt_x = get_embeddings(df_test['Statement'], 50)\n",
        "test_sub_x= get_embeddings(df_test['Subject'], 10)\n",
        "test_cxt_x= get_embeddings(df_test['Context'], 25)\n",
        "test_spkr_x = get_embeddings(df_test['Speaker'], 5)\n",
        "test_prty_x = get_embeddings(df_test['Party'], 5)\n",
        "test_job_x = get_embeddings(df_test['Job Title'], 20)\n",
        "test_state_x= get_embeddings(df_test['State'], 5)\n",
        "test_metadata = embed_metadata(df_test)"
      ],
      "execution_count": 11,
      "outputs": []
    },
    {
      "cell_type": "code",
      "metadata": {
        "colab": {
          "base_uri": "https://localhost:8080/"
        },
        "id": "PHdgS0zDiN1Q",
        "outputId": "b75c8d6e-c8dd-4d64-ec5e-cc120743f5f9"
      },
      "source": [
        "vocab_size = len(t.word_index) + 1\n",
        "print(\"VOCABULARY SIZE: \"+str(vocab_size))"
      ],
      "execution_count": 12,
      "outputs": [
        {
          "output_type": "stream",
          "text": [
            "VOCABULARY SIZE: 16338\n"
          ],
          "name": "stdout"
        }
      ]
    },
    {
      "cell_type": "code",
      "metadata": {
        "id": "xYmNnyFPPdiW"
      },
      "source": [
        "embeddings_index = dict()\n",
        "f = open(PATH + 'dataset/glove.6B.100d.txt')\n",
        "for line in f:\n",
        "\tvalues = line.split()\n",
        "\tword = values[0]\n",
        "\tcoefs = np.asarray(values[1:], dtype='float32')\n",
        "\tembeddings_index[word] = coefs\n",
        "f.close()"
      ],
      "execution_count": 13,
      "outputs": []
    },
    {
      "cell_type": "code",
      "metadata": {
        "id": "M2Jgnh4_iX1U"
      },
      "source": [
        "def create_embedding_matrix():\n",
        "  embedding_matrix = np.zeros((vocab_size, 100))\n",
        "  for word, i in t.word_index.items():\n",
        "\t  embedding_vector = embeddings_index.get(word)\n",
        "\t  if embedding_vector is not None:\n",
        "\t\t  embedding_matrix[i] = embedding_vector\n",
        "  return embedding_matrix"
      ],
      "execution_count": 14,
      "outputs": []
    },
    {
      "cell_type": "code",
      "metadata": {
        "id": "n__3TEv8jSvg"
      },
      "source": [
        "embedding_matrix = create_embedding_matrix()"
      ],
      "execution_count": 15,
      "outputs": []
    },
    {
      "cell_type": "code",
      "metadata": {
        "id": "MkKrZp-nPikR"
      },
      "source": [
        "def get_features(input_length):\n",
        "  input_tensor = Input((input_length,))\n",
        "  X = Embedding(vocab_size, 100, weights=[embedding_matrix], input_length=input_length, trainable=False)(input_tensor)\n",
        "  X = Bidirectional(LSTM(32, return_sequences=True))(X)\n",
        "  X = Bidirectional(LSTM(16, return_sequences=True))(X)\n",
        "  X = Flatten()(X)\n",
        "  X = Dense(1024, activation='relu', kernel_regularizer=l2(0.0))(X)\n",
        "  X = Dropout(0.3)(X)\n",
        "  X = Dense(128, activation='relu', kernel_regularizer=l2(0.01))(X)\n",
        "  X = Reshape((8,16))(X)\n",
        "  X = Conv1D(128,3, padding='same', activation='relu', kernel_regularizer=l2(0.0))(X)\n",
        "  X = MaxPooling1D(2)(X)\n",
        "  X = BatchNormalization()(X)\n",
        "  X = Flatten()(X)\n",
        "  output_tensor = Dense(128, activation='relu', kernel_regularizer=l2(0.0))(X)\n",
        "  output_tensor = Dropout(0.3)(output_tensor)\n",
        "  return input_tensor, output_tensor"
      ],
      "execution_count": 16,
      "outputs": []
    },
    {
      "cell_type": "markdown",
      "metadata": {
        "id": "-diFsqaKx8lz"
      },
      "source": [
        "**Binary Classification Model**"
      ]
    },
    {
      "cell_type": "code",
      "metadata": {
        "colab": {
          "base_uri": "https://localhost:8080/"
        },
        "id": "Kucs2eyIPmeH",
        "outputId": "ccea3fcc-f8d4-4eb5-cf6d-e1427c157374"
      },
      "source": [
        "stmt_input, stmt_ftrs = get_features(train_stmt_x.shape[1])\n",
        "sub_input, sub_ftrs = get_features(train_sub_x.shape[1])\n",
        "cxt_input, cxt_ftrs = get_features(train_cxt_x.shape[1])\n",
        "spkr_input, spkr_ftrs = get_features(train_spkr_x.shape[1])\n",
        "prty_input, prty_ftrs = get_features(train_prty_x.shape[1])\n",
        "job_input, job_ftrs = get_features(train_job_x.shape[1])\n",
        "state_input, state_ftrs = get_features(train_state_x.shape[1])\n",
        "\n",
        "input_tensor_3 = Input((5,))\n",
        "metadata = Dense(256, activation='relu')(input_tensor_3)\n",
        "\n",
        "out_1 = Concatenate()([stmt_ftrs, sub_ftrs, cxt_ftrs, spkr_ftrs, prty_ftrs, job_ftrs, state_ftrs])\n",
        "out = Dense(1028, activation='relu', kernel_regularizer=l2(0.0))(out_1)\n",
        "out = Concatenate()([out, metadata])\n",
        "out = Dropout(0.3)(out)\n",
        "out = Dense(256, activation='relu', kernel_regularizer=l2(0.0))(out)\n",
        "out = Dropout(0.3)(out)\n",
        "out = Dense(2, activation='sigmoid')(out)\n",
        "model_binary = Model(inputs = [stmt_input, sub_input, cxt_input, spkr_input, prty_input, job_input, state_input, input_tensor_3], outputs = out)\n",
        "model_binary.summary()"
      ],
      "execution_count": 17,
      "outputs": [
        {
          "output_type": "stream",
          "text": [
            "Model: \"model\"\n",
            "__________________________________________________________________________________________________\n",
            "Layer (type)                    Output Shape         Param #     Connected to                     \n",
            "==================================================================================================\n",
            "input_1 (InputLayer)            [(None, 50)]         0                                            \n",
            "__________________________________________________________________________________________________\n",
            "input_2 (InputLayer)            [(None, 10)]         0                                            \n",
            "__________________________________________________________________________________________________\n",
            "input_3 (InputLayer)            [(None, 25)]         0                                            \n",
            "__________________________________________________________________________________________________\n",
            "input_4 (InputLayer)            [(None, 5)]          0                                            \n",
            "__________________________________________________________________________________________________\n",
            "input_5 (InputLayer)            [(None, 5)]          0                                            \n",
            "__________________________________________________________________________________________________\n",
            "input_6 (InputLayer)            [(None, 20)]         0                                            \n",
            "__________________________________________________________________________________________________\n",
            "input_7 (InputLayer)            [(None, 5)]          0                                            \n",
            "__________________________________________________________________________________________________\n",
            "embedding (Embedding)           (None, 50, 100)      1633800     input_1[0][0]                    \n",
            "__________________________________________________________________________________________________\n",
            "embedding_1 (Embedding)         (None, 10, 100)      1633800     input_2[0][0]                    \n",
            "__________________________________________________________________________________________________\n",
            "embedding_2 (Embedding)         (None, 25, 100)      1633800     input_3[0][0]                    \n",
            "__________________________________________________________________________________________________\n",
            "embedding_3 (Embedding)         (None, 5, 100)       1633800     input_4[0][0]                    \n",
            "__________________________________________________________________________________________________\n",
            "embedding_4 (Embedding)         (None, 5, 100)       1633800     input_5[0][0]                    \n",
            "__________________________________________________________________________________________________\n",
            "embedding_5 (Embedding)         (None, 20, 100)      1633800     input_6[0][0]                    \n",
            "__________________________________________________________________________________________________\n",
            "embedding_6 (Embedding)         (None, 5, 100)       1633800     input_7[0][0]                    \n",
            "__________________________________________________________________________________________________\n",
            "bidirectional (Bidirectional)   (None, 50, 64)       34048       embedding[0][0]                  \n",
            "__________________________________________________________________________________________________\n",
            "bidirectional_2 (Bidirectional) (None, 10, 64)       34048       embedding_1[0][0]                \n",
            "__________________________________________________________________________________________________\n",
            "bidirectional_4 (Bidirectional) (None, 25, 64)       34048       embedding_2[0][0]                \n",
            "__________________________________________________________________________________________________\n",
            "bidirectional_6 (Bidirectional) (None, 5, 64)        34048       embedding_3[0][0]                \n",
            "__________________________________________________________________________________________________\n",
            "bidirectional_8 (Bidirectional) (None, 5, 64)        34048       embedding_4[0][0]                \n",
            "__________________________________________________________________________________________________\n",
            "bidirectional_10 (Bidirectional (None, 20, 64)       34048       embedding_5[0][0]                \n",
            "__________________________________________________________________________________________________\n",
            "bidirectional_12 (Bidirectional (None, 5, 64)        34048       embedding_6[0][0]                \n",
            "__________________________________________________________________________________________________\n",
            "bidirectional_1 (Bidirectional) (None, 50, 32)       10368       bidirectional[0][0]              \n",
            "__________________________________________________________________________________________________\n",
            "bidirectional_3 (Bidirectional) (None, 10, 32)       10368       bidirectional_2[0][0]            \n",
            "__________________________________________________________________________________________________\n",
            "bidirectional_5 (Bidirectional) (None, 25, 32)       10368       bidirectional_4[0][0]            \n",
            "__________________________________________________________________________________________________\n",
            "bidirectional_7 (Bidirectional) (None, 5, 32)        10368       bidirectional_6[0][0]            \n",
            "__________________________________________________________________________________________________\n",
            "bidirectional_9 (Bidirectional) (None, 5, 32)        10368       bidirectional_8[0][0]            \n",
            "__________________________________________________________________________________________________\n",
            "bidirectional_11 (Bidirectional (None, 20, 32)       10368       bidirectional_10[0][0]           \n",
            "__________________________________________________________________________________________________\n",
            "bidirectional_13 (Bidirectional (None, 5, 32)        10368       bidirectional_12[0][0]           \n",
            "__________________________________________________________________________________________________\n",
            "flatten (Flatten)               (None, 1600)         0           bidirectional_1[0][0]            \n",
            "__________________________________________________________________________________________________\n",
            "flatten_2 (Flatten)             (None, 320)          0           bidirectional_3[0][0]            \n",
            "__________________________________________________________________________________________________\n",
            "flatten_4 (Flatten)             (None, 800)          0           bidirectional_5[0][0]            \n",
            "__________________________________________________________________________________________________\n",
            "flatten_6 (Flatten)             (None, 160)          0           bidirectional_7[0][0]            \n",
            "__________________________________________________________________________________________________\n",
            "flatten_8 (Flatten)             (None, 160)          0           bidirectional_9[0][0]            \n",
            "__________________________________________________________________________________________________\n",
            "flatten_10 (Flatten)            (None, 640)          0           bidirectional_11[0][0]           \n",
            "__________________________________________________________________________________________________\n",
            "flatten_12 (Flatten)            (None, 160)          0           bidirectional_13[0][0]           \n",
            "__________________________________________________________________________________________________\n",
            "dense (Dense)                   (None, 1024)         1639424     flatten[0][0]                    \n",
            "__________________________________________________________________________________________________\n",
            "dense_3 (Dense)                 (None, 1024)         328704      flatten_2[0][0]                  \n",
            "__________________________________________________________________________________________________\n",
            "dense_6 (Dense)                 (None, 1024)         820224      flatten_4[0][0]                  \n",
            "__________________________________________________________________________________________________\n",
            "dense_9 (Dense)                 (None, 1024)         164864      flatten_6[0][0]                  \n",
            "__________________________________________________________________________________________________\n",
            "dense_12 (Dense)                (None, 1024)         164864      flatten_8[0][0]                  \n",
            "__________________________________________________________________________________________________\n",
            "dense_15 (Dense)                (None, 1024)         656384      flatten_10[0][0]                 \n",
            "__________________________________________________________________________________________________\n",
            "dense_18 (Dense)                (None, 1024)         164864      flatten_12[0][0]                 \n",
            "__________________________________________________________________________________________________\n",
            "dropout (Dropout)               (None, 1024)         0           dense[0][0]                      \n",
            "__________________________________________________________________________________________________\n",
            "dropout_2 (Dropout)             (None, 1024)         0           dense_3[0][0]                    \n",
            "__________________________________________________________________________________________________\n",
            "dropout_4 (Dropout)             (None, 1024)         0           dense_6[0][0]                    \n",
            "__________________________________________________________________________________________________\n",
            "dropout_6 (Dropout)             (None, 1024)         0           dense_9[0][0]                    \n",
            "__________________________________________________________________________________________________\n",
            "dropout_8 (Dropout)             (None, 1024)         0           dense_12[0][0]                   \n",
            "__________________________________________________________________________________________________\n",
            "dropout_10 (Dropout)            (None, 1024)         0           dense_15[0][0]                   \n",
            "__________________________________________________________________________________________________\n",
            "dropout_12 (Dropout)            (None, 1024)         0           dense_18[0][0]                   \n",
            "__________________________________________________________________________________________________\n",
            "dense_1 (Dense)                 (None, 128)          131200      dropout[0][0]                    \n",
            "__________________________________________________________________________________________________\n",
            "dense_4 (Dense)                 (None, 128)          131200      dropout_2[0][0]                  \n",
            "__________________________________________________________________________________________________\n",
            "dense_7 (Dense)                 (None, 128)          131200      dropout_4[0][0]                  \n",
            "__________________________________________________________________________________________________\n",
            "dense_10 (Dense)                (None, 128)          131200      dropout_6[0][0]                  \n",
            "__________________________________________________________________________________________________\n",
            "dense_13 (Dense)                (None, 128)          131200      dropout_8[0][0]                  \n",
            "__________________________________________________________________________________________________\n",
            "dense_16 (Dense)                (None, 128)          131200      dropout_10[0][0]                 \n",
            "__________________________________________________________________________________________________\n",
            "dense_19 (Dense)                (None, 128)          131200      dropout_12[0][0]                 \n",
            "__________________________________________________________________________________________________\n",
            "reshape (Reshape)               (None, 8, 16)        0           dense_1[0][0]                    \n",
            "__________________________________________________________________________________________________\n",
            "reshape_1 (Reshape)             (None, 8, 16)        0           dense_4[0][0]                    \n",
            "__________________________________________________________________________________________________\n",
            "reshape_2 (Reshape)             (None, 8, 16)        0           dense_7[0][0]                    \n",
            "__________________________________________________________________________________________________\n",
            "reshape_3 (Reshape)             (None, 8, 16)        0           dense_10[0][0]                   \n",
            "__________________________________________________________________________________________________\n",
            "reshape_4 (Reshape)             (None, 8, 16)        0           dense_13[0][0]                   \n",
            "__________________________________________________________________________________________________\n",
            "reshape_5 (Reshape)             (None, 8, 16)        0           dense_16[0][0]                   \n",
            "__________________________________________________________________________________________________\n",
            "reshape_6 (Reshape)             (None, 8, 16)        0           dense_19[0][0]                   \n",
            "__________________________________________________________________________________________________\n",
            "conv1d (Conv1D)                 (None, 8, 128)       6272        reshape[0][0]                    \n",
            "__________________________________________________________________________________________________\n",
            "conv1d_1 (Conv1D)               (None, 8, 128)       6272        reshape_1[0][0]                  \n",
            "__________________________________________________________________________________________________\n",
            "conv1d_2 (Conv1D)               (None, 8, 128)       6272        reshape_2[0][0]                  \n",
            "__________________________________________________________________________________________________\n",
            "conv1d_3 (Conv1D)               (None, 8, 128)       6272        reshape_3[0][0]                  \n",
            "__________________________________________________________________________________________________\n",
            "conv1d_4 (Conv1D)               (None, 8, 128)       6272        reshape_4[0][0]                  \n",
            "__________________________________________________________________________________________________\n",
            "conv1d_5 (Conv1D)               (None, 8, 128)       6272        reshape_5[0][0]                  \n",
            "__________________________________________________________________________________________________\n",
            "conv1d_6 (Conv1D)               (None, 8, 128)       6272        reshape_6[0][0]                  \n",
            "__________________________________________________________________________________________________\n",
            "max_pooling1d (MaxPooling1D)    (None, 4, 128)       0           conv1d[0][0]                     \n",
            "__________________________________________________________________________________________________\n",
            "max_pooling1d_1 (MaxPooling1D)  (None, 4, 128)       0           conv1d_1[0][0]                   \n",
            "__________________________________________________________________________________________________\n",
            "max_pooling1d_2 (MaxPooling1D)  (None, 4, 128)       0           conv1d_2[0][0]                   \n",
            "__________________________________________________________________________________________________\n",
            "max_pooling1d_3 (MaxPooling1D)  (None, 4, 128)       0           conv1d_3[0][0]                   \n",
            "__________________________________________________________________________________________________\n",
            "max_pooling1d_4 (MaxPooling1D)  (None, 4, 128)       0           conv1d_4[0][0]                   \n",
            "__________________________________________________________________________________________________\n",
            "max_pooling1d_5 (MaxPooling1D)  (None, 4, 128)       0           conv1d_5[0][0]                   \n",
            "__________________________________________________________________________________________________\n",
            "max_pooling1d_6 (MaxPooling1D)  (None, 4, 128)       0           conv1d_6[0][0]                   \n",
            "__________________________________________________________________________________________________\n",
            "batch_normalization (BatchNorma (None, 4, 128)       512         max_pooling1d[0][0]              \n",
            "__________________________________________________________________________________________________\n",
            "batch_normalization_1 (BatchNor (None, 4, 128)       512         max_pooling1d_1[0][0]            \n",
            "__________________________________________________________________________________________________\n",
            "batch_normalization_2 (BatchNor (None, 4, 128)       512         max_pooling1d_2[0][0]            \n",
            "__________________________________________________________________________________________________\n",
            "batch_normalization_3 (BatchNor (None, 4, 128)       512         max_pooling1d_3[0][0]            \n",
            "__________________________________________________________________________________________________\n",
            "batch_normalization_4 (BatchNor (None, 4, 128)       512         max_pooling1d_4[0][0]            \n",
            "__________________________________________________________________________________________________\n",
            "batch_normalization_5 (BatchNor (None, 4, 128)       512         max_pooling1d_5[0][0]            \n",
            "__________________________________________________________________________________________________\n",
            "batch_normalization_6 (BatchNor (None, 4, 128)       512         max_pooling1d_6[0][0]            \n",
            "__________________________________________________________________________________________________\n",
            "flatten_1 (Flatten)             (None, 512)          0           batch_normalization[0][0]        \n",
            "__________________________________________________________________________________________________\n",
            "flatten_3 (Flatten)             (None, 512)          0           batch_normalization_1[0][0]      \n",
            "__________________________________________________________________________________________________\n",
            "flatten_5 (Flatten)             (None, 512)          0           batch_normalization_2[0][0]      \n",
            "__________________________________________________________________________________________________\n",
            "flatten_7 (Flatten)             (None, 512)          0           batch_normalization_3[0][0]      \n",
            "__________________________________________________________________________________________________\n",
            "flatten_9 (Flatten)             (None, 512)          0           batch_normalization_4[0][0]      \n",
            "__________________________________________________________________________________________________\n",
            "flatten_11 (Flatten)            (None, 512)          0           batch_normalization_5[0][0]      \n",
            "__________________________________________________________________________________________________\n",
            "flatten_13 (Flatten)            (None, 512)          0           batch_normalization_6[0][0]      \n",
            "__________________________________________________________________________________________________\n",
            "dense_2 (Dense)                 (None, 128)          65664       flatten_1[0][0]                  \n",
            "__________________________________________________________________________________________________\n",
            "dense_5 (Dense)                 (None, 128)          65664       flatten_3[0][0]                  \n",
            "__________________________________________________________________________________________________\n",
            "dense_8 (Dense)                 (None, 128)          65664       flatten_5[0][0]                  \n",
            "__________________________________________________________________________________________________\n",
            "dense_11 (Dense)                (None, 128)          65664       flatten_7[0][0]                  \n",
            "__________________________________________________________________________________________________\n",
            "dense_14 (Dense)                (None, 128)          65664       flatten_9[0][0]                  \n",
            "__________________________________________________________________________________________________\n",
            "dense_17 (Dense)                (None, 128)          65664       flatten_11[0][0]                 \n",
            "__________________________________________________________________________________________________\n",
            "dense_20 (Dense)                (None, 128)          65664       flatten_13[0][0]                 \n",
            "__________________________________________________________________________________________________\n",
            "dropout_1 (Dropout)             (None, 128)          0           dense_2[0][0]                    \n",
            "__________________________________________________________________________________________________\n",
            "dropout_3 (Dropout)             (None, 128)          0           dense_5[0][0]                    \n",
            "__________________________________________________________________________________________________\n",
            "dropout_5 (Dropout)             (None, 128)          0           dense_8[0][0]                    \n",
            "__________________________________________________________________________________________________\n",
            "dropout_7 (Dropout)             (None, 128)          0           dense_11[0][0]                   \n",
            "__________________________________________________________________________________________________\n",
            "dropout_9 (Dropout)             (None, 128)          0           dense_14[0][0]                   \n",
            "__________________________________________________________________________________________________\n",
            "dropout_11 (Dropout)            (None, 128)          0           dense_17[0][0]                   \n",
            "__________________________________________________________________________________________________\n",
            "dropout_13 (Dropout)            (None, 128)          0           dense_20[0][0]                   \n",
            "__________________________________________________________________________________________________\n",
            "concatenate (Concatenate)       (None, 896)          0           dropout_1[0][0]                  \n",
            "                                                                 dropout_3[0][0]                  \n",
            "                                                                 dropout_5[0][0]                  \n",
            "                                                                 dropout_7[0][0]                  \n",
            "                                                                 dropout_9[0][0]                  \n",
            "                                                                 dropout_11[0][0]                 \n",
            "                                                                 dropout_13[0][0]                 \n",
            "__________________________________________________________________________________________________\n",
            "input_8 (InputLayer)            [(None, 5)]          0                                            \n",
            "__________________________________________________________________________________________________\n",
            "dense_22 (Dense)                (None, 1028)         922116      concatenate[0][0]                \n",
            "__________________________________________________________________________________________________\n",
            "dense_21 (Dense)                (None, 256)          1536        input_8[0][0]                    \n",
            "__________________________________________________________________________________________________\n",
            "concatenate_1 (Concatenate)     (None, 1284)         0           dense_22[0][0]                   \n",
            "                                                                 dense_21[0][0]                   \n",
            "__________________________________________________________________________________________________\n",
            "dropout_14 (Dropout)            (None, 1284)         0           concatenate_1[0][0]              \n",
            "__________________________________________________________________________________________________\n",
            "dense_23 (Dense)                (None, 256)          328960      dropout_14[0][0]                 \n",
            "__________________________________________________________________________________________________\n",
            "dropout_15 (Dropout)            (None, 256)          0           dense_23[0][0]                   \n",
            "__________________________________________________________________________________________________\n",
            "dense_24 (Dense)                (None, 2)            514         dropout_15[0][0]                 \n",
            "==================================================================================================\n",
            "Total params: 18,365,502\n",
            "Trainable params: 6,927,110\n",
            "Non-trainable params: 11,438,392\n",
            "__________________________________________________________________________________________________\n"
          ],
          "name": "stdout"
        }
      ]
    },
    {
      "cell_type": "code",
      "metadata": {
        "id": "dKrxijkUPolE"
      },
      "source": [
        "train_y = to_categorical(df_train['Binary Label'], 2)\n",
        "val_y = to_categorical(df_validation['Binary Label'], 2)\n",
        "test_y = to_categorical(df_test['Binary Label'], 2)"
      ],
      "execution_count": 18,
      "outputs": []
    },
    {
      "cell_type": "code",
      "metadata": {
        "id": "OFuNIIyOPtT0"
      },
      "source": [
        "stop = EarlyStopping(monitor=\"val_acc\", patience=20, mode=\"max\")\n",
        "reduce_lr = ReduceLROnPlateau(monitor=\"val_acc\", factor=0.1, patience=10, min_lr=1e-6, verbose=1, mode=\"max\")\n",
        "optimizer = Adam(lr = 0.001)\n",
        "model_binary.compile(optimizer, loss='binary_crossentropy', metrics=['acc'])"
      ],
      "execution_count": 19,
      "outputs": []
    },
    {
      "cell_type": "code",
      "metadata": {
        "colab": {
          "base_uri": "https://localhost:8080/"
        },
        "id": "XXXX_-CFPxV4",
        "outputId": "9f57e4db-989c-4a81-9b9f-184317aba5cb"
      },
      "source": [
        "model_binary.fit([train_stmt_x, train_sub_x, train_cxt_x, train_spkr_x, train_prty_x, train_job_x, train_state_x, train_metadata], train_y,\n",
        "          epochs=10, verbose=1, validation_data=([val_stmt_x, val_sub_x, val_cxt_x, val_spkr_x, val_prty_x, val_job_x, val_state_x,\n",
        "                                                      val_metadata], val_y), callbacks=[reduce_lr, stop])"
      ],
      "execution_count": 20,
      "outputs": [
        {
          "output_type": "stream",
          "text": [
            "Epoch 1/10\n",
            "320/320 [==============================] - 94s 90ms/step - loss: 4.6617 - acc: 0.6295 - val_loss: 0.5479 - val_acc: 0.7173\n",
            "Epoch 2/10\n",
            "320/320 [==============================] - 21s 66ms/step - loss: 0.5340 - acc: 0.7307 - val_loss: 0.5183 - val_acc: 0.7220\n",
            "Epoch 3/10\n",
            "320/320 [==============================] - 21s 66ms/step - loss: 0.5281 - acc: 0.7272 - val_loss: 0.5117 - val_acc: 0.7165\n",
            "Epoch 4/10\n",
            "320/320 [==============================] - 21s 65ms/step - loss: 0.5113 - acc: 0.7335 - val_loss: 0.5030 - val_acc: 0.7188\n",
            "Epoch 5/10\n",
            "320/320 [==============================] - 21s 65ms/step - loss: 0.5170 - acc: 0.7280 - val_loss: 0.5047 - val_acc: 0.7150\n",
            "Epoch 6/10\n",
            "320/320 [==============================] - 21s 65ms/step - loss: 0.5100 - acc: 0.7326 - val_loss: 0.5122 - val_acc: 0.7126\n",
            "Epoch 7/10\n",
            "320/320 [==============================] - 21s 65ms/step - loss: 0.5113 - acc: 0.7231 - val_loss: 0.5060 - val_acc: 0.7157\n",
            "Epoch 8/10\n",
            "320/320 [==============================] - 21s 65ms/step - loss: 0.5170 - acc: 0.7257 - val_loss: 0.5049 - val_acc: 0.7150\n",
            "Epoch 9/10\n",
            "320/320 [==============================] - 21s 65ms/step - loss: 0.4994 - acc: 0.7378 - val_loss: 0.5074 - val_acc: 0.6963\n",
            "Epoch 10/10\n",
            "320/320 [==============================] - 21s 65ms/step - loss: 0.5041 - acc: 0.7321 - val_loss: 0.5013 - val_acc: 0.7157\n"
          ],
          "name": "stdout"
        },
        {
          "output_type": "execute_result",
          "data": {
            "text/plain": [
              "<tensorflow.python.keras.callbacks.History at 0x7f86e8c0b110>"
            ]
          },
          "metadata": {
            "tags": []
          },
          "execution_count": 20
        }
      ]
    },
    {
      "cell_type": "code",
      "metadata": {
        "colab": {
          "base_uri": "https://localhost:8080/"
        },
        "id": "w7b8zjilQMd4",
        "outputId": "1717b44e-7681-4678-b409-799001671937"
      },
      "source": [
        "val_loss, val_acc = model_binary.evaluate([val_stmt_x, val_sub_x, val_cxt_x, val_spkr_x, val_prty_x, val_job_x, val_state_x, val_metadata], val_y,\n",
        "                                   verbose=1)\n",
        "print('Validation Accuracy: %f' % (val_acc))\n",
        "test_loss, test_acc = model_binary.evaluate([test_stmt_x, test_sub_x, test_cxt_x, test_spkr_x, test_prty_x, test_job_x, test_state_x,  test_metadata],\n",
        "                                     test_y, verbose=1)\n",
        "print('Test Accuracy: %f' % (test_acc))"
      ],
      "execution_count": 21,
      "outputs": [
        {
          "output_type": "stream",
          "text": [
            "41/41 [==============================] - 1s 27ms/step - loss: 0.5013 - acc: 0.7157\n",
            "Validation Accuracy: 0.715732\n",
            "40/40 [==============================] - 1s 28ms/step - loss: 0.5165 - acc: 0.7348\n",
            "Test Accuracy: 0.734807\n"
          ],
          "name": "stdout"
        }
      ]
    },
    {
      "cell_type": "markdown",
      "metadata": {
        "id": "BGiHGrHTyOl9"
      },
      "source": [
        "**Multi class classification model**"
      ]
    },
    {
      "cell_type": "code",
      "metadata": {
        "id": "8bm6qKc6TR6J"
      },
      "source": [
        "train_y = to_categorical(df_train['Multi Class Label'], 6)\n",
        "val_y = to_categorical(df_validation['Multi Class Label'], 6)\n",
        "test_y = to_categorical(df_test['Multi Class Label'], 6)"
      ],
      "execution_count": 22,
      "outputs": []
    },
    {
      "cell_type": "code",
      "metadata": {
        "colab": {
          "base_uri": "https://localhost:8080/"
        },
        "id": "681wsif3vHbe",
        "outputId": "072e2259-2a25-42b2-ee27-6ea9507b6a81"
      },
      "source": [
        "stmt_input, stmt_ftrs = get_features(train_stmt_x.shape[1])\n",
        "sub_input, sub_ftrs = get_features(train_sub_x.shape[1])\n",
        "cxt_input, cxt_ftrs = get_features(train_cxt_x.shape[1])\n",
        "spkr_input, spkr_ftrs = get_features(train_spkr_x.shape[1])\n",
        "prty_input, prty_ftrs = get_features(train_prty_x.shape[1])\n",
        "job_input, job_ftrs = get_features(train_job_x.shape[1])\n",
        "state_input, state_ftrs = get_features(train_state_x.shape[1])\n",
        "\n",
        "input_tensor_3 = Input((5,))\n",
        "metadata = Dense(256, activation='relu')(input_tensor_3)\n",
        "\n",
        "out_1 = Concatenate()([stmt_ftrs, sub_ftrs, cxt_ftrs, spkr_ftrs, prty_ftrs, job_ftrs, state_ftrs])\n",
        "out = Dense(1028, activation='relu', kernel_regularizer=l2(0.0))(out_1)\n",
        "out = Concatenate()([out, metadata])\n",
        "out = Dropout(0.3)(out)\n",
        "out = Dense(256, activation='relu', kernel_regularizer=l2(0.0))(out)\n",
        "out = Dropout(0.3)(out)\n",
        "out = Dense(6, activation='softmax')(out)\n",
        "model_multi = Model(inputs = [stmt_input, sub_input, cxt_input, spkr_input, prty_input, job_input, state_input, input_tensor_3], outputs = out)\n",
        "model_multi.summary()"
      ],
      "execution_count": 23,
      "outputs": [
        {
          "output_type": "stream",
          "text": [
            "Model: \"model_1\"\n",
            "__________________________________________________________________________________________________\n",
            "Layer (type)                    Output Shape         Param #     Connected to                     \n",
            "==================================================================================================\n",
            "input_9 (InputLayer)            [(None, 50)]         0                                            \n",
            "__________________________________________________________________________________________________\n",
            "input_10 (InputLayer)           [(None, 10)]         0                                            \n",
            "__________________________________________________________________________________________________\n",
            "input_11 (InputLayer)           [(None, 25)]         0                                            \n",
            "__________________________________________________________________________________________________\n",
            "input_12 (InputLayer)           [(None, 5)]          0                                            \n",
            "__________________________________________________________________________________________________\n",
            "input_13 (InputLayer)           [(None, 5)]          0                                            \n",
            "__________________________________________________________________________________________________\n",
            "input_14 (InputLayer)           [(None, 20)]         0                                            \n",
            "__________________________________________________________________________________________________\n",
            "input_15 (InputLayer)           [(None, 5)]          0                                            \n",
            "__________________________________________________________________________________________________\n",
            "embedding_7 (Embedding)         (None, 50, 100)      1633800     input_9[0][0]                    \n",
            "__________________________________________________________________________________________________\n",
            "embedding_8 (Embedding)         (None, 10, 100)      1633800     input_10[0][0]                   \n",
            "__________________________________________________________________________________________________\n",
            "embedding_9 (Embedding)         (None, 25, 100)      1633800     input_11[0][0]                   \n",
            "__________________________________________________________________________________________________\n",
            "embedding_10 (Embedding)        (None, 5, 100)       1633800     input_12[0][0]                   \n",
            "__________________________________________________________________________________________________\n",
            "embedding_11 (Embedding)        (None, 5, 100)       1633800     input_13[0][0]                   \n",
            "__________________________________________________________________________________________________\n",
            "embedding_12 (Embedding)        (None, 20, 100)      1633800     input_14[0][0]                   \n",
            "__________________________________________________________________________________________________\n",
            "embedding_13 (Embedding)        (None, 5, 100)       1633800     input_15[0][0]                   \n",
            "__________________________________________________________________________________________________\n",
            "bidirectional_14 (Bidirectional (None, 50, 64)       34048       embedding_7[0][0]                \n",
            "__________________________________________________________________________________________________\n",
            "bidirectional_16 (Bidirectional (None, 10, 64)       34048       embedding_8[0][0]                \n",
            "__________________________________________________________________________________________________\n",
            "bidirectional_18 (Bidirectional (None, 25, 64)       34048       embedding_9[0][0]                \n",
            "__________________________________________________________________________________________________\n",
            "bidirectional_20 (Bidirectional (None, 5, 64)        34048       embedding_10[0][0]               \n",
            "__________________________________________________________________________________________________\n",
            "bidirectional_22 (Bidirectional (None, 5, 64)        34048       embedding_11[0][0]               \n",
            "__________________________________________________________________________________________________\n",
            "bidirectional_24 (Bidirectional (None, 20, 64)       34048       embedding_12[0][0]               \n",
            "__________________________________________________________________________________________________\n",
            "bidirectional_26 (Bidirectional (None, 5, 64)        34048       embedding_13[0][0]               \n",
            "__________________________________________________________________________________________________\n",
            "bidirectional_15 (Bidirectional (None, 50, 32)       10368       bidirectional_14[0][0]           \n",
            "__________________________________________________________________________________________________\n",
            "bidirectional_17 (Bidirectional (None, 10, 32)       10368       bidirectional_16[0][0]           \n",
            "__________________________________________________________________________________________________\n",
            "bidirectional_19 (Bidirectional (None, 25, 32)       10368       bidirectional_18[0][0]           \n",
            "__________________________________________________________________________________________________\n",
            "bidirectional_21 (Bidirectional (None, 5, 32)        10368       bidirectional_20[0][0]           \n",
            "__________________________________________________________________________________________________\n",
            "bidirectional_23 (Bidirectional (None, 5, 32)        10368       bidirectional_22[0][0]           \n",
            "__________________________________________________________________________________________________\n",
            "bidirectional_25 (Bidirectional (None, 20, 32)       10368       bidirectional_24[0][0]           \n",
            "__________________________________________________________________________________________________\n",
            "bidirectional_27 (Bidirectional (None, 5, 32)        10368       bidirectional_26[0][0]           \n",
            "__________________________________________________________________________________________________\n",
            "flatten_14 (Flatten)            (None, 1600)         0           bidirectional_15[0][0]           \n",
            "__________________________________________________________________________________________________\n",
            "flatten_16 (Flatten)            (None, 320)          0           bidirectional_17[0][0]           \n",
            "__________________________________________________________________________________________________\n",
            "flatten_18 (Flatten)            (None, 800)          0           bidirectional_19[0][0]           \n",
            "__________________________________________________________________________________________________\n",
            "flatten_20 (Flatten)            (None, 160)          0           bidirectional_21[0][0]           \n",
            "__________________________________________________________________________________________________\n",
            "flatten_22 (Flatten)            (None, 160)          0           bidirectional_23[0][0]           \n",
            "__________________________________________________________________________________________________\n",
            "flatten_24 (Flatten)            (None, 640)          0           bidirectional_25[0][0]           \n",
            "__________________________________________________________________________________________________\n",
            "flatten_26 (Flatten)            (None, 160)          0           bidirectional_27[0][0]           \n",
            "__________________________________________________________________________________________________\n",
            "dense_25 (Dense)                (None, 1024)         1639424     flatten_14[0][0]                 \n",
            "__________________________________________________________________________________________________\n",
            "dense_28 (Dense)                (None, 1024)         328704      flatten_16[0][0]                 \n",
            "__________________________________________________________________________________________________\n",
            "dense_31 (Dense)                (None, 1024)         820224      flatten_18[0][0]                 \n",
            "__________________________________________________________________________________________________\n",
            "dense_34 (Dense)                (None, 1024)         164864      flatten_20[0][0]                 \n",
            "__________________________________________________________________________________________________\n",
            "dense_37 (Dense)                (None, 1024)         164864      flatten_22[0][0]                 \n",
            "__________________________________________________________________________________________________\n",
            "dense_40 (Dense)                (None, 1024)         656384      flatten_24[0][0]                 \n",
            "__________________________________________________________________________________________________\n",
            "dense_43 (Dense)                (None, 1024)         164864      flatten_26[0][0]                 \n",
            "__________________________________________________________________________________________________\n",
            "dropout_16 (Dropout)            (None, 1024)         0           dense_25[0][0]                   \n",
            "__________________________________________________________________________________________________\n",
            "dropout_18 (Dropout)            (None, 1024)         0           dense_28[0][0]                   \n",
            "__________________________________________________________________________________________________\n",
            "dropout_20 (Dropout)            (None, 1024)         0           dense_31[0][0]                   \n",
            "__________________________________________________________________________________________________\n",
            "dropout_22 (Dropout)            (None, 1024)         0           dense_34[0][0]                   \n",
            "__________________________________________________________________________________________________\n",
            "dropout_24 (Dropout)            (None, 1024)         0           dense_37[0][0]                   \n",
            "__________________________________________________________________________________________________\n",
            "dropout_26 (Dropout)            (None, 1024)         0           dense_40[0][0]                   \n",
            "__________________________________________________________________________________________________\n",
            "dropout_28 (Dropout)            (None, 1024)         0           dense_43[0][0]                   \n",
            "__________________________________________________________________________________________________\n",
            "dense_26 (Dense)                (None, 128)          131200      dropout_16[0][0]                 \n",
            "__________________________________________________________________________________________________\n",
            "dense_29 (Dense)                (None, 128)          131200      dropout_18[0][0]                 \n",
            "__________________________________________________________________________________________________\n",
            "dense_32 (Dense)                (None, 128)          131200      dropout_20[0][0]                 \n",
            "__________________________________________________________________________________________________\n",
            "dense_35 (Dense)                (None, 128)          131200      dropout_22[0][0]                 \n",
            "__________________________________________________________________________________________________\n",
            "dense_38 (Dense)                (None, 128)          131200      dropout_24[0][0]                 \n",
            "__________________________________________________________________________________________________\n",
            "dense_41 (Dense)                (None, 128)          131200      dropout_26[0][0]                 \n",
            "__________________________________________________________________________________________________\n",
            "dense_44 (Dense)                (None, 128)          131200      dropout_28[0][0]                 \n",
            "__________________________________________________________________________________________________\n",
            "reshape_7 (Reshape)             (None, 8, 16)        0           dense_26[0][0]                   \n",
            "__________________________________________________________________________________________________\n",
            "reshape_8 (Reshape)             (None, 8, 16)        0           dense_29[0][0]                   \n",
            "__________________________________________________________________________________________________\n",
            "reshape_9 (Reshape)             (None, 8, 16)        0           dense_32[0][0]                   \n",
            "__________________________________________________________________________________________________\n",
            "reshape_10 (Reshape)            (None, 8, 16)        0           dense_35[0][0]                   \n",
            "__________________________________________________________________________________________________\n",
            "reshape_11 (Reshape)            (None, 8, 16)        0           dense_38[0][0]                   \n",
            "__________________________________________________________________________________________________\n",
            "reshape_12 (Reshape)            (None, 8, 16)        0           dense_41[0][0]                   \n",
            "__________________________________________________________________________________________________\n",
            "reshape_13 (Reshape)            (None, 8, 16)        0           dense_44[0][0]                   \n",
            "__________________________________________________________________________________________________\n",
            "conv1d_7 (Conv1D)               (None, 8, 128)       6272        reshape_7[0][0]                  \n",
            "__________________________________________________________________________________________________\n",
            "conv1d_8 (Conv1D)               (None, 8, 128)       6272        reshape_8[0][0]                  \n",
            "__________________________________________________________________________________________________\n",
            "conv1d_9 (Conv1D)               (None, 8, 128)       6272        reshape_9[0][0]                  \n",
            "__________________________________________________________________________________________________\n",
            "conv1d_10 (Conv1D)              (None, 8, 128)       6272        reshape_10[0][0]                 \n",
            "__________________________________________________________________________________________________\n",
            "conv1d_11 (Conv1D)              (None, 8, 128)       6272        reshape_11[0][0]                 \n",
            "__________________________________________________________________________________________________\n",
            "conv1d_12 (Conv1D)              (None, 8, 128)       6272        reshape_12[0][0]                 \n",
            "__________________________________________________________________________________________________\n",
            "conv1d_13 (Conv1D)              (None, 8, 128)       6272        reshape_13[0][0]                 \n",
            "__________________________________________________________________________________________________\n",
            "max_pooling1d_7 (MaxPooling1D)  (None, 4, 128)       0           conv1d_7[0][0]                   \n",
            "__________________________________________________________________________________________________\n",
            "max_pooling1d_8 (MaxPooling1D)  (None, 4, 128)       0           conv1d_8[0][0]                   \n",
            "__________________________________________________________________________________________________\n",
            "max_pooling1d_9 (MaxPooling1D)  (None, 4, 128)       0           conv1d_9[0][0]                   \n",
            "__________________________________________________________________________________________________\n",
            "max_pooling1d_10 (MaxPooling1D) (None, 4, 128)       0           conv1d_10[0][0]                  \n",
            "__________________________________________________________________________________________________\n",
            "max_pooling1d_11 (MaxPooling1D) (None, 4, 128)       0           conv1d_11[0][0]                  \n",
            "__________________________________________________________________________________________________\n",
            "max_pooling1d_12 (MaxPooling1D) (None, 4, 128)       0           conv1d_12[0][0]                  \n",
            "__________________________________________________________________________________________________\n",
            "max_pooling1d_13 (MaxPooling1D) (None, 4, 128)       0           conv1d_13[0][0]                  \n",
            "__________________________________________________________________________________________________\n",
            "batch_normalization_7 (BatchNor (None, 4, 128)       512         max_pooling1d_7[0][0]            \n",
            "__________________________________________________________________________________________________\n",
            "batch_normalization_8 (BatchNor (None, 4, 128)       512         max_pooling1d_8[0][0]            \n",
            "__________________________________________________________________________________________________\n",
            "batch_normalization_9 (BatchNor (None, 4, 128)       512         max_pooling1d_9[0][0]            \n",
            "__________________________________________________________________________________________________\n",
            "batch_normalization_10 (BatchNo (None, 4, 128)       512         max_pooling1d_10[0][0]           \n",
            "__________________________________________________________________________________________________\n",
            "batch_normalization_11 (BatchNo (None, 4, 128)       512         max_pooling1d_11[0][0]           \n",
            "__________________________________________________________________________________________________\n",
            "batch_normalization_12 (BatchNo (None, 4, 128)       512         max_pooling1d_12[0][0]           \n",
            "__________________________________________________________________________________________________\n",
            "batch_normalization_13 (BatchNo (None, 4, 128)       512         max_pooling1d_13[0][0]           \n",
            "__________________________________________________________________________________________________\n",
            "flatten_15 (Flatten)            (None, 512)          0           batch_normalization_7[0][0]      \n",
            "__________________________________________________________________________________________________\n",
            "flatten_17 (Flatten)            (None, 512)          0           batch_normalization_8[0][0]      \n",
            "__________________________________________________________________________________________________\n",
            "flatten_19 (Flatten)            (None, 512)          0           batch_normalization_9[0][0]      \n",
            "__________________________________________________________________________________________________\n",
            "flatten_21 (Flatten)            (None, 512)          0           batch_normalization_10[0][0]     \n",
            "__________________________________________________________________________________________________\n",
            "flatten_23 (Flatten)            (None, 512)          0           batch_normalization_11[0][0]     \n",
            "__________________________________________________________________________________________________\n",
            "flatten_25 (Flatten)            (None, 512)          0           batch_normalization_12[0][0]     \n",
            "__________________________________________________________________________________________________\n",
            "flatten_27 (Flatten)            (None, 512)          0           batch_normalization_13[0][0]     \n",
            "__________________________________________________________________________________________________\n",
            "dense_27 (Dense)                (None, 128)          65664       flatten_15[0][0]                 \n",
            "__________________________________________________________________________________________________\n",
            "dense_30 (Dense)                (None, 128)          65664       flatten_17[0][0]                 \n",
            "__________________________________________________________________________________________________\n",
            "dense_33 (Dense)                (None, 128)          65664       flatten_19[0][0]                 \n",
            "__________________________________________________________________________________________________\n",
            "dense_36 (Dense)                (None, 128)          65664       flatten_21[0][0]                 \n",
            "__________________________________________________________________________________________________\n",
            "dense_39 (Dense)                (None, 128)          65664       flatten_23[0][0]                 \n",
            "__________________________________________________________________________________________________\n",
            "dense_42 (Dense)                (None, 128)          65664       flatten_25[0][0]                 \n",
            "__________________________________________________________________________________________________\n",
            "dense_45 (Dense)                (None, 128)          65664       flatten_27[0][0]                 \n",
            "__________________________________________________________________________________________________\n",
            "dropout_17 (Dropout)            (None, 128)          0           dense_27[0][0]                   \n",
            "__________________________________________________________________________________________________\n",
            "dropout_19 (Dropout)            (None, 128)          0           dense_30[0][0]                   \n",
            "__________________________________________________________________________________________________\n",
            "dropout_21 (Dropout)            (None, 128)          0           dense_33[0][0]                   \n",
            "__________________________________________________________________________________________________\n",
            "dropout_23 (Dropout)            (None, 128)          0           dense_36[0][0]                   \n",
            "__________________________________________________________________________________________________\n",
            "dropout_25 (Dropout)            (None, 128)          0           dense_39[0][0]                   \n",
            "__________________________________________________________________________________________________\n",
            "dropout_27 (Dropout)            (None, 128)          0           dense_42[0][0]                   \n",
            "__________________________________________________________________________________________________\n",
            "dropout_29 (Dropout)            (None, 128)          0           dense_45[0][0]                   \n",
            "__________________________________________________________________________________________________\n",
            "concatenate_2 (Concatenate)     (None, 896)          0           dropout_17[0][0]                 \n",
            "                                                                 dropout_19[0][0]                 \n",
            "                                                                 dropout_21[0][0]                 \n",
            "                                                                 dropout_23[0][0]                 \n",
            "                                                                 dropout_25[0][0]                 \n",
            "                                                                 dropout_27[0][0]                 \n",
            "                                                                 dropout_29[0][0]                 \n",
            "__________________________________________________________________________________________________\n",
            "input_16 (InputLayer)           [(None, 5)]          0                                            \n",
            "__________________________________________________________________________________________________\n",
            "dense_47 (Dense)                (None, 1028)         922116      concatenate_2[0][0]              \n",
            "__________________________________________________________________________________________________\n",
            "dense_46 (Dense)                (None, 256)          1536        input_16[0][0]                   \n",
            "__________________________________________________________________________________________________\n",
            "concatenate_3 (Concatenate)     (None, 1284)         0           dense_47[0][0]                   \n",
            "                                                                 dense_46[0][0]                   \n",
            "__________________________________________________________________________________________________\n",
            "dropout_30 (Dropout)            (None, 1284)         0           concatenate_3[0][0]              \n",
            "__________________________________________________________________________________________________\n",
            "dense_48 (Dense)                (None, 256)          328960      dropout_30[0][0]                 \n",
            "__________________________________________________________________________________________________\n",
            "dropout_31 (Dropout)            (None, 256)          0           dense_48[0][0]                   \n",
            "__________________________________________________________________________________________________\n",
            "dense_49 (Dense)                (None, 6)            1542        dropout_31[0][0]                 \n",
            "==================================================================================================\n",
            "Total params: 18,366,530\n",
            "Trainable params: 6,928,138\n",
            "Non-trainable params: 11,438,392\n",
            "__________________________________________________________________________________________________\n"
          ],
          "name": "stdout"
        }
      ]
    },
    {
      "cell_type": "code",
      "metadata": {
        "id": "k9Dz2T_2vRYx"
      },
      "source": [
        "stop = EarlyStopping(monitor=\"val_acc\", patience=20, mode=\"max\")\n",
        "reduce_lr = ReduceLROnPlateau(monitor=\"val_acc\", factor=0.1, patience=10, min_lr=1e-6, verbose=1, mode=\"max\")\n",
        "optimizer = Adam(lr = 0.001)\n",
        "model_multi.compile(optimizer, loss='binary_crossentropy', metrics=['acc'])"
      ],
      "execution_count": 24,
      "outputs": []
    },
    {
      "cell_type": "code",
      "metadata": {
        "colab": {
          "base_uri": "https://localhost:8080/"
        },
        "id": "ZEnz0xU7vYCs",
        "outputId": "6a19cb27-6036-4501-a800-5b32f10663ec"
      },
      "source": [
        "model_multi.fit([train_stmt_x, train_sub_x, train_cxt_x, train_spkr_x, train_prty_x, train_job_x, train_state_x, train_metadata], train_y,\n",
        "          epochs=10, verbose=1, validation_data=([val_stmt_x, val_sub_x, val_cxt_x, val_spkr_x, val_prty_x, val_job_x, val_state_x,\n",
        "                                                      val_metadata], val_y), callbacks=[reduce_lr, stop])"
      ],
      "execution_count": 25,
      "outputs": [
        {
          "output_type": "stream",
          "text": [
            "Epoch 1/10\n",
            "320/320 [==============================] - 62s 89ms/step - loss: 4.1287 - acc: 0.2854 - val_loss: 0.3883 - val_acc: 0.4766\n",
            "Epoch 2/10\n",
            "320/320 [==============================] - 21s 66ms/step - loss: 0.3788 - acc: 0.4417 - val_loss: 0.3511 - val_acc: 0.4455\n",
            "Epoch 3/10\n",
            "320/320 [==============================] - 21s 65ms/step - loss: 0.3577 - acc: 0.4480 - val_loss: 0.3425 - val_acc: 0.4579\n",
            "Epoch 4/10\n",
            "320/320 [==============================] - 21s 65ms/step - loss: 0.3498 - acc: 0.4489 - val_loss: 0.3384 - val_acc: 0.4611\n",
            "Epoch 5/10\n",
            "320/320 [==============================] - 21s 65ms/step - loss: 0.3457 - acc: 0.4512 - val_loss: 0.3378 - val_acc: 0.4517\n",
            "Epoch 6/10\n",
            "320/320 [==============================] - 21s 65ms/step - loss: 0.3432 - acc: 0.4571 - val_loss: 0.3354 - val_acc: 0.4525\n",
            "Epoch 7/10\n",
            "320/320 [==============================] - 21s 65ms/step - loss: 0.3430 - acc: 0.4432 - val_loss: 0.3354 - val_acc: 0.4579\n",
            "Epoch 8/10\n",
            "320/320 [==============================] - 21s 66ms/step - loss: 0.3356 - acc: 0.4668 - val_loss: 0.3354 - val_acc: 0.4681\n",
            "Epoch 9/10\n",
            "320/320 [==============================] - 21s 65ms/step - loss: 0.3392 - acc: 0.4516 - val_loss: 0.3342 - val_acc: 0.4650\n",
            "Epoch 10/10\n",
            "320/320 [==============================] - 21s 65ms/step - loss: 0.3403 - acc: 0.4533 - val_loss: 0.3370 - val_acc: 0.4424\n"
          ],
          "name": "stdout"
        },
        {
          "output_type": "execute_result",
          "data": {
            "text/plain": [
              "<tensorflow.python.keras.callbacks.History at 0x7f8694f8d150>"
            ]
          },
          "metadata": {
            "tags": []
          },
          "execution_count": 25
        }
      ]
    },
    {
      "cell_type": "code",
      "metadata": {
        "colab": {
          "base_uri": "https://localhost:8080/"
        },
        "id": "pqqnSEocvbtJ",
        "outputId": "2aa77c84-df46-4428-f2c3-9c65a8cc2dab"
      },
      "source": [
        "val_loss, val_acc = model_multi.evaluate([val_stmt_x, val_sub_x, val_cxt_x, val_spkr_x, val_prty_x, val_job_x, val_state_x, val_metadata], val_y,\n",
        "                                   verbose=1)\n",
        "print('Validation Accuracy: %f' % (val_acc))\n",
        "test_loss, test_acc = model_multi.evaluate([test_stmt_x, test_sub_x, test_cxt_x, test_spkr_x, test_prty_x, test_job_x, test_state_x, test_metadata],\n",
        "                                     test_y, verbose=1)\n",
        "print('Test Accuracy: %f' % (test_acc))"
      ],
      "execution_count": 26,
      "outputs": [
        {
          "output_type": "stream",
          "text": [
            "41/41 [==============================] - 1s 26ms/step - loss: 0.3370 - acc: 0.4424\n",
            "Validation Accuracy: 0.442368\n",
            "40/40 [==============================] - 1s 27ms/step - loss: 0.3457 - acc: 0.4428\n",
            "Test Accuracy: 0.442778\n"
          ],
          "name": "stdout"
        }
      ]
    },
    {
      "cell_type": "code",
      "metadata": {
        "id": "_qp_x50AwpOQ"
      },
      "source": [
        ""
      ],
      "execution_count": null,
      "outputs": []
    }
  ]
}